{
 "cells": [
  {
   "cell_type": "code",
   "execution_count": 1,
   "metadata": {},
   "outputs": [
    {
     "name": "stderr",
     "output_type": "stream",
     "text": [
      "\u001b[32m\u001b[1m  Activating\u001b[22m\u001b[39m project at `~/GitHub/ClassicalLambda/env`\n"
     ]
    }
   ],
   "source": [
    "# initialize project:\n",
    "using Pkg; Pkg.activate(\"./env\");;\n",
    "\n",
    "#using Nemo; const nm = Nemo\n",
    "\n",
    "# Find current path\n",
    "CURRENT = pwd(); LIB_PATH = joinpath(CURRENT,\"lib\");;\n",
    "\n",
    "# include auxilliary functions:\n",
    "for file in readdir(LIB_PATH); include(joinpath(LIB_PATH,file)); end;"
   ]
  },
  {
   "cell_type": "markdown",
   "metadata": {},
   "source": [
    "# Introduction and background:\n",
    "Following the notation and convention of [arXiv:2312.10734](https://arxiv.org/abs/2312.10734), we can model a system of $n$-qubits by a Hilbert space $\\mathcal{H} = (\\mathbb{C}^2)^{\\otimes n}$. Hermitian operators $\\text{Herm}(\\mathcal{H})$ form a real vector space with Hilbert-Schmidt inner product $\\langle A,B \\rangle = \\text{Tr}(AB)$ for $A,B\\in\\text{Herm}(\\mathcal{H})$."
   ]
  },
  {
   "cell_type": "markdown",
   "metadata": {},
   "source": [
    "## Stabilizer polytopes and $\\Lambda$ polytopes\n",
    "\n",
    "The single-qubit Pauli operators are given by\n",
    "\n",
    "$$X = \\begin{bmatrix} 0 &  1\\\\ 1 &  0\\end{bmatrix},\\quad%\n",
    "  Y = \\begin{bmatrix} 0 & -i\\\\ i &  0\\end{bmatrix},\\quad%\n",
    "  Z = \\begin{bmatrix} 1 &  0\\\\ 0 &  -1\\end{bmatrix}.$$\n",
    "\n",
    "  For $n$-qubits a Hermitian matrix $T$ is called a Pauli operator if it is of the form\n",
    "\n",
    "  $$T = A_1\\otimes\\cdots\\otimes A_n\\quad\\text{where}\\quad A_i\\in \\{I,X,Y,Z\\}.$$\n",
    "\n",
    "\n",
    "The set of all Pauli operators form an orthogonal basis for the space of Hermitian matrices so that for any Hermitian matrix $A$ we have\n",
    "\n",
    "$$A = \\frac{1}{2^n} \\sum_{T}\\alpha_T T~,$$\n",
    "\n",
    "where the $\\alpha_T\\in\\mathbb{R}$ can be interpreted as the expectation value of the Pauli observable $T$ via the Born rule:\n",
    "\n",
    "$$\\langle A,T \\rangle = \\text{Tr}(AT) = \\alpha_T~.$$\n",
    "\n",
    "Thus any $A\\in\\text{Herm}(\\mathcal{H})$ can be fully characterized by a vector $\\alpha \\in\\mathbb{R}^{4^n}$ whose components are $\\alpha_T$. For Hermitian matrices with $\\text{Tr}(A) = 1$ this sets $\\alpha_I = 1$ and we can work concretely in a real Euclidean space $\\mathbb{R}^{4^n-1}$.\n",
    "\n",
    "The $n$-qubit Pauli group $P_n$ consists of all Pauli operators $i^\\zeta T$ where $\\zeta \\in \\mathbb{Z}_4$. The $n$-qubit Clifford group is defined as $\\text{Cl}_n = P_n/\\left \\langle e^{i\\theta}I~:~\\theta\\in \\mathbb{R}\\right\\rangle$. A stabilizer group $S\\subset P_n$ is an abelian subgroup of the Pauli group in which all elements square to the identity. We call a stabilizer group maximal if the number of independent Pauli elements is $n$. Here we deal only with maximal stabilizer groups. By definition, for each stabilizer group there exists some $\\left | \\psi_S\\right \\rangle\\in \\mathcal{H}$ such that $s\\left | \\psi_S\\right \\rangle = \\left | \\psi_S\\right \\rangle$ for all $s\\in S$.\n",
    "\n",
    "The projector $\\Pi_S$ onto the mutual $+1$ eigenspace of each $s\\in S$ is given by:\n",
    "\n",
    "$$\\Pi_S = \\frac{1}{2^n}\\sum_{s\\in S} s~.$$\n",
    "\n",
    "Let $\\mathcal{S}_n$ be the set of $n$-qubit stabilizer groups. The stabilizer polytope $\\text{SP}_n$ is defined as the convex hull of stabilizer states. Its polar dual $\\Lambda_n := \\text{SP}_n^\\ast$ can be formally defined as\n",
    "\n",
    "$$\\Lambda_n := \\left \\{ A\\in \\text{Herm}(\\mathcal{H})~:~\\text{Tr}(A) = 1,~\\text{Tr}(\\Pi_SA)\\geq 0~\\forall S\\in \\mathcal{S}_n \\right\\}~.$$"
   ]
  },
  {
   "cell_type": "markdown",
   "metadata": {},
   "source": [
    "## ${2}$-qubits\n",
    "\n",
    "Consider the $2$-qubit case. We call a Pauli operator *local* if it is of the form $A\\otimes I$ or $I\\otimes A$, where $A\\in \\{X,Y,Z\\}$ is a single qubit Pauli matrix; otherwise we call it *nonlocal*. Let us organize our Pauli coordinates into local-nonlocal parts, such that $\\alpha = ({\\alpha}^\\ell,{\\alpha}^{n\\ell})\\in \\mathbb{R}^{15}$, where:\n",
    "\n",
    "$${\\alpha}^\\ell = \\left(\\alpha_{XI},\\alpha_{YI},\\alpha_{ZI},\\alpha_{IX},\\alpha_{IY},\\alpha_{IZ} \\right)\\in \\mathbb{R}^6$$\n",
    "$${\\alpha}^{n\\ell} = \\left(\\alpha_{XX},\\alpha_{XY},\\alpha_{XZ},\\alpha_{YX},\\alpha_{YY},\\alpha_{YZ},\\alpha_{ZX},\\alpha_{ZY},\\alpha_{ZZ} \\right)\\in\\mathbb{R}^9.$$\n",
    "\n",
    "**Convention**: we index our coordinates by $1,\\cdots,6$ for the local part while $a = 7,\\cdots,15$ the nonlocal coordinates. (If the homogenizing coordinate $\\alpha_I = 1$ is included then this offset by one so that the local coordinates have index $2,\\cdots,7$, while the nonlocal coordinates have index $8,\\cdots,16$.)\n",
    "\n",
    "For $2$-qubits there are (up to signs) $15$ stabilizer groups. If a stabilizer group contains a local Pauli then it is called local; otherwise it is called nonlocal. There are $9$ local stabilizer groups and $6$ nonlocal ones. Disregarding the signs of the Pauli operators, the stabilizer groups consist of the Pauli operators:\n",
    "\n",
    "\\begin{align}\n",
    "{\\textbf{Local}:}\\quad\\quad & \\{I,XI,IX,XX\\}, \\{I,XI,IY,XY\\}, \\{I,XI,IZ,XZ\\},\\notag\\\\\n",
    "                                 & \\{I,YI,IX,YX\\}, \\{I,YI,IY,YY\\}, \\{I,YI,IZ,YZ\\},\\notag\\\\\n",
    "                                 & \\{I,ZI,IX,ZX\\}, \\{I,ZI,IY,ZY\\}, \\{I,ZI,IZ,ZZ\\},\\notag\\\\\n",
    "{\\textbf{Nonlocal}:}\\quad\\quad & \\{I,XY,YX,ZZ\\}, \\{I,YZ,ZY,XX\\}, \\{I,ZX,XZ,YY\\},\\notag\\\\\n",
    "                                 & \\{I,XY,ZX,YZ\\}, \\{I,YX,XZ,ZY\\}, \\{I,ZZ,YY,XX\\}.\\notag\n",
    "\\end{align}\n",
    "\n",
    "In all but the last row, this products of Pauli operators multiplies to the $I$ whereas for the last row they multiply to $-I$.  For instance, we have\n",
    "\n",
    "$$I\\cdot XY \\cdot YZ \\cdot ZZ = I\\quad \\text{while} \\quad I\\cdot XX \\cdot ZZ \\cdot YY = - I~.$$\n",
    "\n",
    "More generally, for commuting Pauli operators $A,B,AB$ their product satisfies $A\\cdot B\\cdot AB = (-1)^{\\beta(A,B)} I$, where $\\beta(A,B)\\in \\mathbb{Z}_2$. The function $\\beta(A,B)$ can, in fact, be given a topological interpretation (see e.g., [arXiv:1701.01888](https://arxiv.org/abs/1701.01888)) and is the source of state-independent contextuality with qubits.\n",
    "\n"
   ]
  },
  {
   "cell_type": "markdown",
   "metadata": {},
   "source": [
    "## ${2}$-qubit $\\Lambda$ polytopes\n",
    "\n",
    "Given a Hermitian $A\\in \\text{Herm}(\\mathcal{H})$ with unit trace together with a stabilizer state $\\Pi_S$ where $S=\\{I,(-1)^a A,(-1)^b B,(-1)^{a+b+\\beta(A,B)} AB\\}$ ($a,b \\in \\mathbb{Z}_2$) we can define via the Born rule an inequality:\n",
    "\n",
    "$$\\text{Tr}(A\\Pi_S) =  1+(-1)^a\\alpha_A+(-1)^b\\alpha_B+(-1)^{a+b+\\beta(A,B)}\\alpha_A \\geq 0.$$\n",
    "\n",
    "This is just the same as\n",
    "\n",
    "$$(-1)^a\\alpha_A+(-1)^b\\alpha_B+(-1)^{a+b+\\beta(A,B)}\\alpha_A \\geq -1~.$$\n",
    "\n",
    "We can encode this system of linear inequalities into a matrix form $M\\alpha \\geq -\\mathbb{1}_{60}$, where $\\mathbb{1}_{60}$ is a vector of all ones and $M\\in \\mathbb{R}^{60\\times 15}$ is a matrix whose components are\n",
    "\n",
    "$$M_{S,T} = \\text{Tr}(\\Pi_S T).$$\n",
    "\n",
    "We then have that $\\Lambda_2$ can be defined as\n",
    "\n",
    "$$\\Lambda_2 := \\left \\{ \\alpha \\in \\mathbb{R}^{15}~:~M\\alpha\\geq -\\mathbb{1}_{60}\\right \\}.$$\n",
    "\n",
    "We have $9$ stabilizer groups that are local and $6$ stabilizer groups that are nonlocal. We thus have $36$ local stabilizer states and $24$ nonlocal stabilizer states. Let $M^\\ell$ and $M^{n\\ell}$ be a submatrix of $M$ corresponding to those local and nonlocal stabilizer states, respectively. We thus define the local and nonlocal $\\Lambda$-polytopes as\n",
    "\\begin{align}\n",
    "\\Lambda_2^\\ell &:= \\left \\{ \\alpha \\in \\mathbb{R}^{15}~:~M^{\\ell}\\alpha\\geq -\\mathbb{1}_{36}\\right \\},\\\\\n",
    "\\Lambda_2^{n\\ell} &:= \\left \\{ \\alpha \\in \\mathbb{R}^{15}~:~M^{n\\ell}\\alpha\\geq -\\mathbb{1}_{24}\\right \\}.\n",
    "\\end{align}"
   ]
  },
  {
   "cell_type": "markdown",
   "metadata": {},
   "source": [
    "# Topological picture of stabilizer groups\n",
    "\n",
    "Here we construct the matrix $M$ as well as $M^\\ell$ and $M^{n\\ell}$. We use the convention described in [twodim.jl](./lib/twodim.jl). In particular, each set of commuting Pauli observables $\\{A,B,AB\\}$ is associated with a triangle whose faces (or edges) are $A,B,AB$. Two triangles are glued along a common edge if they share a common Pauli observable"
   ]
  },
  {
   "cell_type": "markdown",
   "metadata": {},
   "source": [
    "#### Pauli observables (edges)\n",
    "\n",
    "Each distinct Pauli operator $T$ is given an identifying index and assigned a topological space, an edge or $1$-simplex. For completeness we must also specify the faces of the edge (its vertices or $0$-simplices). (In fact, without loss of generality, all vertices can be identified to a point.) \n",
    "\n",
    "As mentioned above, we use the ordering convention: $XI,YI,ZI,IX,IX,IZ,XX,XY,XZ,...,ZY,ZZ$ which corresponds to $1,2,\\cdots,15$."
   ]
  },
  {
   "cell_type": "code",
   "execution_count": 2,
   "metadata": {},
   "outputs": [],
   "source": [
    "# Vertices, Edges:\n",
    "X0 = [1]; X1 = [[i,[1,1]] for i in 1:15];"
   ]
  },
  {
   "cell_type": "code",
   "execution_count": 3,
   "metadata": {},
   "outputs": [],
   "source": [
    "# Pauli operators in local-nonlocal order:\n",
    "P2 = [\"II\",\"XI\",\"YI\",\"ZI\",\"IX\",\"IY\",\"IZ\",\"XX\",\"XY\",\"XZ\",\"YX\",\"YY\",\"YZ\",\"ZX\",\"ZY\",\"ZZ\"];"
   ]
  },
  {
   "cell_type": "markdown",
   "metadata": {},
   "source": [
    "#### Stabilizer groups (triangles)\n",
    "\n",
    "We associate an index $i = 1,\\cdots,15$ with each of the maximal commuting sets of Pauli observables. To each index we assign a topological space (a triangle) for which we specify its faces (i.e., the edges or Pauli observables appearing in that set)."
   ]
  },
  {
   "cell_type": "code",
   "execution_count": 4,
   "metadata": {},
   "outputs": [],
   "source": [
    "# Generate arrays corresponding to local stabilizer groups:\n",
    "X2loc =\n",
    "[[1,[1,4,7]],\n",
    "[2,[1,5,8]],\n",
    "[3,[1,6,9]],\n",
    "[4,[2,4,10]],\n",
    "[5,[2,5,11]],[6,[2,6,12]],\n",
    "[7,[3,4,13]],[8,[3,5,14]],[9,[3,6,15]]];\n",
    "\n",
    "# Generate arrays corresponding to local stabilizer groups:                   \n",
    "X2nloc = [[10,[8,10,15]],[11,[12,14,7]],[12,[13,9,11]],\n",
    "[13,[8,13,12]],[14,[10,9,14]],[15,[15,11,7]]];\n",
    "\n",
    "# All 2-qubit stabilizer groups (triangles):\n",
    "X2 = vcat(X2loc,X2nloc);\n",
    "\n",
    "# Two-dimensional simplicial sets:\n",
    "X = [X0,X1,X2]; Xloc = [X0,X1,X2loc]; Xnloc = [X0,X1,X2nloc];"
   ]
  },
  {
   "cell_type": "code",
   "execution_count": 5,
   "metadata": {},
   "outputs": [],
   "source": [
    "# Some sets have the property that multiplying all the Pauli operators A*B*AB = -I:\n",
    "T = [[13,1,2],[14,1,2],[15,1,2]];"
   ]
  },
  {
   "cell_type": "code",
   "execution_count": 6,
   "metadata": {},
   "outputs": [
    {
     "data": {
      "text/plain": [
       "36×16 Matrix{Int64}:\n",
       " 1   1  0   0   1   0   0   1   0  0  0  0  0   0   0   0\n",
       " 1  -1  0   0  -1   0   0   1   0  0  0  0  0   0   0   0\n",
       " 1   1  0   0  -1   0   0  -1   0  0  0  0  0   0   0   0\n",
       " 1  -1  0   0   1   0   0  -1   0  0  0  0  0   0   0   0\n",
       " 1   1  0   0   0   1   0   0   1  0  0  0  0   0   0   0\n",
       " 1  -1  0   0   0  -1   0   0   1  0  0  0  0   0   0   0\n",
       " 1   1  0   0   0  -1   0   0  -1  0  0  0  0   0   0   0\n",
       " 1  -1  0   0   0   1   0   0  -1  0  0  0  0   0   0   0\n",
       " 1   1  0   0   0   0   1   0   0  1  0  0  0   0   0   0\n",
       " 1  -1  0   0   0   0  -1   0   0  1  0  0  0   0   0   0\n",
       " ⋮                  ⋮                 ⋮                 ⋮\n",
       " 1   0  0  -1   1   0   0   0   0  0  0  0  0  -1   0   0\n",
       " 1   0  0   1   0   1   0   0   0  0  0  0  0   0   1   0\n",
       " 1   0  0  -1   0  -1   0   0   0  0  0  0  0   0   1   0\n",
       " 1   0  0   1   0  -1   0   0   0  0  0  0  0   0  -1   0\n",
       " 1   0  0  -1   0   1   0   0   0  0  0  0  0   0  -1   0\n",
       " 1   0  0   1   0   0   1   0   0  0  0  0  0   0   0   1\n",
       " 1   0  0  -1   0   0  -1   0   0  0  0  0  0   0   0   1\n",
       " 1   0  0   1   0   0  -1   0   0  0  0  0  0   0   0  -1\n",
       " 1   0  0  -1   0   0   1   0   0  0  0  0  0   0   0  -1"
      ]
     },
     "metadata": {},
     "output_type": "display_data"
    }
   ],
   "source": [
    "# Generate representation matrix Mloc:\n",
    "Mloc = spaces_to_inequalities(Xloc)"
   ]
  },
  {
   "cell_type": "code",
   "execution_count": 7,
   "metadata": {},
   "outputs": [
    {
     "data": {
      "text/plain": [
       "24×16 Matrix{Int64}:\n",
       " 1  0  0  0  0  0  0   0   1   0   1   0   0   0   0   1\n",
       " 1  0  0  0  0  0  0   0  -1   0  -1   0   0   0   0   1\n",
       " 1  0  0  0  0  0  0   0   1   0  -1   0   0   0   0  -1\n",
       " 1  0  0  0  0  0  0   0  -1   0   1   0   0   0   0  -1\n",
       " 1  0  0  0  0  0  0   1   0   0   0   0   1   0   1   0\n",
       " 1  0  0  0  0  0  0   1   0   0   0   0  -1   0  -1   0\n",
       " 1  0  0  0  0  0  0  -1   0   0   0   0   1   0  -1   0\n",
       " 1  0  0  0  0  0  0  -1   0   0   0   0  -1   0   1   0\n",
       " 1  0  0  0  0  0  0   0   0   1   0   1   0   1   0   0\n",
       " 1  0  0  0  0  0  0   0   0  -1   0   1   0  -1   0   0\n",
       " ⋮              ⋮                  ⋮                   ⋮\n",
       " 1  0  0  0  0  0  0   0  -1   0   0   0  -1  -1   0   0\n",
       " 1  0  0  0  0  0  0   0   0  -1   1   0   0   0   1   0\n",
       " 1  0  0  0  0  0  0   0   0   1  -1   0   0   0   1   0\n",
       " 1  0  0  0  0  0  0   0   0   1   1   0   0   0  -1   0\n",
       " 1  0  0  0  0  0  0   0   0  -1  -1   0   0   0  -1   0\n",
       " 1  0  0  0  0  0  0   1   0   0   0  -1   0   0   0   1\n",
       " 1  0  0  0  0  0  0   1   0   0   0   1   0   0   0  -1\n",
       " 1  0  0  0  0  0  0  -1   0   0   0   1   0   0   0   1\n",
       " 1  0  0  0  0  0  0  -1   0   0   0  -1   0   0   0  -1"
      ]
     },
     "metadata": {},
     "output_type": "display_data"
    }
   ],
   "source": [
    "# Generate representation matrix Mloc:\n",
    "Mnloc = spaces_to_inequalities(Xnloc,T)"
   ]
  },
  {
   "cell_type": "code",
   "execution_count": 8,
   "metadata": {},
   "outputs": [
    {
     "data": {
      "text/plain": [
       "60×16 Matrix{Rational{Int64}}:\n",
       " 1   1  0  0   1   0   0   1   0   0   0   0   0   0   0   0\n",
       " 1  -1  0  0  -1   0   0   1   0   0   0   0   0   0   0   0\n",
       " 1   1  0  0  -1   0   0  -1   0   0   0   0   0   0   0   0\n",
       " 1  -1  0  0   1   0   0  -1   0   0   0   0   0   0   0   0\n",
       " 1   1  0  0   0   1   0   0   1   0   0   0   0   0   0   0\n",
       " 1  -1  0  0   0  -1   0   0   1   0   0   0   0   0   0   0\n",
       " 1   1  0  0   0  -1   0   0  -1   0   0   0   0   0   0   0\n",
       " 1  -1  0  0   0   1   0   0  -1   0   0   0   0   0   0   0\n",
       " 1   1  0  0   0   0   1   0   0   1   0   0   0   0   0   0\n",
       " 1  -1  0  0   0   0  -1   0   0   1   0   0   0   0   0   0\n",
       " ⋮                 ⋮                   ⋮                   ⋮\n",
       " 1   0  0  0   0   0   0   0  -1   0   0   0  -1  -1   0   0\n",
       " 1   0  0  0   0   0   0   0   0  -1   1   0   0   0   1   0\n",
       " 1   0  0  0   0   0   0   0   0   1  -1   0   0   0   1   0\n",
       " 1   0  0  0   0   0   0   0   0   1   1   0   0   0  -1   0\n",
       " 1   0  0  0   0   0   0   0   0  -1  -1   0   0   0  -1   0\n",
       " 1   0  0  0   0   0   0   1   0   0   0  -1   0   0   0   1\n",
       " 1   0  0  0   0   0   0   1   0   0   0   1   0   0   0  -1\n",
       " 1   0  0  0   0   0   0  -1   0   0   0   1   0   0   0   1\n",
       " 1   0  0  0   0   0   0  -1   0   0   0  -1   0   0   0  -1"
      ]
     },
     "metadata": {},
     "output_type": "display_data"
    }
   ],
   "source": [
    "# Generate representation matrix M:\n",
    "M = Matrix{Rational{Int64}}(vcat(Mloc,Mnloc))"
   ]
  },
  {
   "cell_type": "code",
   "execution_count": 9,
   "metadata": {},
   "outputs": [],
   "source": [
    "# Local inequalities indices:\n",
    "Kloc = [i for i in 1:36];;"
   ]
  },
  {
   "cell_type": "code",
   "execution_count": 10,
   "metadata": {},
   "outputs": [
    {
     "data": {
      "text/plain": [
       "64×16 Matrix{Rational{Int64}}:\n",
       " 1   1   1   1   1   1   1   1   1   1   1   1   1   1   1   1\n",
       " 1   1   1   1   1   1  -1   1   1  -1   1   1  -1   1   1  -1\n",
       " 1   1   1   1   1  -1   1   1  -1   1   1  -1   1   1  -1   1\n",
       " 1   1   1   1   1  -1  -1   1  -1  -1   1  -1  -1   1  -1  -1\n",
       " 1   1   1   1  -1   1   1  -1   1   1  -1   1   1  -1   1   1\n",
       " 1   1   1   1  -1   1  -1  -1   1  -1  -1   1  -1  -1   1  -1\n",
       " 1   1   1   1  -1  -1   1  -1  -1   1  -1  -1   1  -1  -1   1\n",
       " 1   1   1   1  -1  -1  -1  -1  -1  -1  -1  -1  -1  -1  -1  -1\n",
       " 1   1   1  -1   1   1   1   1   1   1   1   1   1  -1  -1  -1\n",
       " 1   1   1  -1   1   1  -1   1   1  -1   1   1  -1  -1  -1   1\n",
       " ⋮                   ⋮                   ⋮                   ⋮\n",
       " 1  -1  -1   1  -1  -1  -1   1   1   1   1   1   1  -1  -1  -1\n",
       " 1  -1  -1  -1   1   1   1  -1  -1  -1  -1  -1  -1  -1  -1  -1\n",
       " 1  -1  -1  -1   1   1  -1  -1  -1   1  -1  -1   1  -1  -1   1\n",
       " 1  -1  -1  -1   1  -1   1  -1   1  -1  -1   1  -1  -1   1  -1\n",
       " 1  -1  -1  -1   1  -1  -1  -1   1   1  -1   1   1  -1   1   1\n",
       " 1  -1  -1  -1  -1   1   1   1  -1  -1   1  -1  -1   1  -1  -1\n",
       " 1  -1  -1  -1  -1   1  -1   1  -1   1   1  -1   1   1  -1   1\n",
       " 1  -1  -1  -1  -1  -1   1   1   1  -1   1   1  -1   1   1  -1\n",
       " 1  -1  -1  -1  -1  -1  -1   1   1   1   1   1   1   1   1   1"
      ]
     },
     "metadata": {},
     "output_type": "display_data"
    }
   ],
   "source": [
    "D = transpose(Matrix{Rational{Int64}}(deterministic_vertices(Xloc)))"
   ]
  },
  {
   "cell_type": "code",
   "execution_count": 11,
   "metadata": {},
   "outputs": [],
   "source": [
    "#V = ddm(M,[i for i in 1:36],transpose(D),true)"
   ]
  },
  {
   "cell_type": "code",
   "execution_count": 12,
   "metadata": {},
   "outputs": [
    {
     "ename": "DimensionMismatch",
     "evalue": "DimensionMismatch: matrix A has dimensions (16,64), vector B has length 16",
     "output_type": "error",
     "traceback": [
      "DimensionMismatch: matrix A has dimensions (16,64), vector B has length 16\n",
      "\n",
      "Stacktrace:\n",
      "  [1] _generic_matvecmul!(C::Vector{Rational{Int64}}, tA::Char, A::Matrix{Rational{Int64}}, B::Vector{Rational{Int64}}, _add::LinearAlgebra.MulAddMul{true, true, Bool, Bool})\n",
      "    @ LinearAlgebra ~/.julia/juliaup/julia-1.10.3+0.aarch64.apple.darwin14/share/julia/stdlib/v1.10/LinearAlgebra/src/matmul.jl:697\n",
      "  [2] generic_matvecmul!\n",
      "    @ ~/.julia/juliaup/julia-1.10.3+0.aarch64.apple.darwin14/share/julia/stdlib/v1.10/LinearAlgebra/src/matmul.jl:687 [inlined]\n",
      "  [3] mul!\n",
      "    @ ~/.julia/juliaup/julia-1.10.3+0.aarch64.apple.darwin14/share/julia/stdlib/v1.10/LinearAlgebra/src/matmul.jl:66 [inlined]\n",
      "  [4] mul!\n",
      "    @ ~/.julia/juliaup/julia-1.10.3+0.aarch64.apple.darwin14/share/julia/stdlib/v1.10/LinearAlgebra/src/matmul.jl:237 [inlined]\n",
      "  [5] *(A::Transpose{Rational{Int64}, Matrix{Rational{Int64}}}, x::Vector{Rational{Int64}})\n",
      "    @ LinearAlgebra ~/.julia/juliaup/julia-1.10.3+0.aarch64.apple.darwin14/share/julia/stdlib/v1.10/LinearAlgebra/src/matmul.jl:57\n",
      "  [6] regions(h::Vector{Rational{Int64}}, R::Matrix{Rational{Int64}})\n",
      "    @ Main ~/GitHub/ClassicalLambda/lib/ddm.jl:180\n",
      "  [7] ddm(A::Matrix{Rational{Int64}}, K::Vector{Int64}, R::Matrix{Rational{Int64}}, init::Bool, save::Bool, filename::String)\n",
      "    @ Main ~/GitHub/ClassicalLambda/lib/ddm.jl:89\n",
      "  [8] ddm\n",
      "    @ ~/GitHub/ClassicalLambda/lib/ddm.jl:66 [inlined]\n",
      "  [9] Polytope(H_rep::Matrix{Rational{Int64}}, V_init::Matrix{Rational{Int64}}, K::Vector{Int64})\n",
      "    @ Main ~/GitHub/ClassicalLambda/lib/ddm.jl:15\n",
      " [10] top-level scope\n",
      "    @ ~/GitHub/ClassicalLambda/jl_notebook_cell_df34fa98e69747e1a8f8a730347b8e2f_X34sZmlsZQ==.jl:1"
     ]
    }
   ],
   "source": [
    "P = Polytope(M,D,Kloc)"
   ]
  },
  {
   "cell_type": "code",
   "execution_count": 13,
   "metadata": {},
   "outputs": [],
   "source": [
    "#using PrettyTables\n",
    "\n",
    "#pretty_table(V)"
   ]
  },
  {
   "cell_type": "code",
   "execution_count": 14,
   "metadata": {},
   "outputs": [
    {
     "ename": "UndefVarError",
     "evalue": "UndefVarError: `P` not defined",
     "output_type": "error",
     "traceback": [
      "UndefVarError: `P` not defined\n",
      "\n",
      "Stacktrace:\n",
      " [1] top-level scope\n",
      "   @ ~/GitHub/ClassicalLambda/jl_notebook_cell_df34fa98e69747e1a8f8a730347b8e2f_X35sZmlsZQ==.jl:1"
     ]
    }
   ],
   "source": [
    "P.V_representation"
   ]
  },
  {
   "cell_type": "code",
   "execution_count": 15,
   "metadata": {},
   "outputs": [],
   "source": []
  }
 ],
 "metadata": {
  "kernelspec": {
   "display_name": "Julia 1.11.3",
   "language": "julia",
   "name": "julia-1.11"
  },
  "language_info": {
   "file_extension": ".jl",
   "mimetype": "application/julia",
   "name": "julia",
   "version": "1.11.3"
  }
 },
 "nbformat": 4,
 "nbformat_minor": 2
}
