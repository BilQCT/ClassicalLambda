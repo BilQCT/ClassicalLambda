{
 "cells": [
  {
   "cell_type": "code",
   "execution_count": 75,
   "metadata": {},
   "outputs": [
    {
     "name": "stderr",
     "output_type": "stream",
     "text": [
      "\u001b[32m\u001b[1m  Activating\u001b[22m\u001b[39m project at `~/GitHub/ClassicalLambda/env`\n"
     ]
    }
   ],
   "source": [
    "# initialize project:\n",
    "using Pkg; Pkg.activate(\"./env\");;\n",
    "\n",
    "# Find current path\n",
    "CURRENT = pwd(); LIB_PATH = joinpath(CURRENT,\"lib\");\n",
    "\n",
    "# include auxilliary functions:\n",
    "for file in readdir(LIB_PATH); include(joinpath(LIB_PATH,file)); end;"
   ]
  },
  {
   "cell_type": "markdown",
   "metadata": {},
   "source": [
    "# Introduction and background:\n",
    "Following the notation and convention of [arXiv:2312.10734](https://arxiv.org/abs/2312.10734), we can model a system of $n$-qubits by a Hilbert space $\\mathcal{H} = (\\mathbb{C}^2)^{\\otimes n}$. Hermitian operators $\\text{Herm}(\\mathcal{H})$ form a real vector space with Hilbert-Schmidt inner product $\\langle A,B \\rangle = \\text{Tr}(AB)$ for $A,B\\in\\text{Herm}(\\mathcal{H})$."
   ]
  },
  {
   "cell_type": "markdown",
   "metadata": {},
   "source": [
    "## Stabilizer polytopes and $\\Lambda$ polytopes\n",
    "\n",
    "The single-qubit Pauli operators are given by\n",
    "\n",
    "$$X = \\begin{bmatrix} 0 &  1\\\\ 1 &  0\\end{bmatrix},\\quad%\n",
    "  Y = \\begin{bmatrix} 0 & -i\\\\ i &  0\\end{bmatrix},\\quad%\n",
    "  Z = \\begin{bmatrix} 1 &  0\\\\ 0 &  -1\\end{bmatrix}.$$\n",
    "\n",
    "  For $n$-qubits a Hermitian matrix $T$ is called a Pauli operator if it is of the form\n",
    "\n",
    "  $$T = A_1\\otimes\\cdots\\otimes A_n\\quad\\text{where}\\quad A_i\\in \\{I,X,Y,Z\\}.$$\n",
    "\n",
    "\n",
    "The set of all Pauli operators form an orthogonal basis for the space of Hermitian matrices so that for any Hermitian matrix $A$ we have\n",
    "\n",
    "$$A = \\frac{1}{2^n} \\sum_{T}\\alpha_T T~,$$\n",
    "\n",
    "where the $\\alpha_T\\in\\mathbb{R}$ can be interpreted as the expectation value of the Pauli observable $T$ via the Born rule:\n",
    "\n",
    "$$\\langle A,T \\rangle = \\text{Tr}(AT) = \\alpha_T~.$$\n",
    "\n",
    "Thus any $A\\in\\text{Herm}(\\mathcal{H})$ can be fully characterized by a vector $\\alpha \\in\\mathbb{R}^{4^n}$ whose components are $\\alpha_T$. For Hermitian matrices with $\\text{Tr}(A) = 1$ this sets $\\alpha_I = 1$ and we can work concretely in a real Euclidean space $\\mathbb{R}^{4^n-1}$.\n",
    "\n",
    "The $n$-qubit Pauli group $P_n$ consists of all Pauli operators $i^\\zeta T$ where $\\zeta \\in \\mathbb{Z}_4$. The $n$-qubit Clifford group is defined as $\\text{Cl}_n = P_n/\\left \\langle e^{i\\theta}I~:~\\theta\\in \\mathbb{R}\\right\\rangle$. A stabilizer group $S\\subset P_n$ is an abelian subgroup of the Pauli group in which all elements square to the identity. We call a stabilizer group maximal if the number of independent Pauli elements is $n$. Here we deal only with maximal stabilizer groups. By definition, for each stabilizer group there exists some $\\left | \\psi_S\\right \\rangle\\in \\mathcal{H}$ such that $s\\left | \\psi_S\\right \\rangle = \\left | \\psi_S\\right \\rangle$ for all $s\\in S$.\n",
    "\n",
    "The projector $\\Pi_S$ onto the mutual $+1$ eigenspace of each $s\\in S$ is given by:\n",
    "\n",
    "$$\\Pi_S = \\frac{1}{2^n}\\sum_{s\\in S} s~.$$\n",
    "\n",
    "Let $\\mathcal{S}_n$ be the set of $n$-qubit stabilizer groups. The stabilizer polytope $\\text{SP}_n$ is defined as the convex hull of stabilizer states. Its polar dual $\\Lambda_n := \\text{SP}_n^\\ast$ can be formally defined as\n",
    "\n",
    "$$\\Lambda_n := \\left \\{ A\\in \\text{Herm}(\\mathcal{H})~:~\\text{Tr}(A) = 1,~\\text{Tr}(\\Pi_SA)\\geq 0~\\forall S\\in \\mathcal{S}_n \\right\\}~.$$"
   ]
  },
  {
   "cell_type": "markdown",
   "metadata": {},
   "source": [
    "## ${2}$-qubits\n",
    "\n",
    "Consider the $2$-qubit case. We call a Pauli operator *local* if it is of the form $A\\otimes I$ or $I\\otimes A$, where $A\\in \\{X,Y,Z\\}$ is a single qubit Pauli matrix; otherwise we call it *nonlocal*. Let us organize our Pauli coordinates into local-nonlocal parts, such that $\\alpha = ({\\alpha}^\\ell,{\\alpha}^{n\\ell})\\in \\mathbb{R}^{15}$, where:\n",
    "\n",
    "$${\\alpha}^\\ell = \\left(\\alpha_{XI},\\alpha_{YI},\\alpha_{ZI},\\alpha_{IX},\\alpha_{IY},\\alpha_{IZ} \\right)\\in \\mathbb{R}^6$$\n",
    "$${\\alpha}^{n\\ell} = \\left(\\alpha_{XX},\\alpha_{XY},\\alpha_{XZ},\\alpha_{YX},\\alpha_{YY},\\alpha_{YZ},\\alpha_{ZX},\\alpha_{ZY},\\alpha_{ZZ} \\right)\\in\\mathbb{R}^9.$$\n",
    "\n",
    "**Convention**: we index our coordinates by $1,\\cdots,6$ for the local part while $a = 7,\\cdots,15$ the nonlocal coordinates. (If the homogenizing coordinate $\\alpha_I = 1$ is included then this offset by one so that the local coordinates have index $2,\\cdots,7$, while the nonlocal coordinates have index $8,\\cdots,16$.)\n",
    "\n",
    "For $2$-qubits there are (up to signs) $15$ stabilizer groups. If a stabilizer group contains a local Pauli then it is called local; otherwise it is called nonlocal. There are $9$ local stabilizer groups and $6$ nonlocal ones. Disregarding the signs of the Pauli operators, the stabilizer groups consist of the Pauli operators:\n",
    "\n",
    "\\begin{align}\n",
    "{\\textbf{Local}:}\\quad\\quad & \\{I,XI,IX,XX\\}, \\{I,XI,IY,XY\\}, \\{I,XI,IZ,XZ\\},\\notag\\\\\n",
    "                                 & \\{I,YI,IX,YX\\}, \\{I,YI,IY,YY\\}, \\{I,YI,IZ,YZ\\},\\notag\\\\\n",
    "                                 & \\{I,ZI,IX,ZX\\}, \\{I,ZI,IY,ZY\\}, \\{I,ZI,IZ,ZZ\\},\\notag\\\\\n",
    "{\\textbf{Nonlocal}:}\\quad\\quad & \\{I,XY,YX,ZZ\\}, \\{I,YZ,ZY,XX\\}, \\{I,ZX,XZ,YY\\},\\notag\\\\\n",
    "                                 & \\{I,XY,ZX,YZ\\}, \\{I,YX,XZ,ZY\\}, \\{I,ZZ,YY,XX\\}.\\notag\n",
    "\\end{align}\n",
    "\n",
    "In all but the last row, this products of Pauli operators multiplies to the $I$ whereas for the last row they multiply to $-I$.  For instance, we have\n",
    "\n",
    "$$I\\cdot XY \\cdot YZ \\cdot ZZ = I\\quad \\text{while} \\quad I\\cdot XX \\cdot ZZ \\cdot YY = - I~.$$\n",
    "\n",
    "More generally, for commuting Pauli operators $A,B,AB$ their product satisfies $A\\cdot B\\cdot AB = (-1)^{\\beta(A,B)} I$, where $\\beta(A,B)\\in \\mathbb{Z}_2$. The function $\\beta(A,B)$ can, in fact, be given a topological interpretation (see e.g., [arXiv:1701.01888](https://arxiv.org/abs/1701.01888)) and is the source of state-independent contextuality with qubits.\n",
    "\n"
   ]
  },
  {
   "cell_type": "markdown",
   "metadata": {},
   "source": [
    "## ${2}$-qubit $\\Lambda$ polytopes\n",
    "\n",
    "Given a Hermitian $A\\in \\text{Herm}(\\mathcal{H})$ with unit trace together with a stabilizer state $\\Pi_S$ where $S=\\{I,(-1)^a A,(-1)^b B,(-1)^{a+b+\\beta(A,B)} AB\\}$ ($a,b \\in \\mathbb{Z}_2$) we can define via the Born rule an inequality:\n",
    "\n",
    "$$\\text{Tr}(A\\Pi_S) =  1+(-1)^a\\alpha_A+(-1)^b\\alpha_B+(-1)^{a+b+\\beta(A,B)}\\alpha_A \\geq 0.$$\n",
    "\n",
    "This is just the same as\n",
    "\n",
    "$$(-1)^a\\alpha_A+(-1)^b\\alpha_B+(-1)^{a+b+\\beta(A,B)}\\alpha_A \\geq -1~.$$\n",
    "\n",
    "We can encode this system of linear inequalities into a matrix form $M\\alpha \\geq -\\mathbb{1}_{60}$, where $\\mathbb{1}_{60}$ is a vector of all ones and $M\\in \\mathbb{R}^{60\\times 15}$ is a matrix whose components are\n",
    "\n",
    "$$M_{S,T} = \\text{Tr}(\\Pi_S T).$$\n",
    "\n",
    "We then have that $\\Lambda_2$ can be defined as\n",
    "\n",
    "$$\\Lambda_2 := \\left \\{ \\alpha \\in \\mathbb{R}^{15}~:~M\\alpha\\geq -\\mathbb{1}_{60}\\right \\}.$$\n",
    "\n",
    "We have $9$ stabilizer groups that are local and $6$ stabilizer groups that are nonlocal. We thus have $36$ local stabilizer states and $24$ nonlocal stabilizer states. Let $M^\\ell$ and $M^{n\\ell}$ be a submatrix of $M$ corresponding to those local and nonlocal stabilizer states, respectively. We thus define the local and nonlocal $\\Lambda$-polytopes as\n",
    "\\begin{align}\n",
    "\\Lambda_2^\\ell &:= \\left \\{ \\alpha \\in \\mathbb{R}^{15}~:~M^{\\ell}\\alpha\\geq -\\mathbb{1}_{36}\\right \\},\\\\\n",
    "\\Lambda_2^{n\\ell} &:= \\left \\{ \\alpha \\in \\mathbb{R}^{15}~:~M^{n\\ell}\\alpha\\geq -\\mathbb{1}_{24}\\right \\}.\n",
    "\\end{align}"
   ]
  },
  {
   "cell_type": "markdown",
   "metadata": {},
   "source": [
    "# Topological picture of stabilizer groups\n",
    "\n",
    "Here we construct the matrix $M$ as well as $M^\\ell$ and $M^{n\\ell}$. We use the convention described in [twodim.jl](./lib/twodim.jl). In particular, each set of commuting Pauli observables $\\{A,B,AB\\}$ is associated with a triangle whose faces (or edges) are $A,B,AB$. Two triangles are glued along a common edge if they share a common Pauli observable"
   ]
  },
  {
   "cell_type": "markdown",
   "metadata": {},
   "source": [
    "#### Pauli observables (edges)\n",
    "\n",
    "Each distinct Pauli operator $T$ is given an identifying index and assigned a topological space, an edge or $1$-simplex. For completeness we must also specify the faces of the edge (its vertices or $0$-simplices). (In fact, without loss of generality, all vertices can be identified to a point.) \n",
    "\n",
    "As mentioned above, we use the ordering convention: $XI,YI,ZI,IX,IX,IZ,XX,XY,XZ,...,ZY,ZZ$ which corresponds to $1,2,\\cdots,15$."
   ]
  },
  {
   "cell_type": "code",
   "execution_count": 2,
   "metadata": {},
   "outputs": [],
   "source": [
    "# Vertices:\n",
    "X0 = [1];\n",
    "# Edges:\n",
    "X1 = [[i,[1,1]] for i in 1:15];"
   ]
  },
  {
   "cell_type": "markdown",
   "metadata": {},
   "source": [
    "#### Stabilizer groups (triangles)\n",
    "\n",
    "We associate an index $i = 1,\\cdots,15$ with each of the maximal commuting sets of Pauli observables. To each index we assign a topological space (a triangle) for which we specify its faces (i.e., the edges or Pauli observables appearing in that set)."
   ]
  },
  {
   "cell_type": "code",
   "execution_count": 3,
   "metadata": {},
   "outputs": [],
   "source": [
    "# Generate arrays corresponding to local stabilizer groups:\n",
    "X2loc = [[1,[1,4,7]],[2,[1,5,8]],[3,[1,6,9]],\n",
    "[4,[2,4,10]],[5,[2,5,11]],[6,[2,6,12]],\n",
    "[7,[3,4,13]],[8,[3,5,14]],[9,[3,6,15]]];\n",
    "\n",
    "# Generate arrays corresponding to local stabilizer groups:                   \n",
    "X2nloc = [[10,[8,10,15]],[11,[12,14,7]],[12,[13,9,11]],\n",
    "[13,[8,13,12]],[14,[10,9,14]],[15,[15,11,7]]];\n",
    "\n",
    "# All 2-qubit stabilizer groups (triangles):\n",
    "X2 = vcat(X2loc,X2nloc);\n",
    "\n",
    "# Two-dimensional simplicial set:\n",
    "X = [X0,X1,X2];"
   ]
  },
  {
   "cell_type": "code",
   "execution_count": 4,
   "metadata": {},
   "outputs": [],
   "source": [
    "# Some sets have the property that multiplying all the Pauli operators A*B*AB = -I:\n",
    "T = [[13,1,2],[14,1,2],[15,1,2]];"
   ]
  },
  {
   "cell_type": "code",
   "execution_count": 5,
   "metadata": {},
   "outputs": [
    {
     "data": {
      "text/plain": [
       "60×16 Matrix{Int64}:\n",
       " 1   1  0  0   1   0   0   1   0   0   0   0   0   0   0   0\n",
       " 1  -1  0  0  -1   0   0   1   0   0   0   0   0   0   0   0\n",
       " 1   1  0  0  -1   0   0  -1   0   0   0   0   0   0   0   0\n",
       " 1  -1  0  0   1   0   0  -1   0   0   0   0   0   0   0   0\n",
       " 1   1  0  0   0   1   0   0   1   0   0   0   0   0   0   0\n",
       " 1  -1  0  0   0  -1   0   0   1   0   0   0   0   0   0   0\n",
       " 1   1  0  0   0  -1   0   0  -1   0   0   0   0   0   0   0\n",
       " 1  -1  0  0   0   1   0   0  -1   0   0   0   0   0   0   0\n",
       " 1   1  0  0   0   0   1   0   0   1   0   0   0   0   0   0\n",
       " 1  -1  0  0   0   0  -1   0   0   1   0   0   0   0   0   0\n",
       " ⋮                 ⋮                   ⋮                   ⋮\n",
       " 1   0  0  0   0   0   0   0  -1   0   0   0  -1  -1   0   0\n",
       " 1   0  0  0   0   0   0   0   0  -1   1   0   0   0   1   0\n",
       " 1   0  0  0   0   0   0   0   0   1  -1   0   0   0   1   0\n",
       " 1   0  0  0   0   0   0   0   0   1   1   0   0   0  -1   0\n",
       " 1   0  0  0   0   0   0   0   0  -1  -1   0   0   0  -1   0\n",
       " 1   0  0  0   0   0   0   1   0   0   0  -1   0   0   0   1\n",
       " 1   0  0  0   0   0   0   1   0   0   0   1   0   0   0  -1\n",
       " 1   0  0  0   0   0   0  -1   0   0   0   1   0   0   0   1\n",
       " 1   0  0  0   0   0   0  -1   0   0   0  -1   0   0   0  -1"
      ]
     },
     "metadata": {},
     "output_type": "display_data"
    }
   ],
   "source": [
    "# Generate representation matrix M:\n",
    "M = spaces_to_inequalities(X,T)"
   ]
  },
  {
   "cell_type": "markdown",
   "metadata": {},
   "source": [
    "## Vertices of $\\Lambda_2$\n",
    "\n",
    "There are $22320$ vertices of $\\Lambda_2$ that fall into $8$ orbits ($T_1,\\cdots,T_8$) under the action of $\\text{Cl}_2$, the $2$-qubit Clifford group. "
   ]
  },
  {
   "cell_type": "code",
   "execution_count": 6,
   "metadata": {},
   "outputs": [],
   "source": [
    "# Generate Polymake object:\n",
    "L2 = pm.polytope.Polytope(INEQUALITIES = M);"
   ]
  },
  {
   "cell_type": "code",
   "execution_count": 7,
   "metadata": {},
   "outputs": [],
   "source": [
    "# Compute combinatorial symmetries, add property to pm object:\n",
    "Aut = vertex_action_GAP(L2);"
   ]
  },
  {
   "cell_type": "code",
   "execution_count": 8,
   "metadata": {},
   "outputs": [
    {
     "data": {
      "text/plain": [
       "pm::Matrix<pm::Rational>\n",
       "1 -1 0 -1 0 0 0 0 0 0 1 1 -1 0 0 0\n",
       "1 -1 -1 -1 1 0 0 -1 0 0 -1 0 0 -1 0 0\n",
       "1 -1 1/2 0 0 1 -1/2 0 -1 1/2 -1/2 1/2 0 0 0 1/2\n",
       "1 -1/2 -1/2 -1/2 1/2 0 0 0 -1/2 1/2 0 1/2 1/2 0 -1/2 -1/2\n",
       "1 -1/2 0 -1/2 0 0 0 -1/2 -1/2 -1/2 -1 0 1 1/2 -1/2 1/2\n",
       "1 -1 0 -1/2 1/2 1/2 1/2 -1/2 -1/2 -1/2 -1/2 1/2 1/2 0 -1 0\n",
       "1 -2/3 -1/3 0 2/3 1/3 0 -1 -2/3 -1/3 -2/3 1/3 2/3 1/3 -2/3 1/3\n",
       "1 1/2 -1/2 3/4 1/4 -3/4 -3/4 -1/4 -3/4 -1/4 1/4 1/4 3/4 1/2 -1/2 -1/2\n"
      ]
     },
     "metadata": {},
     "output_type": "display_data"
    }
   ],
   "source": [
    "# Calculate Representative vertices (In convenient order)\n",
    "L2rep = representative_vertices(L2,true)[[3,1,4,8,6,2,5,7],:]"
   ]
  },
  {
   "cell_type": "code",
   "execution_count": 9,
   "metadata": {},
   "outputs": [],
   "source": [
    "# Calculate orbits:\n",
    "L2orb = (vertex_orbit(Aut,L2,L2rep));"
   ]
  },
  {
   "cell_type": "code",
   "execution_count": 12,
   "metadata": {},
   "outputs": [
    {
     "data": {
      "text/plain": [
       "36×16 Matrix{Int64}:\n",
       " 1   1  0   0   1   0   0   1   0  0  0  0  0   0   0   0\n",
       " 1  -1  0   0  -1   0   0   1   0  0  0  0  0   0   0   0\n",
       " 1   1  0   0  -1   0   0  -1   0  0  0  0  0   0   0   0\n",
       " 1  -1  0   0   1   0   0  -1   0  0  0  0  0   0   0   0\n",
       " 1   1  0   0   0   1   0   0   1  0  0  0  0   0   0   0\n",
       " 1  -1  0   0   0  -1   0   0   1  0  0  0  0   0   0   0\n",
       " 1   1  0   0   0  -1   0   0  -1  0  0  0  0   0   0   0\n",
       " 1  -1  0   0   0   1   0   0  -1  0  0  0  0   0   0   0\n",
       " 1   1  0   0   0   0   1   0   0  1  0  0  0   0   0   0\n",
       " 1  -1  0   0   0   0  -1   0   0  1  0  0  0   0   0   0\n",
       " ⋮                  ⋮                 ⋮                 ⋮\n",
       " 1   0  0  -1   1   0   0   0   0  0  0  0  0  -1   0   0\n",
       " 1   0  0   1   0   1   0   0   0  0  0  0  0   0   1   0\n",
       " 1   0  0  -1   0  -1   0   0   0  0  0  0  0   0   1   0\n",
       " 1   0  0   1   0  -1   0   0   0  0  0  0  0   0  -1   0\n",
       " 1   0  0  -1   0   1   0   0   0  0  0  0  0   0  -1   0\n",
       " 1   0  0   1   0   0   1   0   0  0  0  0  0   0   0   1\n",
       " 1   0  0  -1   0   0  -1   0   0  0  0  0  0   0   0   1\n",
       " 1   0  0   1   0   0  -1   0   0  0  0  0  0   0   0  -1\n",
       " 1   0  0  -1   0   0   1   0   0  0  0  0  0   0   0  -1"
      ]
     },
     "metadata": {},
     "output_type": "display_data"
    },
    {
     "data": {
      "text/plain": [
       "24×16 Matrix{Int64}:\n",
       " 1  0  0  0  0  0  0   0   1   0   1   0   0   0   0   1\n",
       " 1  0  0  0  0  0  0   0  -1   0  -1   0   0   0   0   1\n",
       " 1  0  0  0  0  0  0   0   1   0  -1   0   0   0   0  -1\n",
       " 1  0  0  0  0  0  0   0  -1   0   1   0   0   0   0  -1\n",
       " 1  0  0  0  0  0  0   1   0   0   0   0   1   0   1   0\n",
       " 1  0  0  0  0  0  0   1   0   0   0   0  -1   0  -1   0\n",
       " 1  0  0  0  0  0  0  -1   0   0   0   0   1   0  -1   0\n",
       " 1  0  0  0  0  0  0  -1   0   0   0   0  -1   0   1   0\n",
       " 1  0  0  0  0  0  0   0   0   1   0   1   0   1   0   0\n",
       " 1  0  0  0  0  0  0   0   0  -1   0   1   0  -1   0   0\n",
       " ⋮              ⋮                  ⋮                   ⋮\n",
       " 1  0  0  0  0  0  0   0  -1   0   0   0  -1  -1   0   0\n",
       " 1  0  0  0  0  0  0   0   0  -1   1   0   0   0   1   0\n",
       " 1  0  0  0  0  0  0   0   0   1  -1   0   0   0   1   0\n",
       " 1  0  0  0  0  0  0   0   0   1   1   0   0   0  -1   0\n",
       " 1  0  0  0  0  0  0   0   0  -1  -1   0   0   0  -1   0\n",
       " 1  0  0  0  0  0  0   1   0   0   0  -1   0   0   0   1\n",
       " 1  0  0  0  0  0  0   1   0   0   0   1   0   0   0  -1\n",
       " 1  0  0  0  0  0  0  -1   0   0   0   1   0   0   0   1\n",
       " 1  0  0  0  0  0  0  -1   0   0   0  -1   0   0   0  -1"
      ]
     },
     "metadata": {},
     "output_type": "display_data"
    }
   ],
   "source": [
    "# local\n",
    "Mloc = M[1:36,:]; display(Mloc)\n",
    "# nonlocal\n",
    "Mnloc = M[37:60,:]; display(Mnloc)"
   ]
  },
  {
   "cell_type": "code",
   "execution_count": 13,
   "metadata": {},
   "outputs": [],
   "source": [
    "# projection to nonlocal coordinates:\n",
    "_pi = [1,8,9,10,11,12,13,14,15,16];"
   ]
  },
  {
   "cell_type": "markdown",
   "metadata": {},
   "source": [
    "## $\\text{MP}$: Mermin polytope\n",
    "\n",
    "The polytope $\\text{MP}$ studied in [arXiv:2210.10186](https://arxiv.org/abs/2210.10186) is the projection of $\\Lambda_2^{n\\ell}$ to the nonlocal coordinates, i.e. $\\text{MP} = \\pi(\\Lambda_2^{n\\ell})$ where $\\pi:\\mathbb{R}^{15}\\to\\mathbb{R}^9$ is such that $\\alpha\\mapsto\\alpha^{n\\ell}$. There are two orbits, denoted $\\bar T_1$ ($\\times 48$) and $\\bar T_2$ vertices ($\\times 72$)."
   ]
  },
  {
   "cell_type": "code",
   "execution_count": 14,
   "metadata": {},
   "outputs": [
    {
     "data": {
      "text/plain": [
       "24×10 Matrix{Int64}:\n",
       " 1   0   1   0   1   0   0   0   0   1\n",
       " 1   0  -1   0  -1   0   0   0   0   1\n",
       " 1   0   1   0  -1   0   0   0   0  -1\n",
       " 1   0  -1   0   1   0   0   0   0  -1\n",
       " 1   1   0   0   0   0   1   0   1   0\n",
       " 1   1   0   0   0   0  -1   0  -1   0\n",
       " 1  -1   0   0   0   0   1   0  -1   0\n",
       " 1  -1   0   0   0   0  -1   0   1   0\n",
       " 1   0   0   1   0   1   0   1   0   0\n",
       " 1   0   0  -1   0   1   0  -1   0   0\n",
       " ⋮                   ⋮              \n",
       " 1   0  -1   0   0   0  -1  -1   0   0\n",
       " 1   0   0  -1   1   0   0   0   1   0\n",
       " 1   0   0   1  -1   0   0   0   1   0\n",
       " 1   0   0   1   1   0   0   0  -1   0\n",
       " 1   0   0  -1  -1   0   0   0  -1   0\n",
       " 1   1   0   0   0  -1   0   0   0   1\n",
       " 1   1   0   0   0   1   0   0   0  -1\n",
       " 1  -1   0   0   0   1   0   0   0   1\n",
       " 1  -1   0   0   0  -1   0   0   0  -1"
      ]
     },
     "metadata": {},
     "output_type": "display_data"
    }
   ],
   "source": [
    "# Mnloc matrix taking only columns with nonlocal Pauli operators:\n",
    "_Mnloc = Mnloc[:,_pi]; display(_Mnloc)\n",
    "# MP as intersection of half-space inequalities defined by Mnloc_b:\n",
    "MP = pm.polytope.Polytope(INEQUALITIES = _Mnloc);\n",
    "# Facets:\n",
    "H1 = Matrix{Rational{Int64}}(MP.FACETS);\n",
    "# Vertices:\n",
    "V1 = Matrix{Rational{Int64}}(MP.VERTICES);"
   ]
  },
  {
   "cell_type": "code",
   "execution_count": 16,
   "metadata": {},
   "outputs": [
    {
     "data": {
      "text/plain": [
       "pm::Matrix<pm::Rational>\n",
       "1 -1 1 0 0 0 1 -1 -1 0\n",
       "1 -1 -1 1 0 0 0 0 0 0\n"
      ]
     },
     "metadata": {},
     "output_type": "display_data"
    }
   ],
   "source": [
    "# Compute Aut(MP):\n",
    "G = vertex_action_GAP(MP);\n",
    "# Obtain representative vertices:\n",
    "MPrep = representative_vertices(MP,true)"
   ]
  },
  {
   "cell_type": "code",
   "execution_count": 17,
   "metadata": {},
   "outputs": [
    {
     "data": {
      "text/plain": [
       "72×10 Matrix{Rational{Int64}}:\n",
       " 1  -1   1   0   0   0   1  -1  -1   0\n",
       " 1  -1   0  -1   1   0  -1   0   1   0\n",
       " 1   1   0   0   0  -1  -1   0  -1   1\n",
       " 1  -1   0   1   1   0   1   0  -1   0\n",
       " 1   0   1  -1   0  -1  -1   1   0   0\n",
       " 1  -1   0   1  -1   0  -1   0   1   0\n",
       " 1   0   1   0  -1   0   1  -1   0  -1\n",
       " 1   0   1   1   1   0   0   0  -1   1\n",
       " 1  -1   1   0   0   0  -1   1   1   0\n",
       " 1   0   0   1   1  -1   0  -1  -1   0\n",
       " ⋮                   ⋮              \n",
       " 1  -1   1   0  -1  -1   0   0   0  -1\n",
       " 1  -1   0   1   0  -1   0  -1   0  -1\n",
       " 1   1   0  -1   0  -1   0   1   0   1\n",
       " 1  -1   0   0   0  -1   1   0  -1  -1\n",
       " 1   0   1  -1   0   1   1  -1   0   0\n",
       " 1   0   0   1   1   1   0   1  -1   0\n",
       " 1   1   0   1   0   1   0   1   0  -1\n",
       " 1  -1   0  -1   0  -1   0   1   0  -1\n",
       " 1  -1  -1   0   1  -1   0   0   0  -1"
      ]
     },
     "metadata": {},
     "output_type": "display_data"
    }
   ],
   "source": [
    "# Orbits of MP facets:\n",
    "v1 = vertex_orbit(G,MP,MPrep);\n",
    "# T2 vertices:\n",
    "V1_prime = V1[v1[1],:]"
   ]
  },
  {
   "cell_type": "markdown",
   "metadata": {},
   "source": [
    "# Classical polytopes\n",
    "\n",
    "The polytope $\\Lambda_2^\\ell$ is isomorphic to $\\text{NS}$, the nonsignaling polytope corresponding to the bipartite $(2,3,2)$ Bell scenario. A subset $D$ of the vertices of $\\text{NS}$ are the so-called deterministic vertices. The convex hull of deterministic vertices is a subpolytope of $\\text{NS}$ that we denote $\\text{CL}$."
   ]
  },
  {
   "cell_type": "code",
   "execution_count": 18,
   "metadata": {},
   "outputs": [
    {
     "data": {
      "text/plain": [
       "64×16 Matrix{Int64}:\n",
       " 1   1   1   1   1   1   1   1   1   1   1   1   1   1   1   1\n",
       " 1   1   1   1   1   1  -1   1   1  -1   1   1  -1   1   1  -1\n",
       " 1   1   1   1   1  -1   1   1  -1   1   1  -1   1   1  -1   1\n",
       " 1   1   1   1   1  -1  -1   1  -1  -1   1  -1  -1   1  -1  -1\n",
       " 1   1   1   1  -1   1   1  -1   1   1  -1   1   1  -1   1   1\n",
       " 1   1   1   1  -1   1  -1  -1   1  -1  -1   1  -1  -1   1  -1\n",
       " 1   1   1   1  -1  -1   1  -1  -1   1  -1  -1   1  -1  -1   1\n",
       " 1   1   1   1  -1  -1  -1  -1  -1  -1  -1  -1  -1  -1  -1  -1\n",
       " 1   1   1  -1   1   1   1   1   1   1   1   1   1  -1  -1  -1\n",
       " 1   1   1  -1   1   1  -1   1   1  -1   1   1  -1  -1  -1   1\n",
       " ⋮                   ⋮                   ⋮                   ⋮\n",
       " 1  -1  -1   1  -1  -1  -1   1   1   1   1   1   1  -1  -1  -1\n",
       " 1  -1  -1  -1   1   1   1  -1  -1  -1  -1  -1  -1  -1  -1  -1\n",
       " 1  -1  -1  -1   1   1  -1  -1  -1   1  -1  -1   1  -1  -1   1\n",
       " 1  -1  -1  -1   1  -1   1  -1   1  -1  -1   1  -1  -1   1  -1\n",
       " 1  -1  -1  -1   1  -1  -1  -1   1   1  -1   1   1  -1   1   1\n",
       " 1  -1  -1  -1  -1   1   1   1  -1  -1   1  -1  -1   1  -1  -1\n",
       " 1  -1  -1  -1  -1   1  -1   1  -1   1   1  -1   1   1  -1   1\n",
       " 1  -1  -1  -1  -1  -1   1   1   1  -1   1   1  -1   1   1  -1\n",
       " 1  -1  -1  -1  -1  -1  -1   1   1   1   1   1   1   1   1   1"
      ]
     },
     "metadata": {},
     "output_type": "display_data"
    }
   ],
   "source": [
    "# Define simplicial set consisting only of local stabilizer groups:\n",
    "Xloc = [X0,X1,X2loc];\n",
    "\n",
    "# Generate deterministic vertices of scenario:\n",
    "D = deterministic_vertices(Xloc)"
   ]
  },
  {
   "cell_type": "markdown",
   "metadata": {},
   "source": [
    "## $\\overline{CL}$: Projected classical polytope\n",
    "\n",
    "We define the projected classical polytope $\\overline{\\text{CL}} := \\pi(\\text{CL})$. Following Howard and Vala [arXiv:1112.1516](https://arxiv.org/abs/1112.1516) we know that, aside from certain trivial non-negativity inequalities, that there are $72$ Clauser-Horne-Shimony-Holt (CHSH) facets of $\\overline{\\text{CL}}$."
   ]
  },
  {
   "cell_type": "code",
   "execution_count": 19,
   "metadata": {},
   "outputs": [],
   "source": [
    "# Projection of CL:\n",
    "_D = D[:,_pi];\n",
    "_CL = pm.polytope.Polytope(POINTS = _D);\n",
    "# Facets:\n",
    "H2 = Matrix{Rational{Int64}}(_CL.FACETS);\n",
    "# Vertices:\n",
    "V2 = Matrix{Rational{Int64}}(_CL.VERTICES);"
   ]
  },
  {
   "cell_type": "markdown",
   "metadata": {},
   "source": [
    "#### Symmetries\n",
    "The symmetry group of $\\text{MP}$ and $\\overline{\\text{CL}}$ are the same. As we will see, one way to see that they should (at least) be related is that we have a bijective correspondence between $\\bar T_2$ vertices and CHSH facets."
   ]
  },
  {
   "cell_type": "code",
   "execution_count": 22,
   "metadata": {},
   "outputs": [
    {
     "data": {
      "text/plain": [
       "pm::Matrix<pm::Rational>\n",
       "2 0 -1 -1 0 -1 1 0 0 0\n",
       "1 -1 0 0 0 0 0 0 0 0\n"
      ]
     },
     "metadata": {},
     "output_type": "display_data"
    }
   ],
   "source": [
    "# Compute symmetry group of _CL\n",
    "G = facets_action_GAP(_CL);\n",
    "# Compute representative facets\n",
    "_CLrep = representative_facets(_CL,true)"
   ]
  },
  {
   "cell_type": "code",
   "execution_count": 23,
   "metadata": {},
   "outputs": [
    {
     "data": {
      "text/plain": [
       "72×10 Matrix{Rational{Int64}}:\n",
       " 2   0  -1  -1   0  -1   1   0   0   0\n",
       " 2   0  -1  -1   0   0   0   0  -1   1\n",
       " 2   1   0  -1   1   0   1   0   0   0\n",
       " 2   0   0   0   0  -1   1   0  -1  -1\n",
       " 2  -1   0  -1  -1   0   1   0   0   0\n",
       " 2   1   0  -1   0   0   0   1   0   1\n",
       " 2  -1  -1   0   1  -1   0   0   0   0\n",
       " 2   0   0   0   0  -1  -1   0  -1   1\n",
       " 2   0  -1  -1   0   0   0   0   1  -1\n",
       " 2  -1   0  -1   0   0   0  -1   0   1\n",
       " ⋮                   ⋮              \n",
       " 2  -1   1   0   0   0   0   1   1   0\n",
       " 2   1   1   0  -1   1   0   0   0   0\n",
       " 2  -1   0   1  -1   0  -1   0   0   0\n",
       " 2   0   0   0   0   1  -1   0   1   1\n",
       " 2   0  -1   1   0   1   1   0   0   0\n",
       " 2  -1   1   0   1   1   0   0   0   0\n",
       " 2   0   0   0  -1   1   0   1   1   0\n",
       " 2   0   1   1   0   0   0   0   1  -1\n",
       " 2   0   1   1   0   1  -1   0   0   0"
      ]
     },
     "metadata": {},
     "output_type": "display_data"
    }
   ],
   "source": [
    "# Orbits of CLb facets:\n",
    "h2 = facets_orbit(G,_CL,_CLrep);\n",
    "# CHSH facets:\n",
    "H2_prime = H2[h2[1],:]; display(H2_prime)"
   ]
  },
  {
   "cell_type": "markdown",
   "metadata": {},
   "source": [
    "## $\\mathbf{\\overline{\\text{MP}}}$: \"Classical\" Mermin polytope\n",
    "\n",
    "We define the \"classical\" part of the Mermin polytope as $\\overline{\\text{MP}} := \\text{MP}\\cap \\overline{\\text{CL}}$. In practice this means that $\\overline{\\text{MP}}$ is computed by intersecting the facets of $\\overline{\\text{CL}}$ together with those of $\\text{MP}$. This gives the $H$-representation of $\\overline{\\text{MP}}$. We wish to convert to its $V$-representation. Luckily, if we have already computed the $V$-representation of either  $\\text{MP}$ or $\\overline{\\text{CL}}$ then this simplifies the task of enumerating the vertices of $\\overline{\\text{MP}}$. Our main result is to show how the double description (DD) method helps to accomplish this."
   ]
  },
  {
   "cell_type": "code",
   "execution_count": 24,
   "metadata": {},
   "outputs": [],
   "source": [
    "# Define _MP:\n",
    "H12 = vcat(H1,H2);\n",
    "_MP = pm.polytope.Polytope(INEQUALITIES = H12);"
   ]
  },
  {
   "cell_type": "code",
   "execution_count": 25,
   "metadata": {
    "scrolled": true
   },
   "outputs": [
    {
     "data": {
      "text/plain": [
       "pm::Matrix<pm::Rational>\n",
       "1 -1 -1 -1 0 0 0 0 0 0\n",
       "1 -1/2 -1 1/2 -1/2 0 -1/2 -1/2 0 1/2\n",
       "1 0 -1 0 -1 0 0 0 0 1\n",
       "1 -1/3 -2/3 -2/3 -2/3 1/3 -1/3 -2/3 -1/3 1/3\n",
       "1 -2/3 2/3 0 2/3 0 2/3 -1/3 -1/3 1/3\n",
       "1 -3/5 1/5 -3/5 -1/5 3/5 3/5 -3/5 -3/5 1/5\n",
       "1 -1 0 1/3 1/3 2/3 -1/3 0 1/3 2/3\n",
       "1 -1 1/3 0 -1/3 -1/3 -2/3 0 2/3 -1/3\n",
       "1 -1 1/2 0 0 1/2 0 1/2 0 1/2\n",
       "1 -1/2 0 -3/4 1/2 -1/2 -1/4 1/4 3/4 -1/2\n"
      ]
     },
     "metadata": {},
     "output_type": "display_data"
    }
   ],
   "source": [
    "# Combinatorial symmetries:\n",
    "G = vertex_action_GAP(_MP);\n",
    "# representative vertices of _MP:\n",
    "_MPrep = representative_vertices(_MP,true)"
   ]
  },
  {
   "cell_type": "markdown",
   "metadata": {},
   "source": [
    "\n",
    "# Overview: DD method:\n",
    "\n",
    "The double description (DD) method is an incremental method for solving the vertex enumeration problem for convex polytopes, or more generally, the ray enumeration problem for polyhedral cones. The intuition behind the method can be pictured geometrically. Suppose we have an initial polyhedron $P$ (e.g., a cube) and a intersecting half-plane inequality. We distinguish between vertices (red) that violate the inequality, those that satisfy the inequality exactly (gray) and those lie on the other side (blue). New vertices are generated by taking convex combinations of red and blue vertices that are neighbors of one another; i.e., those that are connected by an edge. The red vertices are then discarded."
   ]
  },
  {
   "cell_type": "markdown",
   "metadata": {},
   "source": [
    "\n",
    "$\\hspace{1 cm}$<img src=\"./graphics/rank-inc-a.png\" width=\"200\" height=\"200\" /> $\\hspace{1 cm}$ <img src=\"./graphics/rank-inc-b.png\" width=\"200\" height=\"200\" /> $\\hspace{1 cm}$<img src=\"./graphics/rank-inc-c.png\" width=\"200\" height=\"200\" /> $\\hspace{1 cm}$<img src=\"./graphics/rank-inc-d.png\" width=\"200\" height=\"200\" />"
   ]
  },
  {
   "cell_type": "markdown",
   "metadata": {},
   "source": [
    "Notice in the sequence shown above that initially no neighbors of the red vertices are blue. We simply discard the red vertices in this case. In the next iteration we insert another half-space inequality, but this time there are neighbors that are red and blue and thus there are newly generated vertices (pink)."
   ]
  },
  {
   "cell_type": "markdown",
   "metadata": {},
   "source": [
    "## Our DD-based scheme:\n",
    "\n",
    "Our key observation (one that also appears in [[Howard-Vala, 2011]](https://arxiv.org/abs/1112.1516)) is that each $\\bar T_2$ vertex violates precisely one CHSH inequality $h_v$ such that\n",
    "\n",
    "$$ h_v\\cdot v = -2 < 0~,$$\n",
    "\n",
    "while $\\bar T_1$ vertices satisfy all CHSH inequalities. Moreover, the neighbors of each $\\bar T_2$ vertex all lie precisely on the CHSH facet that it violates:\n",
    "\n",
    "<figure>\n",
    "<img src=\"./graphics/duality.png\" style=\"display: block; margin: auto;\" width=\"200\" height=\"200\" />\n",
    "<figure>"
   ]
  },
  {
   "cell_type": "markdown",
   "metadata": {},
   "source": [
    "Our scheme is as follows:\n",
    "\n",
    "1. Identify a canonical $\\bar T_2$ vertex $v$ and non-neighbors $w_i$ ($i=1,\\cdots,4$),\n",
    "2. For each $w_i$ insert a sequence of CHSH facets $h_j$ ($j=1,\\cdots,k$) such that $h_{j} \\cdot v = 0$,\n",
    "3. This promotes non-neighbors ($w_i$) of $v$ to neighbors,\n",
    "4. Insert the CHSH facet $h_v$ that $v$ violates,\n",
    "4. Use the equation: $$u_i := pv+(1-p)w_i\\quad \\text{where}\\quad p = \\frac{1}{1-\\frac{h_v\\cdot v}{h_v\\cdot w_i}}$$\n",
    "    To obtain a point $u_i$ which is guaranteed by the DD method to be a vertex."
   ]
  },
  {
   "cell_type": "markdown",
   "metadata": {},
   "source": [
    "# Canonical vertex, neighbor, and ${2}$-neighbors"
   ]
  },
  {
   "cell_type": "markdown",
   "metadata": {},
   "source": [
    "### Canonical vertex ${v}$ of $\\mathbf{\\text{MP}}$"
   ]
  },
  {
   "cell_type": "code",
   "execution_count": 26,
   "metadata": {},
   "outputs": [],
   "source": [
    "v = Vector{Rational{Int64}}([1,1,1,0,1,-1,0,0,0,1]);"
   ]
  },
  {
   "cell_type": "markdown",
   "metadata": {},
   "source": [
    "The canonical $\\bar T_2$ vertex $v$ violates precisely one CHSH facet $h_v$ that is *dual* to it:"
   ]
  },
  {
   "cell_type": "code",
   "execution_count": 27,
   "metadata": {},
   "outputs": [
    {
     "data": {
      "text/plain": [
       "1×10 Matrix{Rational{Int64}}:\n",
       " 2  -1  -1  0  -1  1  0  0  0  0"
      ]
     },
     "metadata": {},
     "output_type": "display_data"
    }
   ],
   "source": [
    "hv_idx = violated_inequality(v,H2); hv = H2[hv_idx,:]"
   ]
  },
  {
   "cell_type": "markdown",
   "metadata": {},
   "source": [
    "### Canonical $\\bar T_1$ neighbor ${v^\\prime}$  of ${v}$ in ${\\text{MP}}$"
   ]
  },
  {
   "cell_type": "code",
   "execution_count": 28,
   "metadata": {},
   "outputs": [],
   "source": [
    "v_prime = Vector{Rational{Int64}}([1,1,0,0,0,-1,-1,0,-1,1]);"
   ]
  },
  {
   "cell_type": "markdown",
   "metadata": {},
   "source": [
    "Joint rank of ${v}$ and ${v^\\prime}$ in ${\\text{MP}}$. Since $\\text{dim}(\\text{MP}) = 9$, if the joint rank is $9-1 = 8$, then the vertices are neighbors."
   ]
  },
  {
   "cell_type": "code",
   "execution_count": 29,
   "metadata": {},
   "outputs": [
    {
     "data": {
      "text/plain": [
       "8"
      ]
     },
     "metadata": {},
     "output_type": "display_data"
    }
   ],
   "source": [
    "joint_rank(v,v_prime,H1)"
   ]
  },
  {
   "cell_type": "markdown",
   "metadata": {},
   "source": [
    "Inner product with canonical facet $h_v$. All neighbors $v^\\prime$ of $v$ have $h_v\\cdot v^\\prime = 0$. "
   ]
  },
  {
   "cell_type": "code",
   "execution_count": 30,
   "metadata": {},
   "outputs": [
    {
     "data": {
      "text/plain": [
       "1-element Vector{Rational{Int64}}:\n",
       " 0"
      ]
     },
     "metadata": {},
     "output_type": "display_data"
    }
   ],
   "source": [
    "hv*v_prime"
   ]
  },
  {
   "cell_type": "markdown",
   "metadata": {},
   "source": [
    "### Canonical ${2}$-neighbors\n",
    "\n",
    "We define the $2$-neighbor of a vertex $v$ to be the neighbor of a neighbor.  We identify four neighbors ${w_0}$, ${w_1}$, ${w_2}$, ${w_3}$ of $v^\\prime$ in ${\\text{MP}}$ that are not also neighbors of $v$."
   ]
  },
  {
   "cell_type": "code",
   "execution_count": 31,
   "metadata": {},
   "outputs": [],
   "source": [
    "w0 = Vector{Rational{Int64}}([1,1,-1,0,0,0,-1,-1,-1,0]);\n",
    "w1 = Vector{Rational{Int64}}([1,1,-1,0,-1,-1,0,0,0,1]);\n",
    "w2 = Vector{Rational{Int64}}([1,0,-1,0,0,-1,0,0,-1,0]);\n",
    "w3 = Vector{Rational{Int64}}([1,0,-1,0,-1,0,-1,-1,0,1]);"
   ]
  },
  {
   "cell_type": "code",
   "execution_count": 32,
   "metadata": {},
   "outputs": [
    {
     "data": {
      "text/plain": [
       "10×4 Matrix{Rational{Int64}}:\n",
       "  1   1   1   1\n",
       "  1   1   0   0\n",
       " -1  -1  -1  -1\n",
       "  0   0   0   0\n",
       "  0  -1   0  -1\n",
       "  0  -1  -1   0\n",
       " -1   0   0  -1\n",
       " -1   0   0  -1\n",
       " -1   0  -1   0\n",
       "  0   1   0   1"
      ]
     },
     "metadata": {},
     "output_type": "display_data"
    }
   ],
   "source": [
    "W = Matrix([w0 w1 w2 w3])"
   ]
  },
  {
   "cell_type": "markdown",
   "metadata": {},
   "source": [
    "We can observe that these are, indeed, not neighbors of $v$. The joints ranks of $w_i$ ($i =0,\\cdots,3$) with $v$ in ${\\text{MP}}$ are:"
   ]
  },
  {
   "cell_type": "code",
   "execution_count": 33,
   "metadata": {},
   "outputs": [
    {
     "name": "stdout",
     "output_type": "stream",
     "text": [
      "Joint rank of v with w1 is: 7\n",
      "Joint rank of v with w2 is: 6\n",
      "Joint rank of v with w3 is: 6\n",
      "Joint rank of v with w4 is: 6\n"
     ]
    }
   ],
   "source": [
    "for i in 1:4; println(\"Joint rank of v with w\"*string(i)*\" is: \", joint_rank(v,W[:,i],H1)); end;"
   ]
  },
  {
   "cell_type": "markdown",
   "metadata": {},
   "source": [
    "Inner product with canonical facet $h_v$. All $2$-neighbors $w_i$ of $v$ have $h_v\\cdot v^\\prime > 0$. "
   ]
  },
  {
   "cell_type": "code",
   "execution_count": 34,
   "metadata": {},
   "outputs": [
    {
     "name": "stdout",
     "output_type": "stream",
     "text": [
      "Inner product hv with w1 is: 2\n",
      "Inner product hv with w2 is: 2\n",
      "Inner product hv with w3 is: 2\n",
      "Inner product hv with w4 is: 4\n"
     ]
    }
   ],
   "source": [
    "for i in 1:4; println(\"Inner product hv with w\"*string(i)*\" is: \", Int((hv*W[:,i])[1])); end;"
   ]
  },
  {
   "cell_type": "markdown",
   "metadata": {},
   "source": [
    "# Generating vertices of $\\mathbf{\\overline{\\text{MP}}}$"
   ]
  },
  {
   "cell_type": "markdown",
   "metadata": {},
   "source": [
    "## Increasing joint rank\n",
    "\n",
    "We look for common tight CHSH facets between $v$ and $w_i$."
   ]
  },
  {
   "cell_type": "code",
   "execution_count": 35,
   "metadata": {},
   "outputs": [
    {
     "data": {
      "text/plain": [
       "4×10 Matrix{Rational{Int64}}:\n",
       " 2  -1  0  -1  -1  0  1  0  0   0\n",
       " 2  -1  0  -1   0  0  0  1  0  -1\n",
       " 2   0  0   0   0  1  1  0  1  -1\n",
       " 2   0  0   0  -1  1  0  1  1   0"
      ]
     },
     "metadata": {},
     "output_type": "display_data"
    },
    {
     "data": {
      "text/plain": [
       "4×10 Matrix{Rational{Int64}}:\n",
       " 2  -1  0  -1  0  0   0   1   0  -1\n",
       " 2   0  0   0  0  1   1   0   1  -1\n",
       " 2   0  0   0  0  1  -1   0  -1  -1\n",
       " 2  -1  0   1  0  0   0  -1   0  -1"
      ]
     },
     "metadata": {},
     "output_type": "display_data"
    },
    {
     "data": {
      "text/plain": [
       "2×10 Matrix{Rational{Int64}}:\n",
       " 2  0  0  0  -1  1  0  1  1   0\n",
       " 2  0  0  0   0  1  1  0  1  -1"
      ]
     },
     "metadata": {},
     "output_type": "display_data"
    },
    {
     "data": {
      "text/plain": [
       "2×10 Matrix{Rational{Int64}}:\n",
       " 2  -1  0  -1  0  0  0  1  0  -1\n",
       " 2   0  0   0  0  1  1  0  1  -1"
      ]
     },
     "metadata": {},
     "output_type": "display_data"
    }
   ],
   "source": [
    "# initialize empty Vector{Any}:\n",
    "H2int = []; Zv = tight_inequalities(v,H2_prime);\n",
    "for i in 1:4\n",
    "    Zwi = tight_inequalities(W[:,i],H2_prime);\n",
    "    Zint = collect(intersect(Set(Zv),Set(Zwi)));\n",
    "    display(H2_prime[Zint,:])\n",
    "    push!(H2int,H2_prime[Zint,:]);\n",
    "end"
   ]
  },
  {
   "cell_type": "markdown",
   "metadata": {},
   "source": [
    "Compute joint rank of $v$ and $w_i$ with facets of $\\text{MP}$ together with CHSH facets of $\\overline{\\text{CL}}$."
   ]
  },
  {
   "cell_type": "code",
   "execution_count": 36,
   "metadata": {},
   "outputs": [
    {
     "name": "stdout",
     "output_type": "stream",
     "text": [
      "Updated joint rank of v with w1 is: 8\n",
      "Updated joint rank of v with w2 is: 8\n",
      "Updated joint rank of v with w3 is: 8\n",
      "Updated joint rank of v with w4 is: 8\n"
     ]
    }
   ],
   "source": [
    "Zv = tight_inequalities(v,H1);\n",
    "for i in 1:4\n",
    "    # find common tight inequalities in H1:\n",
    "    Zwi = tight_inequalities(W[:,i],H1);\n",
    "    Zint = collect(intersect(Set(Zv),Set(Zwi)));\n",
    "    H1Z = H1[Zint,:];\n",
    "    # Concatenate tight H1 and H2 inequalities:\n",
    "    H12Z = vcat(H1Z,H2int[i]);\n",
    "    println(\"Updated joint rank of v with w\"*string(i)*\" is: \", rank(H12Z))\n",
    "end"
   ]
  },
  {
   "cell_type": "markdown",
   "metadata": {},
   "source": [
    "## Generate vertices using DD method"
   ]
  },
  {
   "cell_type": "markdown",
   "metadata": {},
   "source": [
    "### function: new_vertex\n",
    "\n",
    "Given the cone $P_0^\\ast$ of a full-dimensional polytope $P_0\\subseteq \\mathbb{R}^d$ and a hyperplane $h\\cdot x = 0$, the DD method guarantees that for all pairs of adjacent extreme rays $v,v^\\prime\\in P_0^\\ast$ (i.e., joint rank is $d-2$) such that $h\\cdot v < 0$ and $h\\cdot v^\\prime > 0$ that the positive sum of these points given by\n",
    "\n",
    "$$u = pv-(1-p)v^\\prime\\quad\\text{where}\\quad p = \\frac{1}{1-\\frac{h\\cdot v}{h\\cdot v^\\prime}}\\in [0,1]$$\n",
    "\n",
    "is an extreme ray of the new cone $P_1^\\ast$, which is obtained from $P^\\ast_0$ by the insertion of the new inequality $h\\cdot x \\geq 0$.\n",
    "\n",
    "**Input:** Vector: v_minus: violating vector ($d\\times 1$)\n",
    "\n",
    "**Input:** Vector: v_plus: satisfying vector ($d\\times 1$)\n",
    "\n",
    "**Input:** Vector: h: facet vector ($1\\times d$)\n",
    "\n",
    "**Output:** Vector: new_vertex ($d\\times 1$)"
   ]
  },
  {
   "cell_type": "code",
   "execution_count": 37,
   "metadata": {},
   "outputs": [
    {
     "data": {
      "text/plain": [
       "new_vertex (generic function with 1 method)"
      ]
     },
     "metadata": {},
     "output_type": "display_data"
    }
   ],
   "source": [
    "function new_vertex(v_minus,v_plus,h)\n",
    "    d = size(v_minus)[1];\n",
    "    if size(h)[1] == d\n",
    "        a = (transpose(h)*v_minus)[1];\n",
    "        b = (transpose(h)*v_plus)[1];\n",
    "    else\n",
    "        a = ((h)*v_minus)[1];\n",
    "        b = ((h)*v_plus)[1];\n",
    "    end\n",
    "    p = b/(b-a);\n",
    "    if p < 0\n",
    "        return \"No vertex possible\"\n",
    "    elseif p == 0\n",
    "        return \"No new vertex possible\"\n",
    "    else\n",
    "        return p*v_minus+(1-p)*v_plus\n",
    "    end\n",
    "end"
   ]
  },
  {
   "cell_type": "code",
   "execution_count": 38,
   "metadata": {},
   "outputs": [
    {
     "data": {
      "text/plain": [
       "10×4 Matrix{Rational{Int64}}:\n",
       "   1     1    1      1\n",
       "   1     1   1//2   2//3\n",
       "   0     0    0     1//3\n",
       "   0     0    0      0\n",
       "  1//2   0   1//2   1//3\n",
       " -1//2  -1   -1    -2//3\n",
       " -1//2   0    0    -1//3\n",
       " -1//2   0    0    -1//3\n",
       " -1//2   0  -1//2    0\n",
       "  1//2   1   1//2    1"
      ]
     },
     "metadata": {},
     "output_type": "display_data"
    }
   ],
   "source": [
    "U = zeros(Rational{Int64},10,4);\n",
    "for i in 1:4; U[:,i] .= new_vertex(v,W[:,i],hv); end; U"
   ]
  },
  {
   "cell_type": "markdown",
   "metadata": {},
   "source": [
    "# New vertices of $\\Lambda_2$ \n",
    "\n",
    "We consider lifts of the vertices $u_{i}\\in \\overline{\\text{MP}}$, by which we mean points $\\tilde u_{i}\\in \\mathbb{R}^{15}$ satisfying $M^\\ell \\tilde u_{i}\\geq I_{36\\times 1}$ and mapping to $u_i$ under the projection $\\pi:\\mathbb{R}^{15}\\to \\mathbb{R}^{9}$.\n",
    "The fact that $\\overline{\\text{MP}}$ is contained in $\\overline{\\text{CL}}$ allows for a simplified method of lifting that ensures that $\\tilde u_{i} \\in \\Lambda_{2}\\cap \\text{CL}$ and, in particular, such ``classical\" lifts yield vertices of $\\Lambda_{2}$.\n"
   ]
  },
  {
   "cell_type": "code",
   "execution_count": 39,
   "metadata": {},
   "outputs": [],
   "source": [
    "# local inequalities:\n",
    "S = [i for i in 1:36];\n",
    "# nonlocal coordinates\n",
    "s = [i for i in 8:16];"
   ]
  },
  {
   "cell_type": "markdown",
   "metadata": {},
   "source": [
    "### General lifting\n",
    "\n",
    "For a given $u_i\\in \\overline{\\text{MP}}$ the set of $\\tilde u_i$ satisfying $M^\\ell \\tilde u_{i}\\geq I_{36\\times 1}$ itself forms a convex polytope that we denote $\\widetilde{\\text{MP}}_{u_i}$."
   ]
  },
  {
   "cell_type": "code",
   "execution_count": 40,
   "metadata": {},
   "outputs": [],
   "source": [
    "# Create array of vertices (Easier for searching)\n",
    "L2array = polymake_to_array(L2.VERTICES,Rational{Int64});"
   ]
  },
  {
   "cell_type": "markdown",
   "metadata": {},
   "source": [
    "We lift each $u_i$ and generate the projection of $\\widetilde{\\text{MP}}_{u_i}$ to its local coordinates, as the nonlocal coordinates are fixed by $u_i\\in \\mathbb{R}^9$."
   ]
  },
  {
   "cell_type": "code",
   "execution_count": 49,
   "metadata": {
    "scrolled": true
   },
   "outputs": [
    {
     "name": "stdout",
     "output_type": "stream",
     "text": [
      "For vertex u0 the polytope of lifts has 22 total vertices. \n",
      " \n",
      "One of those vertices is number 18344 and type 6 in Lambda2: \n",
      "Rational{Int64}[1, -1//2, 0, 1, -1//2, -1//2, 1//2, 1, 0, 0, 1//2, -1//2, -1//2, -1//2, -1//2, 1//2]\n",
      " \n",
      "______________________\n",
      "\n",
      "One of those vertices is number 9729 and type 5 in Lambda2: \n",
      "Rational{Int64}[1, 0, 1//2, 1//2, 0, -1, 0, 1, 0, 0, 1//2, -1//2, -1//2, -1//2, -1//2, 1//2]\n",
      " \n",
      "______________________\n",
      "\n",
      "One of those vertices is number 12183 and type 6 in Lambda2: \n",
      "Rational{Int64}[1, -1//2, -1, 0, -1//2, 1//2, 1//2, 1, 0, 0, 1//2, -1//2, -1//2, -1//2, -1//2, 1//2]\n",
      " \n",
      "______________________\n",
      "\n",
      "One of those vertices is number 9561 and type 6 in Lambda2: \n",
      "Rational{Int64}[1, 1//2, 0, -1, 1//2, 1//2, -1//2, 1, 0, 0, 1//2, -1//2, -1//2, -1//2, -1//2, 1//2]\n",
      " \n",
      "______________________\n",
      "\n",
      "One of those vertices is number 4845 and type 6 in Lambda2: \n",
      "Rational{Int64}[1, 1//2, 1, 0, 1//2, -1//2, -1//2, 1, 0, 0, 1//2, -1//2, -1//2, -1//2, -1//2, 1//2]\n",
      " \n",
      "______________________\n",
      "\n",
      "One of those vertices is number 6124 and type 5 in Lambda2: \n",
      "Rational{Int64}[1, 0, -1//2, -1//2, 0, 1, 0, 1, 0, 0, 1//2, -1//2, -1//2, -1//2, -1//2, 1//2]\n",
      " \n",
      "______________________\n",
      "\n",
      "_______________________________________________________\n",
      " \n",
      "For vertex u1 the polytope of lifts has 14 total vertices. \n",
      " \n",
      "One of those vertices is number 17985 and type 3 in Lambda2: \n",
      "Rational{Int64}[1, -1//2, 1//2, -1//2, -1//2, -1//2, -1//2, 1, 0, 0, 0, -1, 0, 0, 0, 1]\n",
      " \n",
      "______________________\n",
      "\n",
      "One of those vertices is number 18350 and type 3 in Lambda2: \n",
      "Rational{Int64}[1, -1//2, 1//2, 1//2, -1//2, -1//2, 1//2, 1, 0, 0, 0, -1, 0, 0, 0, 1]\n",
      " \n",
      "______________________\n",
      "\n",
      "One of those vertices is number 15364 and type 3 in Lambda2: \n",
      "Rational{Int64}[1, -1//2, -1//2, 1//2, -1//2, 1//2, 1//2, 1, 0, 0, 0, -1, 0, 0, 0, 1]\n",
      " \n",
      "______________________\n",
      "\n",
      "One of those vertices is number 15077 and type 3 in Lambda2: \n",
      "Rational{Int64}[1, 1//2, -1//2, -1//2, 1//2, 1//2, -1//2, 1, 0, 0, 0, -1, 0, 0, 0, 1]\n",
      " \n",
      "______________________\n",
      "\n",
      "One of those vertices is number 10671 and type 3 in Lambda2: \n",
      "Rational{Int64}[1, 1//2, -1//2, 1//2, 1//2, 1//2, 1//2, 1, 0, 0, 0, -1, 0, 0, 0, 1]\n",
      " \n",
      "______________________\n",
      "\n",
      "One of those vertices is number 12722 and type 3 in Lambda2: \n",
      "Rational{Int64}[1, 1//2, 1//2, 1//2, 1//2, -1//2, 1//2, 1, 0, 0, 0, -1, 0, 0, 0, 1]\n",
      " \n",
      "______________________\n",
      "\n",
      "One of those vertices is number 16710 and type 3 in Lambda2: \n",
      "Rational{Int64}[1, -1//2, -1//2, -1//2, -1//2, 1//2, -1//2, 1, 0, 0, 0, -1, 0, 0, 0, 1]\n",
      " \n",
      "______________________\n",
      "\n",
      "One of those vertices is number 9815 and type 3 in Lambda2: \n",
      "Rational{Int64}[1, 1//2, 1//2, -1//2, 1//2, -1//2, -1//2, 1, 0, 0, 0, -1, 0, 0, 0, 1]\n",
      " \n",
      "______________________\n",
      "\n",
      "_______________________________________________________\n",
      " \n",
      "For vertex u2 the polytope of lifts has 28 total vertices. \n",
      " \n",
      "One of those vertices is number 3013 and type 5 in Lambda2: \n",
      "Rational{Int64}[1, -1//2, -1//2, 0, -1, 1//2, 1//2, 1//2, 0, 0, 1//2, -1, 0, 0, -1//2, 1//2]\n",
      " \n",
      "______________________\n",
      "\n",
      "One of those vertices is number 18353 and type 5 in Lambda2: \n",
      "Rational{Int64}[1, -1//2, 1//2, 1, 0, -1//2, 1//2, 1//2, 0, 0, 1//2, -1, 0, 0, -1//2, 1//2]\n",
      " \n",
      "______________________\n",
      "\n",
      "One of those vertices is number 12707 and type 5 in Lambda2: \n",
      "Rational{Int64}[1, 1//2, 1//2, 0, 1, -1//2, -1//2, 1//2, 0, 0, 1//2, -1, 0, 0, -1//2, 1//2]\n",
      " \n",
      "______________________\n",
      "\n",
      "One of those vertices is number 11897 and type 3 in Lambda2: \n",
      "Rational{Int64}[1, 0, -1, -1//2, -1//2, 1, 0, 1//2, 0, 0, 1//2, -1, 0, 0, -1//2, 1//2]\n",
      " \n",
      "______________________\n",
      "\n",
      "One of those vertices is number 6065 and type 5 in Lambda2: \n",
      "Rational{Int64}[1, 1//2, -1//2, -1, 0, 1//2, -1//2, 1//2, 0, 0, 1//2, -1, 0, 0, -1//2, 1//2]\n",
      " \n",
      "______________________\n",
      "\n",
      "One of those vertices is number 12931 and type 3 in Lambda2: \n",
      "Rational{Int64}[1, 0, 1, 1//2, 1//2, -1, 0, 1//2, 0, 0, 1//2, -1, 0, 0, -1//2, 1//2]\n",
      " \n",
      "______________________\n",
      "\n",
      "_______________________________________________________\n",
      " \n",
      "For vertex u3 the polytope of lifts has 50 total vertices. \n",
      " \n",
      "One of those vertices is number 14485 and type 7 in Lambda2: \n",
      "Rational{Int64}[1, -1//3, -2//3, 2//3, -2//3, 1//3, 2//3, 2//3, 1//3, 0, 1//3, -2//3, -1//3, -1//3, 0, 1]\n",
      " \n",
      "______________________\n",
      "\n",
      "One of those vertices is number 11606 and type 7 in Lambda2: \n",
      "Rational{Int64}[1, 1//3, 2//3, -2//3, 2//3, -1//3, -2//3, 2//3, 1//3, 0, 1//3, -2//3, -1//3, -1//3, 0, 1]\n",
      " \n",
      "______________________\n",
      "\n",
      "_______________________________________________________\n",
      " \n"
     ]
    }
   ],
   "source": [
    "# Lift each ui:\n",
    "for i in 1:4\n",
    "    # generate polytope of lifts:\n",
    "    __MPi = lift_mp1(U[2:end,i],M,S,s);\n",
    "    \n",
    "    # display vertices:\n",
    "    println(\"For vertex u\"*string(i-1)*\" the polytope of lifts has \"*string(__MPi.N_VERTICES)*\" total vertices. \\n \")\n",
    "\n",
    "    #println((representative_vertices(__MPi,false)));\n",
    "\n",
    "    #println(\"_______________________________________________________ \\n \")\n",
    "    \n",
    "    # run through all vertices of __MPi\n",
    "    for j in 1:size(__MPi.VERTICES)[1]\n",
    "        # vertex of MP_ui:\n",
    "        v = Vector{Rational{Int64}}(__MPi.VERTICES[j,:])\n",
    "        \n",
    "        # compute local rank:\n",
    "        Zloc = tight_inequalities(v,Mloc);\n",
    "        rloc = rank(Mloc[Zloc,:]);\n",
    "        \n",
    "        # compute total rank:\n",
    "        Z = tight_inequalities(v,M);\n",
    "        r = rank(M[Z,:]);\n",
    "        \n",
    "        if r == 15\n",
    "            v_idx = findall(y->y==v,L2array)[1];\n",
    "            for t in 1:8\n",
    "                if v_idx in L2orb[t]\n",
    "                    println(\"One of those vertices is number \"*string(v_idx)*\" and type \"*string(t)*\" in Lambda2: \")\n",
    "                    println(v, \"\\n \")\n",
    "                    println(\"______________________\\n\")\n",
    "                end\n",
    "            end\n",
    "        end\n",
    "    end\n",
    "    println(\"_______________________________________________________\\n \")\n",
    "end"
   ]
  },
  {
   "cell_type": "markdown",
   "metadata": {},
   "source": [
    "## Classical lift"
   ]
  },
  {
   "cell_type": "code",
   "execution_count": 71,
   "metadata": {
    "scrolled": true
   },
   "outputs": [
    {
     "data": {
      "text/plain": [
       "\"For vertex u0\""
      ]
     },
     "metadata": {},
     "output_type": "display_data"
    },
    {
     "data": {
      "text/plain": [
       "\"Vertices appearing in decomposition: \""
      ]
     },
     "metadata": {},
     "output_type": "display_data"
    },
    {
     "data": {
      "text/plain": [
       "10×4 Matrix{Rational{Int64}}:\n",
       "  1   1   1   1\n",
       "  1   1   1   1\n",
       " -1   1  -1   1\n",
       "  1  -1  -1   1\n",
       "  1   1   1  -1\n",
       " -1   1  -1  -1\n",
       "  1  -1  -1  -1\n",
       "  1  -1  -1  -1\n",
       " -1  -1   1  -1\n",
       "  1   1   1  -1"
      ]
     },
     "metadata": {},
     "output_type": "display_data"
    },
    {
     "data": {
      "text/plain": [
       "\"Vertices of allowed convex combinations: \""
      ]
     },
     "metadata": {},
     "output_type": "display_data"
    },
    {
     "data": {
      "text/plain": [
       "1×5 Matrix{Rational{Int64}}:\n",
       " 1  1//4  1//4  1//4  1//4"
      ]
     },
     "metadata": {},
     "output_type": "display_data"
    },
    {
     "data": {
      "text/plain": [
       "\"For vertex u1\""
      ]
     },
     "metadata": {},
     "output_type": "display_data"
    },
    {
     "data": {
      "text/plain": [
       "\"Vertices appearing in decomposition: \""
      ]
     },
     "metadata": {},
     "output_type": "display_data"
    },
    {
     "data": {
      "text/plain": [
       "10×4 Matrix{Rational{Int64}}:\n",
       "  1   1   1   1\n",
       "  1   1   1   1\n",
       " -1  -1   1   1\n",
       "  1  -1   1  -1\n",
       "  1   1  -1  -1\n",
       " -1  -1  -1  -1\n",
       "  1  -1  -1   1\n",
       "  1  -1   1  -1\n",
       " -1   1   1  -1\n",
       "  1   1   1   1"
      ]
     },
     "metadata": {},
     "output_type": "display_data"
    },
    {
     "data": {
      "text/plain": [
       "\"Vertices of allowed convex combinations: \""
      ]
     },
     "metadata": {},
     "output_type": "display_data"
    },
    {
     "data": {
      "text/plain": [
       "1×5 Matrix{Rational{Int64}}:\n",
       " 1  1//4  1//4  1//4  1//4"
      ]
     },
     "metadata": {},
     "output_type": "display_data"
    },
    {
     "data": {
      "text/plain": [
       "\"For vertex u2\""
      ]
     },
     "metadata": {},
     "output_type": "display_data"
    },
    {
     "data": {
      "text/plain": [
       "\"Vertices appearing in decomposition: \""
      ]
     },
     "metadata": {},
     "output_type": "display_data"
    },
    {
     "data": {
      "text/plain": [
       "10×8 Matrix{Rational{Int64}}:\n",
       "  1   1   1   1   1   1   1   1\n",
       "  1   1   1  -1   1   1  -1  -1\n",
       " -1  -1  -1   1   1   1   1   1\n",
       "  1  -1  -1   1   1  -1   1  -1\n",
       "  1   1   1   1  -1  -1   1   1\n",
       " -1  -1  -1  -1  -1  -1  -1  -1\n",
       "  1  -1  -1  -1  -1   1  -1   1\n",
       "  1   1  -1  -1  -1  -1   1   1\n",
       " -1  -1   1   1  -1  -1  -1  -1\n",
       "  1  -1   1   1  -1   1  -1   1"
      ]
     },
     "metadata": {},
     "output_type": "display_data"
    },
    {
     "data": {
      "text/plain": [
       "\"Vertices of allowed convex combinations: \""
      ]
     },
     "metadata": {},
     "output_type": "display_data"
    },
    {
     "data": {
      "text/plain": [
       "3×9 Matrix{Rational{Int64}}:\n",
       " 1  1//4   0    1//4   0    1//4   0     0    1//4\n",
       " 1  1//4   0    1//4   0     0    1//4  1//4   0\n",
       " 1  1//4  1//4   0    1//4   0    1//4   0     0"
      ]
     },
     "metadata": {},
     "output_type": "display_data"
    },
    {
     "data": {
      "text/plain": [
       "\"For vertex u3\""
      ]
     },
     "metadata": {},
     "output_type": "display_data"
    },
    {
     "data": {
      "text/plain": [
       "\"Vertices appearing in decomposition: \""
      ]
     },
     "metadata": {},
     "output_type": "display_data"
    },
    {
     "data": {
      "text/plain": [
       "10×6 Matrix{Rational{Int64}}:\n",
       "  1   1   1   1   1   1\n",
       "  1   1   1   1  -1   1\n",
       " -1   1  -1   1   1   1\n",
       "  1  -1  -1   1   1  -1\n",
       "  1   1   1  -1   1  -1\n",
       " -1   1  -1  -1  -1  -1\n",
       "  1  -1  -1  -1  -1   1\n",
       "  1  -1  -1   1  -1  -1\n",
       " -1  -1   1   1   1  -1\n",
       "  1   1   1   1   1   1"
      ]
     },
     "metadata": {},
     "output_type": "display_data"
    },
    {
     "data": {
      "text/plain": [
       "\"Vertices of allowed convex combinations: \""
      ]
     },
     "metadata": {},
     "output_type": "display_data"
    },
    {
     "data": {
      "text/plain": [
       "1×7 Matrix{Rational{Int64}}:\n",
       " 1  1//6  1//6  1//6  1//6  1//6  1//6"
      ]
     },
     "metadata": {},
     "output_type": "display_data"
    }
   ],
   "source": [
    "decomps = [];\n",
    "for i in 1:4\n",
    "    display(\"For vertex u\"*string(i-1))\n",
    "    \n",
    "    # compute decomposition of ui in terms of V2:\n",
    "    delta_i, cd_i = convex_decomposition(U[:,i],H2,V2);\n",
    "    \n",
    "    # collect results:\n",
    "    push!(decomps,[delta_i,Matrix{Rational{Int64}}(cd_i.VERTICES)]);\n",
    "    \n",
    "    # print results:\n",
    "    display(\"Vertices appearing in decomposition: \");\n",
    "    display((delta_i));# println(\"\\n \");\n",
    "    display(\"Vertices of allowed convex combinations: \");\n",
    "    display(decomps[i][2]);# println(\"\\n \")\n",
    "end"
   ]
  },
  {
   "cell_type": "markdown",
   "metadata": {},
   "source": [
    "### Lift of $\\mathbf{\\overline{\\text{MP}}}$ vertices"
   ]
  },
  {
   "cell_type": "code",
   "execution_count": 82,
   "metadata": {
    "scrolled": true
   },
   "outputs": [
    {
     "data": {
      "text/plain": [
       "\"Vertex u0\""
      ]
     },
     "metadata": {},
     "output_type": "display_data"
    },
    {
     "data": {
      "text/plain": [
       "\"Using deterministic vertices:\""
      ]
     },
     "metadata": {},
     "output_type": "display_data"
    },
    {
     "data": {
      "text/plain": [
       "16×4 Matrix{Rational{Int64}}:\n",
       "  1   1   1   1\n",
       "  1   1   1  -1\n",
       "  1   1   1   1\n",
       "  1  -1  -1   1\n",
       "  1   1   1  -1\n",
       " -1   1  -1  -1\n",
       "  1  -1  -1  -1\n",
       "  1   1   1   1\n",
       " -1   1  -1   1\n",
       "  1  -1  -1   1\n",
       "  1   1   1  -1\n",
       " -1   1  -1  -1\n",
       "  1  -1  -1  -1\n",
       "  1  -1  -1  -1\n",
       " -1  -1   1  -1\n",
       "  1   1   1  -1"
      ]
     },
     "metadata": {},
     "output_type": "display_data"
    },
    {
     "data": {
      "text/plain": [
       "\"and convex mixture\""
      ]
     },
     "metadata": {},
     "output_type": "display_data"
    },
    {
     "data": {
      "text/plain": [
       "4-element Vector{Rational{Int64}}:\n",
       " 1//4\n",
       " 1//4\n",
       " 1//4\n",
       " 1//4"
      ]
     },
     "metadata": {},
     "output_type": "display_data"
    },
    {
     "data": {
      "text/plain": [
       "\"we obtain vertex 4845 of type 6\""
      ]
     },
     "metadata": {},
     "output_type": "display_data"
    },
    {
     "data": {
      "text/plain": [
       "16-element Vector{Rational{Int64}}:\n",
       "   1\n",
       "  1//2\n",
       "   1\n",
       "   0\n",
       "  1//2\n",
       " -1//2\n",
       " -1//2\n",
       "   1\n",
       "   0\n",
       "   0\n",
       "  1//2\n",
       " -1//2\n",
       " -1//2\n",
       " -1//2\n",
       " -1//2\n",
       "  1//2"
      ]
     },
     "metadata": {},
     "output_type": "display_data"
    },
    {
     "data": {
      "text/plain": [
       "\"__________________\""
      ]
     },
     "metadata": {},
     "output_type": "display_data"
    },
    {
     "data": {
      "text/plain": [
       "\"Using deterministic vertices:\""
      ]
     },
     "metadata": {},
     "output_type": "display_data"
    },
    {
     "data": {
      "text/plain": [
       "16×4 Matrix{Rational{Int64}}:\n",
       "  1   1   1   1\n",
       "  1  -1   1  -1\n",
       "  1  -1   1   1\n",
       "  1   1  -1   1\n",
       "  1  -1   1  -1\n",
       " -1  -1  -1  -1\n",
       "  1   1  -1  -1\n",
       "  1   1   1   1\n",
       " -1   1  -1   1\n",
       "  1  -1  -1   1\n",
       "  1   1   1  -1\n",
       " -1   1  -1  -1\n",
       "  1  -1  -1  -1\n",
       "  1  -1  -1  -1\n",
       " -1  -1   1  -1\n",
       "  1   1   1  -1"
      ]
     },
     "metadata": {},
     "output_type": "display_data"
    },
    {
     "data": {
      "text/plain": [
       "\"and convex mixture\""
      ]
     },
     "metadata": {},
     "output_type": "display_data"
    },
    {
     "data": {
      "text/plain": [
       "4-element Vector{Rational{Int64}}:\n",
       " 1//4\n",
       " 1//4\n",
       " 1//4\n",
       " 1//4"
      ]
     },
     "metadata": {},
     "output_type": "display_data"
    },
    {
     "data": {
      "text/plain": [
       "\"we obtain vertex 9729 of type 5\""
      ]
     },
     "metadata": {},
     "output_type": "display_data"
    },
    {
     "data": {
      "text/plain": [
       "16-element Vector{Rational{Int64}}:\n",
       "   1\n",
       "   0\n",
       "  1//2\n",
       "  1//2\n",
       "   0\n",
       "  -1\n",
       "   0\n",
       "   1\n",
       "   0\n",
       "   0\n",
       "  1//2\n",
       " -1//2\n",
       " -1//2\n",
       " -1//2\n",
       " -1//2\n",
       "  1//2"
      ]
     },
     "metadata": {},
     "output_type": "display_data"
    },
    {
     "data": {
      "text/plain": [
       "\"__________________\""
      ]
     },
     "metadata": {},
     "output_type": "display_data"
    },
    {
     "data": {
      "text/plain": [
       "\"Using deterministic vertices:\""
      ]
     },
     "metadata": {},
     "output_type": "display_data"
    },
    {
     "data": {
      "text/plain": [
       "16×4 Matrix{Rational{Int64}}:\n",
       "  1   1   1   1\n",
       "  1  -1  -1  -1\n",
       "  1  -1  -1   1\n",
       "  1   1   1   1\n",
       "  1  -1  -1  -1\n",
       " -1  -1   1  -1\n",
       "  1   1   1  -1\n",
       "  1   1   1   1\n",
       " -1   1  -1   1\n",
       "  1  -1  -1   1\n",
       "  1   1   1  -1\n",
       " -1   1  -1  -1\n",
       "  1  -1  -1  -1\n",
       "  1  -1  -1  -1\n",
       " -1  -1   1  -1\n",
       "  1   1   1  -1"
      ]
     },
     "metadata": {},
     "output_type": "display_data"
    },
    {
     "data": {
      "text/plain": [
       "\"and convex mixture\""
      ]
     },
     "metadata": {},
     "output_type": "display_data"
    },
    {
     "data": {
      "text/plain": [
       "4-element Vector{Rational{Int64}}:\n",
       " 1//4\n",
       " 1//4\n",
       " 1//4\n",
       " 1//4"
      ]
     },
     "metadata": {},
     "output_type": "display_data"
    },
    {
     "data": {
      "text/plain": [
       "\"we obtain vertex 18344 of type 6\""
      ]
     },
     "metadata": {},
     "output_type": "display_data"
    },
    {
     "data": {
      "text/plain": [
       "16-element Vector{Rational{Int64}}:\n",
       "   1\n",
       " -1//2\n",
       "   0\n",
       "   1\n",
       " -1//2\n",
       " -1//2\n",
       "  1//2\n",
       "   1\n",
       "   0\n",
       "   0\n",
       "  1//2\n",
       " -1//2\n",
       " -1//2\n",
       " -1//2\n",
       " -1//2\n",
       "  1//2"
      ]
     },
     "metadata": {},
     "output_type": "display_data"
    },
    {
     "data": {
      "text/plain": [
       "\"__________________\""
      ]
     },
     "metadata": {},
     "output_type": "display_data"
    },
    {
     "data": {
      "text/plain": [
       "\"Using deterministic vertices:\""
      ]
     },
     "metadata": {},
     "output_type": "display_data"
    },
    {
     "data": {
      "text/plain": [
       "16×4 Matrix{Rational{Int64}}:\n",
       "  1   1   1   1\n",
       " -1   1   1   1\n",
       " -1   1   1  -1\n",
       " -1  -1  -1  -1\n",
       " -1   1   1   1\n",
       "  1   1  -1   1\n",
       " -1  -1  -1   1\n",
       "  1   1   1   1\n",
       " -1   1  -1   1\n",
       "  1  -1  -1   1\n",
       "  1   1   1  -1\n",
       " -1   1  -1  -1\n",
       "  1  -1  -1  -1\n",
       "  1  -1  -1  -1\n",
       " -1  -1   1  -1\n",
       "  1   1   1  -1"
      ]
     },
     "metadata": {},
     "output_type": "display_data"
    },
    {
     "data": {
      "text/plain": [
       "\"and convex mixture\""
      ]
     },
     "metadata": {},
     "output_type": "display_data"
    },
    {
     "data": {
      "text/plain": [
       "4-element Vector{Rational{Int64}}:\n",
       " 1//4\n",
       " 1//4\n",
       " 1//4\n",
       " 1//4"
      ]
     },
     "metadata": {},
     "output_type": "display_data"
    },
    {
     "data": {
      "text/plain": [
       "\"we obtain vertex 9561 of type 6\""
      ]
     },
     "metadata": {},
     "output_type": "display_data"
    },
    {
     "data": {
      "text/plain": [
       "16-element Vector{Rational{Int64}}:\n",
       "   1\n",
       "  1//2\n",
       "   0\n",
       "  -1\n",
       "  1//2\n",
       "  1//2\n",
       " -1//2\n",
       "   1\n",
       "   0\n",
       "   0\n",
       "  1//2\n",
       " -1//2\n",
       " -1//2\n",
       " -1//2\n",
       " -1//2\n",
       "  1//2"
      ]
     },
     "metadata": {},
     "output_type": "display_data"
    },
    {
     "data": {
      "text/plain": [
       "\"__________________\""
      ]
     },
     "metadata": {},
     "output_type": "display_data"
    },
    {
     "data": {
      "text/plain": [
       "\"Using deterministic vertices:\""
      ]
     },
     "metadata": {},
     "output_type": "display_data"
    },
    {
     "data": {
      "text/plain": [
       "16×4 Matrix{Rational{Int64}}:\n",
       "  1   1   1   1\n",
       " -1   1  -1   1\n",
       " -1   1  -1  -1\n",
       " -1  -1   1  -1\n",
       " -1   1  -1   1\n",
       "  1   1   1   1\n",
       " -1  -1   1   1\n",
       "  1   1   1   1\n",
       " -1   1  -1   1\n",
       "  1  -1  -1   1\n",
       "  1   1   1  -1\n",
       " -1   1  -1  -1\n",
       "  1  -1  -1  -1\n",
       "  1  -1  -1  -1\n",
       " -1  -1   1  -1\n",
       "  1   1   1  -1"
      ]
     },
     "metadata": {},
     "output_type": "display_data"
    },
    {
     "data": {
      "text/plain": [
       "\"and convex mixture\""
      ]
     },
     "metadata": {},
     "output_type": "display_data"
    },
    {
     "data": {
      "text/plain": [
       "4-element Vector{Rational{Int64}}:\n",
       " 1//4\n",
       " 1//4\n",
       " 1//4\n",
       " 1//4"
      ]
     },
     "metadata": {},
     "output_type": "display_data"
    },
    {
     "data": {
      "text/plain": [
       "\"we obtain vertex 6124 of type 5\""
      ]
     },
     "metadata": {},
     "output_type": "display_data"
    },
    {
     "data": {
      "text/plain": [
       "16-element Vector{Rational{Int64}}:\n",
       "   1\n",
       "   0\n",
       " -1//2\n",
       " -1//2\n",
       "   0\n",
       "   1\n",
       "   0\n",
       "   1\n",
       "   0\n",
       "   0\n",
       "  1//2\n",
       " -1//2\n",
       " -1//2\n",
       " -1//2\n",
       " -1//2\n",
       "  1//2"
      ]
     },
     "metadata": {},
     "output_type": "display_data"
    },
    {
     "data": {
      "text/plain": [
       "\"__________________\""
      ]
     },
     "metadata": {},
     "output_type": "display_data"
    },
    {
     "data": {
      "text/plain": [
       "\"Using deterministic vertices:\""
      ]
     },
     "metadata": {},
     "output_type": "display_data"
    },
    {
     "data": {
      "text/plain": [
       "16×4 Matrix{Rational{Int64}}:\n",
       "  1   1   1   1\n",
       " -1  -1  -1   1\n",
       " -1  -1  -1  -1\n",
       " -1   1   1  -1\n",
       " -1  -1  -1   1\n",
       "  1  -1   1   1\n",
       " -1   1   1   1\n",
       "  1   1   1   1\n",
       " -1   1  -1   1\n",
       "  1  -1  -1   1\n",
       "  1   1   1  -1\n",
       " -1   1  -1  -1\n",
       "  1  -1  -1  -1\n",
       "  1  -1  -1  -1\n",
       " -1  -1   1  -1\n",
       "  1   1   1  -1"
      ]
     },
     "metadata": {},
     "output_type": "display_data"
    },
    {
     "data": {
      "text/plain": [
       "\"and convex mixture\""
      ]
     },
     "metadata": {},
     "output_type": "display_data"
    },
    {
     "data": {
      "text/plain": [
       "4-element Vector{Rational{Int64}}:\n",
       " 1//4\n",
       " 1//4\n",
       " 1//4\n",
       " 1//4"
      ]
     },
     "metadata": {},
     "output_type": "display_data"
    },
    {
     "data": {
      "text/plain": [
       "\"we obtain vertex 12183 of type 6\""
      ]
     },
     "metadata": {},
     "output_type": "display_data"
    },
    {
     "data": {
      "text/plain": [
       "16-element Vector{Rational{Int64}}:\n",
       "   1\n",
       " -1//2\n",
       "  -1\n",
       "   0\n",
       " -1//2\n",
       "  1//2\n",
       "  1//2\n",
       "   1\n",
       "   0\n",
       "   0\n",
       "  1//2\n",
       " -1//2\n",
       " -1//2\n",
       " -1//2\n",
       " -1//2\n",
       "  1//2"
      ]
     },
     "metadata": {},
     "output_type": "display_data"
    },
    {
     "data": {
      "text/plain": [
       "\"__________________\""
      ]
     },
     "metadata": {},
     "output_type": "display_data"
    },
    {
     "data": {
      "text/plain": [
       "\"______________________________________________________________ \""
      ]
     },
     "metadata": {},
     "output_type": "display_data"
    },
    {
     "data": {
      "text/plain": [
       "\"Vertex u1\""
      ]
     },
     "metadata": {},
     "output_type": "display_data"
    },
    {
     "data": {
      "text/plain": [
       "\"Using deterministic vertices:\""
      ]
     },
     "metadata": {},
     "output_type": "display_data"
    },
    {
     "data": {
      "text/plain": [
       "16×4 Matrix{Rational{Int64}}:\n",
       "  1   1   1   1\n",
       "  1   1   1  -1\n",
       "  1   1  -1   1\n",
       "  1  -1   1   1\n",
       "  1   1   1  -1\n",
       " -1  -1   1  -1\n",
       "  1  -1   1   1\n",
       "  1   1   1   1\n",
       " -1  -1   1   1\n",
       "  1  -1   1  -1\n",
       "  1   1  -1  -1\n",
       " -1  -1  -1  -1\n",
       "  1  -1  -1   1\n",
       "  1  -1   1  -1\n",
       " -1   1   1  -1\n",
       "  1   1   1   1"
      ]
     },
     "metadata": {},
     "output_type": "display_data"
    },
    {
     "data": {
      "text/plain": [
       "\"and convex mixture\""
      ]
     },
     "metadata": {},
     "output_type": "display_data"
    },
    {
     "data": {
      "text/plain": [
       "4-element Vector{Rational{Int64}}:\n",
       " 1//4\n",
       " 1//4\n",
       " 1//4\n",
       " 1//4"
      ]
     },
     "metadata": {},
     "output_type": "display_data"
    },
    {
     "data": {
      "text/plain": [
       "\"we obtain vertex 12722 of type 3\""
      ]
     },
     "metadata": {},
     "output_type": "display_data"
    },
    {
     "data": {
      "text/plain": [
       "16-element Vector{Rational{Int64}}:\n",
       "   1\n",
       "  1//2\n",
       "  1//2\n",
       "  1//2\n",
       "  1//2\n",
       " -1//2\n",
       "  1//2\n",
       "   1\n",
       "   0\n",
       "   0\n",
       "   0\n",
       "  -1\n",
       "   0\n",
       "   0\n",
       "   0\n",
       "   1"
      ]
     },
     "metadata": {},
     "output_type": "display_data"
    },
    {
     "data": {
      "text/plain": [
       "\"__________________\""
      ]
     },
     "metadata": {},
     "output_type": "display_data"
    },
    {
     "data": {
      "text/plain": [
       "\"Using deterministic vertices:\""
      ]
     },
     "metadata": {},
     "output_type": "display_data"
    },
    {
     "data": {
      "text/plain": [
       "16×4 Matrix{Rational{Int64}}:\n",
       "  1   1   1   1\n",
       "  1   1  -1   1\n",
       "  1   1   1  -1\n",
       "  1  -1  -1  -1\n",
       "  1   1  -1   1\n",
       " -1  -1  -1   1\n",
       "  1  -1  -1  -1\n",
       "  1   1   1   1\n",
       " -1  -1   1   1\n",
       "  1  -1   1  -1\n",
       "  1   1  -1  -1\n",
       " -1  -1  -1  -1\n",
       "  1  -1  -1   1\n",
       "  1  -1   1  -1\n",
       " -1   1   1  -1\n",
       "  1   1   1   1"
      ]
     },
     "metadata": {},
     "output_type": "display_data"
    },
    {
     "data": {
      "text/plain": [
       "\"and convex mixture\""
      ]
     },
     "metadata": {},
     "output_type": "display_data"
    },
    {
     "data": {
      "text/plain": [
       "4-element Vector{Rational{Int64}}:\n",
       " 1//4\n",
       " 1//4\n",
       " 1//4\n",
       " 1//4"
      ]
     },
     "metadata": {},
     "output_type": "display_data"
    },
    {
     "data": {
      "text/plain": [
       "\"we obtain vertex 9815 of type 3\""
      ]
     },
     "metadata": {},
     "output_type": "display_data"
    },
    {
     "data": {
      "text/plain": [
       "16-element Vector{Rational{Int64}}:\n",
       "   1\n",
       "  1//2\n",
       "  1//2\n",
       " -1//2\n",
       "  1//2\n",
       " -1//2\n",
       " -1//2\n",
       "   1\n",
       "   0\n",
       "   0\n",
       "   0\n",
       "  -1\n",
       "   0\n",
       "   0\n",
       "   0\n",
       "   1"
      ]
     },
     "metadata": {},
     "output_type": "display_data"
    },
    {
     "data": {
      "text/plain": [
       "\"__________________\""
      ]
     },
     "metadata": {},
     "output_type": "display_data"
    },
    {
     "data": {
      "text/plain": [
       "\"Using deterministic vertices:\""
      ]
     },
     "metadata": {},
     "output_type": "display_data"
    },
    {
     "data": {
      "text/plain": [
       "16×4 Matrix{Rational{Int64}}:\n",
       "  1   1   1   1\n",
       "  1  -1   1   1\n",
       "  1  -1  -1  -1\n",
       "  1   1   1  -1\n",
       "  1  -1   1   1\n",
       " -1   1   1   1\n",
       "  1   1   1  -1\n",
       "  1   1   1   1\n",
       " -1  -1   1   1\n",
       "  1  -1   1  -1\n",
       "  1   1  -1  -1\n",
       " -1  -1  -1  -1\n",
       "  1  -1  -1   1\n",
       "  1  -1   1  -1\n",
       " -1   1   1  -1\n",
       "  1   1   1   1"
      ]
     },
     "metadata": {},
     "output_type": "display_data"
    },
    {
     "data": {
      "text/plain": [
       "\"and convex mixture\""
      ]
     },
     "metadata": {},
     "output_type": "display_data"
    },
    {
     "data": {
      "text/plain": [
       "4-element Vector{Rational{Int64}}:\n",
       " 1//4\n",
       " 1//4\n",
       " 1//4\n",
       " 1//4"
      ]
     },
     "metadata": {},
     "output_type": "display_data"
    },
    {
     "data": {
      "text/plain": [
       "\"we obtain vertex 10671 of type 3\""
      ]
     },
     "metadata": {},
     "output_type": "display_data"
    },
    {
     "data": {
      "text/plain": [
       "16-element Vector{Rational{Int64}}:\n",
       "   1\n",
       "  1//2\n",
       " -1//2\n",
       "  1//2\n",
       "  1//2\n",
       "  1//2\n",
       "  1//2\n",
       "   1\n",
       "   0\n",
       "   0\n",
       "   0\n",
       "  -1\n",
       "   0\n",
       "   0\n",
       "   0\n",
       "   1"
      ]
     },
     "metadata": {},
     "output_type": "display_data"
    },
    {
     "data": {
      "text/plain": [
       "\"__________________\""
      ]
     },
     "metadata": {},
     "output_type": "display_data"
    },
    {
     "data": {
      "text/plain": [
       "\"Using deterministic vertices:\""
      ]
     },
     "metadata": {},
     "output_type": "display_data"
    },
    {
     "data": {
      "text/plain": [
       "16×4 Matrix{Rational{Int64}}:\n",
       "  1   1   1   1\n",
       "  1  -1  -1  -1\n",
       "  1  -1   1   1\n",
       "  1   1  -1   1\n",
       "  1  -1  -1  -1\n",
       " -1   1  -1  -1\n",
       "  1   1  -1   1\n",
       "  1   1   1   1\n",
       " -1  -1   1   1\n",
       "  1  -1   1  -1\n",
       "  1   1  -1  -1\n",
       " -1  -1  -1  -1\n",
       "  1  -1  -1   1\n",
       "  1  -1   1  -1\n",
       " -1   1   1  -1\n",
       "  1   1   1   1"
      ]
     },
     "metadata": {},
     "output_type": "display_data"
    },
    {
     "data": {
      "text/plain": [
       "\"and convex mixture\""
      ]
     },
     "metadata": {},
     "output_type": "display_data"
    },
    {
     "data": {
      "text/plain": [
       "4-element Vector{Rational{Int64}}:\n",
       " 1//4\n",
       " 1//4\n",
       " 1//4\n",
       " 1//4"
      ]
     },
     "metadata": {},
     "output_type": "display_data"
    },
    {
     "data": {
      "text/plain": [
       "\"we obtain vertex 18350 of type 3\""
      ]
     },
     "metadata": {},
     "output_type": "display_data"
    },
    {
     "data": {
      "text/plain": [
       "16-element Vector{Rational{Int64}}:\n",
       "   1\n",
       " -1//2\n",
       "  1//2\n",
       "  1//2\n",
       " -1//2\n",
       " -1//2\n",
       "  1//2\n",
       "   1\n",
       "   0\n",
       "   0\n",
       "   0\n",
       "  -1\n",
       "   0\n",
       "   0\n",
       "   0\n",
       "   1"
      ]
     },
     "metadata": {},
     "output_type": "display_data"
    },
    {
     "data": {
      "text/plain": [
       "\"__________________\""
      ]
     },
     "metadata": {},
     "output_type": "display_data"
    },
    {
     "data": {
      "text/plain": [
       "\"Using deterministic vertices:\""
      ]
     },
     "metadata": {},
     "output_type": "display_data"
    },
    {
     "data": {
      "text/plain": [
       "16×4 Matrix{Rational{Int64}}:\n",
       "  1   1   1   1\n",
       " -1   1   1   1\n",
       " -1   1  -1  -1\n",
       " -1  -1   1  -1\n",
       " -1   1   1   1\n",
       "  1  -1   1   1\n",
       " -1  -1   1  -1\n",
       "  1   1   1   1\n",
       " -1  -1   1   1\n",
       "  1  -1   1  -1\n",
       "  1   1  -1  -1\n",
       " -1  -1  -1  -1\n",
       "  1  -1  -1   1\n",
       "  1  -1   1  -1\n",
       " -1   1   1  -1\n",
       "  1   1   1   1"
      ]
     },
     "metadata": {},
     "output_type": "display_data"
    },
    {
     "data": {
      "text/plain": [
       "\"and convex mixture\""
      ]
     },
     "metadata": {},
     "output_type": "display_data"
    },
    {
     "data": {
      "text/plain": [
       "4-element Vector{Rational{Int64}}:\n",
       " 1//4\n",
       " 1//4\n",
       " 1//4\n",
       " 1//4"
      ]
     },
     "metadata": {},
     "output_type": "display_data"
    },
    {
     "data": {
      "text/plain": [
       "\"we obtain vertex 15077 of type 3\""
      ]
     },
     "metadata": {},
     "output_type": "display_data"
    },
    {
     "data": {
      "text/plain": [
       "16-element Vector{Rational{Int64}}:\n",
       "   1\n",
       "  1//2\n",
       " -1//2\n",
       " -1//2\n",
       "  1//2\n",
       "  1//2\n",
       " -1//2\n",
       "   1\n",
       "   0\n",
       "   0\n",
       "   0\n",
       "  -1\n",
       "   0\n",
       "   0\n",
       "   0\n",
       "   1"
      ]
     },
     "metadata": {},
     "output_type": "display_data"
    },
    {
     "data": {
      "text/plain": [
       "\"__________________\""
      ]
     },
     "metadata": {},
     "output_type": "display_data"
    },
    {
     "data": {
      "text/plain": [
       "\"Using deterministic vertices:\""
      ]
     },
     "metadata": {},
     "output_type": "display_data"
    },
    {
     "data": {
      "text/plain": [
       "16×4 Matrix{Rational{Int64}}:\n",
       "  1   1   1   1\n",
       " -1   1  -1  -1\n",
       " -1   1   1   1\n",
       " -1  -1  -1   1\n",
       " -1   1  -1  -1\n",
       "  1  -1  -1  -1\n",
       " -1  -1  -1   1\n",
       "  1   1   1   1\n",
       " -1  -1   1   1\n",
       "  1  -1   1  -1\n",
       "  1   1  -1  -1\n",
       " -1  -1  -1  -1\n",
       "  1  -1  -1   1\n",
       "  1  -1   1  -1\n",
       " -1   1   1  -1\n",
       "  1   1   1   1"
      ]
     },
     "metadata": {},
     "output_type": "display_data"
    },
    {
     "data": {
      "text/plain": [
       "\"and convex mixture\""
      ]
     },
     "metadata": {},
     "output_type": "display_data"
    },
    {
     "data": {
      "text/plain": [
       "4-element Vector{Rational{Int64}}:\n",
       " 1//4\n",
       " 1//4\n",
       " 1//4\n",
       " 1//4"
      ]
     },
     "metadata": {},
     "output_type": "display_data"
    },
    {
     "data": {
      "text/plain": [
       "\"we obtain vertex 17985 of type 3\""
      ]
     },
     "metadata": {},
     "output_type": "display_data"
    },
    {
     "data": {
      "text/plain": [
       "16-element Vector{Rational{Int64}}:\n",
       "   1\n",
       " -1//2\n",
       "  1//2\n",
       " -1//2\n",
       " -1//2\n",
       " -1//2\n",
       " -1//2\n",
       "   1\n",
       "   0\n",
       "   0\n",
       "   0\n",
       "  -1\n",
       "   0\n",
       "   0\n",
       "   0\n",
       "   1"
      ]
     },
     "metadata": {},
     "output_type": "display_data"
    },
    {
     "data": {
      "text/plain": [
       "\"__________________\""
      ]
     },
     "metadata": {},
     "output_type": "display_data"
    },
    {
     "data": {
      "text/plain": [
       "\"Using deterministic vertices:\""
      ]
     },
     "metadata": {},
     "output_type": "display_data"
    },
    {
     "data": {
      "text/plain": [
       "16×4 Matrix{Rational{Int64}}:\n",
       "  1   1   1   1\n",
       " -1  -1   1  -1\n",
       " -1  -1  -1   1\n",
       " -1   1   1   1\n",
       " -1  -1   1  -1\n",
       "  1   1   1  -1\n",
       " -1   1   1   1\n",
       "  1   1   1   1\n",
       " -1  -1   1   1\n",
       "  1  -1   1  -1\n",
       "  1   1  -1  -1\n",
       " -1  -1  -1  -1\n",
       "  1  -1  -1   1\n",
       "  1  -1   1  -1\n",
       " -1   1   1  -1\n",
       "  1   1   1   1"
      ]
     },
     "metadata": {},
     "output_type": "display_data"
    },
    {
     "data": {
      "text/plain": [
       "\"and convex mixture\""
      ]
     },
     "metadata": {},
     "output_type": "display_data"
    },
    {
     "data": {
      "text/plain": [
       "4-element Vector{Rational{Int64}}:\n",
       " 1//4\n",
       " 1//4\n",
       " 1//4\n",
       " 1//4"
      ]
     },
     "metadata": {},
     "output_type": "display_data"
    },
    {
     "data": {
      "text/plain": [
       "\"we obtain vertex 15364 of type 3\""
      ]
     },
     "metadata": {},
     "output_type": "display_data"
    },
    {
     "data": {
      "text/plain": [
       "16-element Vector{Rational{Int64}}:\n",
       "   1\n",
       " -1//2\n",
       " -1//2\n",
       "  1//2\n",
       " -1//2\n",
       "  1//2\n",
       "  1//2\n",
       "   1\n",
       "   0\n",
       "   0\n",
       "   0\n",
       "  -1\n",
       "   0\n",
       "   0\n",
       "   0\n",
       "   1"
      ]
     },
     "metadata": {},
     "output_type": "display_data"
    },
    {
     "data": {
      "text/plain": [
       "\"__________________\""
      ]
     },
     "metadata": {},
     "output_type": "display_data"
    },
    {
     "data": {
      "text/plain": [
       "\"Using deterministic vertices:\""
      ]
     },
     "metadata": {},
     "output_type": "display_data"
    },
    {
     "data": {
      "text/plain": [
       "16×4 Matrix{Rational{Int64}}:\n",
       "  1   1   1   1\n",
       " -1  -1  -1   1\n",
       " -1  -1   1  -1\n",
       " -1   1  -1  -1\n",
       " -1  -1  -1   1\n",
       "  1   1  -1   1\n",
       " -1   1  -1  -1\n",
       "  1   1   1   1\n",
       " -1  -1   1   1\n",
       "  1  -1   1  -1\n",
       "  1   1  -1  -1\n",
       " -1  -1  -1  -1\n",
       "  1  -1  -1   1\n",
       "  1  -1   1  -1\n",
       " -1   1   1  -1\n",
       "  1   1   1   1"
      ]
     },
     "metadata": {},
     "output_type": "display_data"
    },
    {
     "data": {
      "text/plain": [
       "\"and convex mixture\""
      ]
     },
     "metadata": {},
     "output_type": "display_data"
    },
    {
     "data": {
      "text/plain": [
       "4-element Vector{Rational{Int64}}:\n",
       " 1//4\n",
       " 1//4\n",
       " 1//4\n",
       " 1//4"
      ]
     },
     "metadata": {},
     "output_type": "display_data"
    },
    {
     "data": {
      "text/plain": [
       "\"we obtain vertex 16710 of type 3\""
      ]
     },
     "metadata": {},
     "output_type": "display_data"
    },
    {
     "data": {
      "text/plain": [
       "16-element Vector{Rational{Int64}}:\n",
       "   1\n",
       " -1//2\n",
       " -1//2\n",
       " -1//2\n",
       " -1//2\n",
       "  1//2\n",
       " -1//2\n",
       "   1\n",
       "   0\n",
       "   0\n",
       "   0\n",
       "  -1\n",
       "   0\n",
       "   0\n",
       "   0\n",
       "   1"
      ]
     },
     "metadata": {},
     "output_type": "display_data"
    },
    {
     "data": {
      "text/plain": [
       "\"__________________\""
      ]
     },
     "metadata": {},
     "output_type": "display_data"
    },
    {
     "data": {
      "text/plain": [
       "\"______________________________________________________________ \""
      ]
     },
     "metadata": {},
     "output_type": "display_data"
    },
    {
     "data": {
      "text/plain": [
       "\"Vertex u2\""
      ]
     },
     "metadata": {},
     "output_type": "display_data"
    },
    {
     "data": {
      "text/plain": [
       "\"Using deterministic vertices:\""
      ]
     },
     "metadata": {},
     "output_type": "display_data"
    },
    {
     "data": {
      "text/plain": [
       "16×4 Matrix{Rational{Int64}}:\n",
       "  1   1   1   1\n",
       "  1   1  -1  -1\n",
       "  1   1   1   1\n",
       "  1  -1   1   1\n",
       "  1   1  -1   1\n",
       " -1  -1  -1  -1\n",
       "  1  -1  -1   1\n",
       "  1   1   1  -1\n",
       " -1  -1   1   1\n",
       "  1  -1   1  -1\n",
       "  1   1  -1   1\n",
       " -1  -1  -1  -1\n",
       "  1  -1  -1   1\n",
       "  1  -1  -1   1\n",
       " -1   1  -1  -1\n",
       "  1   1  -1   1"
      ]
     },
     "metadata": {},
     "output_type": "display_data"
    },
    {
     "data": {
      "text/plain": [
       "\"and convex mixture\""
      ]
     },
     "metadata": {},
     "output_type": "display_data"
    },
    {
     "data": {
      "text/plain": [
       "4-element Vector{Rational{Int64}}:\n",
       " 1//4\n",
       " 1//4\n",
       " 1//4\n",
       " 1//4"
      ]
     },
     "metadata": {},
     "output_type": "display_data"
    },
    {
     "data": {
      "text/plain": [
       "\"we obtain vertex 12931 of type 3\""
      ]
     },
     "metadata": {},
     "output_type": "display_data"
    },
    {
     "data": {
      "text/plain": [
       "16-element Vector{Rational{Int64}}:\n",
       "   1\n",
       "   0\n",
       "   1\n",
       "  1//2\n",
       "  1//2\n",
       "  -1\n",
       "   0\n",
       "  1//2\n",
       "   0\n",
       "   0\n",
       "  1//2\n",
       "  -1\n",
       "   0\n",
       "   0\n",
       " -1//2\n",
       "  1//2"
      ]
     },
     "metadata": {},
     "output_type": "display_data"
    },
    {
     "data": {
      "text/plain": [
       "\"__________________\""
      ]
     },
     "metadata": {},
     "output_type": "display_data"
    },
    {
     "data": {
      "text/plain": [
       "\"Using deterministic vertices:\""
      ]
     },
     "metadata": {},
     "output_type": "display_data"
    },
    {
     "data": {
      "text/plain": [
       "16×4 Matrix{Rational{Int64}}:\n",
       "  1   1   1   1\n",
       "  1  -1  -1  -1\n",
       "  1  -1   1   1\n",
       "  1   1   1   1\n",
       "  1  -1  -1   1\n",
       " -1   1  -1  -1\n",
       "  1   1  -1   1\n",
       "  1   1   1  -1\n",
       " -1  -1   1   1\n",
       "  1  -1   1  -1\n",
       "  1   1  -1   1\n",
       " -1  -1  -1  -1\n",
       "  1  -1  -1   1\n",
       "  1  -1  -1   1\n",
       " -1   1  -1  -1\n",
       "  1   1  -1   1"
      ]
     },
     "metadata": {},
     "output_type": "display_data"
    },
    {
     "data": {
      "text/plain": [
       "\"and convex mixture\""
      ]
     },
     "metadata": {},
     "output_type": "display_data"
    },
    {
     "data": {
      "text/plain": [
       "4-element Vector{Rational{Int64}}:\n",
       " 1//4\n",
       " 1//4\n",
       " 1//4\n",
       " 1//4"
      ]
     },
     "metadata": {},
     "output_type": "display_data"
    },
    {
     "data": {
      "text/plain": [
       "\"we obtain vertex 18353 of type 5\""
      ]
     },
     "metadata": {},
     "output_type": "display_data"
    },
    {
     "data": {
      "text/plain": [
       "16-element Vector{Rational{Int64}}:\n",
       "   1\n",
       " -1//2\n",
       "  1//2\n",
       "   1\n",
       "   0\n",
       " -1//2\n",
       "  1//2\n",
       "  1//2\n",
       "   0\n",
       "   0\n",
       "  1//2\n",
       "  -1\n",
       "   0\n",
       "   0\n",
       " -1//2\n",
       "  1//2"
      ]
     },
     "metadata": {},
     "output_type": "display_data"
    },
    {
     "data": {
      "text/plain": [
       "\"__________________\""
      ]
     },
     "metadata": {},
     "output_type": "display_data"
    },
    {
     "data": {
      "text/plain": [
       "\"Using deterministic vertices:\""
      ]
     },
     "metadata": {},
     "output_type": "display_data"
    },
    {
     "data": {
      "text/plain": [
       "16×4 Matrix{Rational{Int64}}:\n",
       "  1   1   1   1\n",
       " -1   1   1   1\n",
       " -1   1  -1  -1\n",
       " -1  -1  -1  -1\n",
       " -1   1   1  -1\n",
       "  1  -1   1   1\n",
       " -1  -1   1  -1\n",
       "  1   1   1  -1\n",
       " -1  -1   1   1\n",
       "  1  -1   1  -1\n",
       "  1   1  -1   1\n",
       " -1  -1  -1  -1\n",
       "  1  -1  -1   1\n",
       "  1  -1  -1   1\n",
       " -1   1  -1  -1\n",
       "  1   1  -1   1"
      ]
     },
     "metadata": {},
     "output_type": "display_data"
    },
    {
     "data": {
      "text/plain": [
       "\"and convex mixture\""
      ]
     },
     "metadata": {},
     "output_type": "display_data"
    },
    {
     "data": {
      "text/plain": [
       "4-element Vector{Rational{Int64}}:\n",
       " 1//4\n",
       " 1//4\n",
       " 1//4\n",
       " 1//4"
      ]
     },
     "metadata": {},
     "output_type": "display_data"
    },
    {
     "data": {
      "text/plain": [
       "\"we obtain vertex 6065 of type 5\""
      ]
     },
     "metadata": {},
     "output_type": "display_data"
    },
    {
     "data": {
      "text/plain": [
       "16-element Vector{Rational{Int64}}:\n",
       "   1\n",
       "  1//2\n",
       " -1//2\n",
       "  -1\n",
       "   0\n",
       "  1//2\n",
       " -1//2\n",
       "  1//2\n",
       "   0\n",
       "   0\n",
       "  1//2\n",
       "  -1\n",
       "   0\n",
       "   0\n",
       " -1//2\n",
       "  1//2"
      ]
     },
     "metadata": {},
     "output_type": "display_data"
    },
    {
     "data": {
      "text/plain": [
       "\"__________________\""
      ]
     },
     "metadata": {},
     "output_type": "display_data"
    },
    {
     "data": {
      "text/plain": [
       "\"Using deterministic vertices:\""
      ]
     },
     "metadata": {},
     "output_type": "display_data"
    },
    {
     "data": {
      "text/plain": [
       "16×4 Matrix{Rational{Int64}}:\n",
       "  1   1   1   1\n",
       " -1  -1   1   1\n",
       " -1  -1  -1  -1\n",
       " -1   1  -1  -1\n",
       " -1  -1   1  -1\n",
       "  1   1   1   1\n",
       " -1   1   1  -1\n",
       "  1   1   1  -1\n",
       " -1  -1   1   1\n",
       "  1  -1   1  -1\n",
       "  1   1  -1   1\n",
       " -1  -1  -1  -1\n",
       "  1  -1  -1   1\n",
       "  1  -1  -1   1\n",
       " -1   1  -1  -1\n",
       "  1   1  -1   1"
      ]
     },
     "metadata": {},
     "output_type": "display_data"
    },
    {
     "data": {
      "text/plain": [
       "\"and convex mixture\""
      ]
     },
     "metadata": {},
     "output_type": "display_data"
    },
    {
     "data": {
      "text/plain": [
       "4-element Vector{Rational{Int64}}:\n",
       " 1//4\n",
       " 1//4\n",
       " 1//4\n",
       " 1//4"
      ]
     },
     "metadata": {},
     "output_type": "display_data"
    },
    {
     "data": {
      "text/plain": [
       "\"we obtain vertex 11897 of type 3\""
      ]
     },
     "metadata": {},
     "output_type": "display_data"
    },
    {
     "data": {
      "text/plain": [
       "16-element Vector{Rational{Int64}}:\n",
       "   1\n",
       "   0\n",
       "  -1\n",
       " -1//2\n",
       " -1//2\n",
       "   1\n",
       "   0\n",
       "  1//2\n",
       "   0\n",
       "   0\n",
       "  1//2\n",
       "  -1\n",
       "   0\n",
       "   0\n",
       " -1//2\n",
       "  1//2"
      ]
     },
     "metadata": {},
     "output_type": "display_data"
    },
    {
     "data": {
      "text/plain": [
       "\"__________________\""
      ]
     },
     "metadata": {},
     "output_type": "display_data"
    },
    {
     "data": {
      "text/plain": [
       "\"______________________________________________________________ \""
      ]
     },
     "metadata": {},
     "output_type": "display_data"
    },
    {
     "data": {
      "text/plain": [
       "\"Using deterministic vertices:\""
      ]
     },
     "metadata": {},
     "output_type": "display_data"
    },
    {
     "data": {
      "text/plain": [
       "16×4 Matrix{Rational{Int64}}:\n",
       "  1   1   1   1\n",
       "  1   1   1  -1\n",
       "  1   1  -1   1\n",
       "  1  -1  -1   1\n",
       "  1   1   1   1\n",
       " -1  -1   1  -1\n",
       "  1  -1  -1  -1\n",
       "  1   1   1  -1\n",
       " -1  -1   1   1\n",
       "  1  -1  -1   1\n",
       "  1   1  -1   1\n",
       " -1  -1  -1  -1\n",
       "  1  -1   1  -1\n",
       "  1  -1  -1   1\n",
       " -1   1  -1  -1\n",
       "  1   1   1  -1"
      ]
     },
     "metadata": {},
     "output_type": "display_data"
    },
    {
     "data": {
      "text/plain": [
       "\"and convex mixture\""
      ]
     },
     "metadata": {},
     "output_type": "display_data"
    },
    {
     "data": {
      "text/plain": [
       "4-element Vector{Rational{Int64}}:\n",
       " 1//4\n",
       " 1//4\n",
       " 1//4\n",
       " 1//4"
      ]
     },
     "metadata": {},
     "output_type": "display_data"
    },
    {
     "data": {
      "text/plain": [
       "\"we obtain vertex 12707 of type 5\""
      ]
     },
     "metadata": {},
     "output_type": "display_data"
    },
    {
     "data": {
      "text/plain": [
       "16-element Vector{Rational{Int64}}:\n",
       "   1\n",
       "  1//2\n",
       "  1//2\n",
       "   0\n",
       "   1\n",
       " -1//2\n",
       " -1//2\n",
       "  1//2\n",
       "   0\n",
       "   0\n",
       "  1//2\n",
       "  -1\n",
       "   0\n",
       "   0\n",
       " -1//2\n",
       "  1//2"
      ]
     },
     "metadata": {},
     "output_type": "display_data"
    },
    {
     "data": {
      "text/plain": [
       "\"__________________\""
      ]
     },
     "metadata": {},
     "output_type": "display_data"
    },
    {
     "data": {
      "text/plain": [
       "\"Using deterministic vertices:\""
      ]
     },
     "metadata": {},
     "output_type": "display_data"
    },
    {
     "data": {
      "text/plain": [
       "16×4 Matrix{Rational{Int64}}:\n",
       "  1   1   1   1\n",
       " -1  -1  -1   1\n",
       " -1  -1   1  -1\n",
       " -1   1   1  -1\n",
       " -1  -1  -1  -1\n",
       "  1   1  -1   1\n",
       " -1   1   1   1\n",
       "  1   1   1  -1\n",
       " -1  -1   1   1\n",
       "  1  -1  -1   1\n",
       "  1   1  -1   1\n",
       " -1  -1  -1  -1\n",
       "  1  -1   1  -1\n",
       "  1  -1  -1   1\n",
       " -1   1  -1  -1\n",
       "  1   1   1  -1"
      ]
     },
     "metadata": {},
     "output_type": "display_data"
    },
    {
     "data": {
      "text/plain": [
       "\"and convex mixture\""
      ]
     },
     "metadata": {},
     "output_type": "display_data"
    },
    {
     "data": {
      "text/plain": [
       "4-element Vector{Rational{Int64}}:\n",
       " 1//4\n",
       " 1//4\n",
       " 1//4\n",
       " 1//4"
      ]
     },
     "metadata": {},
     "output_type": "display_data"
    },
    {
     "data": {
      "text/plain": [
       "\"we obtain vertex 3013 of type 5\""
      ]
     },
     "metadata": {},
     "output_type": "display_data"
    },
    {
     "data": {
      "text/plain": [
       "16-element Vector{Rational{Int64}}:\n",
       "   1\n",
       " -1//2\n",
       " -1//2\n",
       "   0\n",
       "  -1\n",
       "  1//2\n",
       "  1//2\n",
       "  1//2\n",
       "   0\n",
       "   0\n",
       "  1//2\n",
       "  -1\n",
       "   0\n",
       "   0\n",
       " -1//2\n",
       "  1//2"
      ]
     },
     "metadata": {},
     "output_type": "display_data"
    },
    {
     "data": {
      "text/plain": [
       "\"__________________\""
      ]
     },
     "metadata": {},
     "output_type": "display_data"
    },
    {
     "data": {
      "text/plain": [
       "\"______________________________________________________________ \""
      ]
     },
     "metadata": {},
     "output_type": "display_data"
    },
    {
     "data": {
      "text/plain": [
       "\"______________________________________________________________ \""
      ]
     },
     "metadata": {},
     "output_type": "display_data"
    },
    {
     "data": {
      "text/plain": [
       "\"Vertex u3\""
      ]
     },
     "metadata": {},
     "output_type": "display_data"
    },
    {
     "data": {
      "text/plain": [
       "\"Using deterministic vertices:\""
      ]
     },
     "metadata": {},
     "output_type": "display_data"
    },
    {
     "data": {
      "text/plain": [
       "16×6 Matrix{Rational{Int64}}:\n",
       "  1   1   1   1   1   1\n",
       "  1   1   1  -1  -1   1\n",
       "  1   1   1   1   1  -1\n",
       "  1  -1  -1  -1  -1  -1\n",
       "  1   1   1  -1   1   1\n",
       " -1   1  -1  -1  -1   1\n",
       "  1  -1  -1  -1  -1  -1\n",
       "  1   1   1   1  -1   1\n",
       " -1   1  -1   1   1   1\n",
       "  1  -1  -1   1   1  -1\n",
       "  1   1   1  -1   1  -1\n",
       " -1   1  -1  -1  -1  -1\n",
       "  1  -1  -1  -1  -1   1\n",
       "  1  -1  -1   1  -1  -1\n",
       " -1  -1   1   1   1  -1\n",
       "  1   1   1   1   1   1"
      ]
     },
     "metadata": {},
     "output_type": "display_data"
    },
    {
     "data": {
      "text/plain": [
       "\"and convex mixture\""
      ]
     },
     "metadata": {},
     "output_type": "display_data"
    },
    {
     "data": {
      "text/plain": [
       "6-element Vector{Rational{Int64}}:\n",
       " 1//6\n",
       " 1//6\n",
       " 1//6\n",
       " 1//6\n",
       " 1//6\n",
       " 1//6"
      ]
     },
     "metadata": {},
     "output_type": "display_data"
    },
    {
     "data": {
      "text/plain": [
       "\"we obtain vertex 11606 of type 7\""
      ]
     },
     "metadata": {},
     "output_type": "display_data"
    },
    {
     "data": {
      "text/plain": [
       "16-element Vector{Rational{Int64}}:\n",
       "   1\n",
       "  1//3\n",
       "  2//3\n",
       " -2//3\n",
       "  2//3\n",
       " -1//3\n",
       " -2//3\n",
       "  2//3\n",
       "  1//3\n",
       "   0\n",
       "  1//3\n",
       " -2//3\n",
       " -1//3\n",
       " -1//3\n",
       "   0\n",
       "   1"
      ]
     },
     "metadata": {},
     "output_type": "display_data"
    },
    {
     "data": {
      "text/plain": [
       "\"__________________\""
      ]
     },
     "metadata": {},
     "output_type": "display_data"
    },
    {
     "data": {
      "text/plain": [
       "\"Using deterministic vertices:\""
      ]
     },
     "metadata": {},
     "output_type": "display_data"
    },
    {
     "data": {
      "text/plain": [
       "16×6 Matrix{Rational{Int64}}:\n",
       "  1   1   1   1   1   1\n",
       " -1  -1  -1   1   1  -1\n",
       " -1  -1  -1  -1  -1   1\n",
       " -1   1   1   1   1   1\n",
       " -1  -1  -1   1  -1  -1\n",
       "  1  -1   1   1   1  -1\n",
       " -1   1   1   1   1   1\n",
       "  1   1   1   1  -1   1\n",
       " -1   1  -1   1   1   1\n",
       "  1  -1  -1   1   1  -1\n",
       "  1   1   1  -1   1  -1\n",
       " -1   1  -1  -1  -1  -1\n",
       "  1  -1  -1  -1  -1   1\n",
       "  1  -1  -1   1  -1  -1\n",
       " -1  -1   1   1   1  -1\n",
       "  1   1   1   1   1   1"
      ]
     },
     "metadata": {},
     "output_type": "display_data"
    },
    {
     "data": {
      "text/plain": [
       "\"and convex mixture\""
      ]
     },
     "metadata": {},
     "output_type": "display_data"
    },
    {
     "data": {
      "text/plain": [
       "6-element Vector{Rational{Int64}}:\n",
       " 1//6\n",
       " 1//6\n",
       " 1//6\n",
       " 1//6\n",
       " 1//6\n",
       " 1//6"
      ]
     },
     "metadata": {},
     "output_type": "display_data"
    },
    {
     "data": {
      "text/plain": [
       "\"we obtain vertex 14485 of type 7\""
      ]
     },
     "metadata": {},
     "output_type": "display_data"
    },
    {
     "data": {
      "text/plain": [
       "16-element Vector{Rational{Int64}}:\n",
       "   1\n",
       " -1//3\n",
       " -2//3\n",
       "  2//3\n",
       " -2//3\n",
       "  1//3\n",
       "  2//3\n",
       "  2//3\n",
       "  1//3\n",
       "   0\n",
       "  1//3\n",
       " -2//3\n",
       " -1//3\n",
       " -1//3\n",
       "   0\n",
       "   1"
      ]
     },
     "metadata": {},
     "output_type": "display_data"
    },
    {
     "data": {
      "text/plain": [
       "\"__________________\""
      ]
     },
     "metadata": {},
     "output_type": "display_data"
    },
    {
     "data": {
      "text/plain": [
       "\"______________________________________________________________ \""
      ]
     },
     "metadata": {},
     "output_type": "display_data"
    }
   ],
   "source": [
    "classical_vertices = [[ ] for i in 1:4];\n",
    "\n",
    "# Lift each vertex ui of MPb:\n",
    "for i in 1:4\n",
    "    display(\"Vertex u\"*string(i-1))\n",
    "    preimages_array = [];\n",
    "    \n",
    "    # find preimages of Cb vertices:\n",
    "    for j in 1:size(decomps[i][1])[2]\n",
    "        \n",
    "        # define vertex of Cb:\n",
    "        delta = decomps[i][1][2:end,j];\n",
    "        \n",
    "        # find elements of D that project to delta\n",
    "        preimage_idx = [k for k in 1:size(D)[1] if (D[k,8:16] == delta)]\n",
    "        \n",
    "        # create matrix of preimages:\n",
    "        preimage = transpose(Matrix{Rational{Int64}}(D[preimage_idx,:]));\n",
    "        push!(preimages_array,preimage);\n",
    "    end\n",
    "    \n",
    "    \n",
    "    # perform convex combinations:\n",
    "    for k in 1:size(decomps[i][2])[1]\n",
    "        vertices_in_decomposition = findall(y->y != 0,decomps[i][2][k,2:end])\n",
    "        \n",
    "        # number of combinations:\n",
    "        bit_strings = all_dit_strings(2,length(vertices_in_decomposition));\n",
    "        for x in bit_strings\n",
    "            # preimages used:\n",
    "            subset_of_preimages = preimages_array[vertices_in_decomposition]\n",
    "            \n",
    "            # initialize matrix of vertices in decomposition:\n",
    "            R = subset_of_preimages[1][:,x[1]+1];\n",
    "            for j in 2:length(subset_of_preimages)\n",
    "                R = hcat(R,subset_of_preimages[j][:,(x[j]+1)])\n",
    "            end\n",
    "            \n",
    "            # parameters of convex mixture\n",
    "            mixture = (decomps[i][2][k,2:end])[vertices_in_decomposition]\n",
    "            # classical distribution:\n",
    "            v = R*mixture;\n",
    "            # rank of distribution:\n",
    "            Zv = tight_inequalities(v, M); rank_Mv = rank(M[Zv,:]);\n",
    "            if rank_Mv == 15\n",
    "                v_idx = findall(y->y == v,L2array)[1]\n",
    "                for t in 1:8\n",
    "                    if v_idx in L2orb[t]\n",
    "                        pair = [v,t];\n",
    "                        if (pair in classical_vertices[i]) == false\n",
    "                            push!(classical_vertices[i],pair)\n",
    "                            display(\"Using deterministic vertices:\");\n",
    "                            display(R)\n",
    "                            display(\"and convex mixture\")\n",
    "                            display((mixture));\n",
    "                            display(\"we obtain vertex \"*string(v_idx)*\" of type \"*string(t))\n",
    "                            display(v)\n",
    "                            display(\"__________________\")\n",
    "                        end\n",
    "                    end\n",
    "                end\n",
    "            end\n",
    "        end\n",
    "        display(\"______________________________________________________________ \")\n",
    "    end\n",
    "    \n",
    "    # remove redundant vertices:\n",
    "    classical_vertices[i] = collect(Set(classical_vertices[i]));\n",
    "end"
   ]
  },
  {
   "cell_type": "code",
   "execution_count": null,
   "metadata": {},
   "outputs": [],
   "source": []
  }
 ],
 "metadata": {
  "kernelspec": {
   "display_name": "Julia 1.10.2",
   "language": "julia",
   "name": "julia-1.10"
  },
  "language_info": {
   "file_extension": ".jl",
   "mimetype": "application/julia",
   "name": "julia",
   "version": "1.10.2"
  }
 },
 "nbformat": 4,
 "nbformat_minor": 2
}
