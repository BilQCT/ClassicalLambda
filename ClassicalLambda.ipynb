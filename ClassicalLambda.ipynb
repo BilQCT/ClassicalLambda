{
 "cells": [
  {
   "cell_type": "code",
   "execution_count": 24,
   "metadata": {},
   "outputs": [
    {
     "name": "stderr",
     "output_type": "stream",
     "text": [
      "\u001b[32m\u001b[1m  Activating\u001b[22m\u001b[39m project at `~/GitHub/ClassicalLambda/env`\n"
     ]
    }
   ],
   "source": [
    "# initialize project:\n",
    "using Pkg; Pkg.activate(\"./env\");;\n",
    "\n",
    "# Find current path\n",
    "CURRENT = pwd(); LIB_PATH = joinpath(CURRENT,\"lib\");\n",
    "\n",
    "# include auxilliary functions:\n",
    "for file in readdir(LIB_PATH); include(joinpath(LIB_PATH,file)); end;"
   ]
  },
  {
   "cell_type": "markdown",
   "metadata": {},
   "source": [
    "# Introduction and background:\n",
    "Following the notation and convention of **arXiv:2312.10734**, we can model a system of $n$-qubits by a Hilbert space $\\mathcal{H} = (\\mathbb{C}^2)^{\\otimes n}$. Hermitian operators $\\text{Herm}(\\mathcal{H})$ form a real vector space with Hilbert-Schmidt inner product $\\langle A,B \\rangle = \\text{Tr}(AB)$ for $A,B\\in\\text{Herm}(\\mathcal{H})$. Pauli observables $T_a$ ($a\\in E_n$) form an orthogonal basis for the space of Hermitian matrices so that any Hermitian matrix $X$ we have\n",
    "\n",
    "$$A = \\sum_{a\\in E_n}\\alpha_a T_a~,$$\n",
    "\n",
    "where the $\\alpha_a\\in\\mathbb{R}$ can be interpreted as the expectation value of the Pauli observable $T_a$ via the Born rule:\n",
    "\n",
    "$$\\langle A,T_a \\rangle = \\text{Tr}(AT_a) = \\alpha_a~.$$\n",
    "\n",
    "Thus any $A\\in\\text{Herm}(\\mathcal{H})$ can be fully characterized by a vector $\\alpha \\in\\mathbb{R}^{4^n}$ whose components are $\\alpha_a$. For Hermitian matrices with $\\text{Tr}(A) = 1$ this sets $\\alpha_0 = 1$ and we can work concretely in a real Euclidean space $\\mathbb{R}^{4^n-1}$."
   ]
  },
  {
   "cell_type": "markdown",
   "metadata": {},
   "source": [
    "# Stabilizer polytopes and $\\Lambda$ polytopes\n",
    "\n",
    "The single-qubit Pauli operators are given by\n",
    "\n",
    "$$X = \\begin{bmatrix} 0 &  1\\\\ 1 &  0\\end{bmatrix},\\quad%\n",
    "  Y = \\begin{bmatrix} 0 & -i\\\\ i &  0\\end{bmatrix},\\quad%\n",
    "  Z = \\begin{bmatrix} 1 &  0\\\\ 0 &  -1\\end{bmatrix}.$$\n",
    "\n",
    "  For $n$-qubits a Hermitian matrix $P$ is called a Pauli operator if it is of the form\n",
    "\n",
    "  $$P = A_1\\otimes\\cdots\\otimes A_n\\quad\\text{where}\\quad A_i\\in \\{I,X,Y,Z\\}.$$\n",
    "\n",
    "  The $n$-qubit Pauli group $P_n$ consists of all Pauli operators $i^\\zeta P$ where $\\zeta \\in \\mathbb{Z}_4$. The $n$-qubit Clifford group is defined as $\\text{Cl}_n = P_n/\\left \\langle e^{i\\theta}I~:~\\theta\\in \\mathbb{R}\\right\\rangle$. A stabilizer group $S\\subset P_n$ is an abelian subgroup of the Pauli group in which all elements square to the identity. We call a stabilizer group maximal if the number of independent Pauli elements is $n$. Here we deal only with maximal stabilizer groups. By definition, for each stabilizer group there exists some $\\left | \\psi_S\\right \\rangle\\in \\mathcal{H}$ such that $s\\left | \\psi_S\\right \\rangle = \\left | \\psi_S\\right \\rangle$ for all $s\\in S$.\n",
    "\n",
    "The projector $\\Pi_S$ onto the mutual $+1$ eigenspace of each $s\\in S$ is given by:\n",
    "\n",
    "$$\\Pi_S = \\frac{1}{2^n}\\sum_{s\\in S} s~.$$\n",
    "\n",
    "Let $\\mathcal{S}_n$ be the set of $n$-qubit stabilizer groups. The stabilizer polytope $\\text{SP}_n$ is defined as the convex hull of stabilizer states. Its polar dual $\\Lambda_n := \\text{SP}_n^\\ast$ can be formally defined as\n",
    "\n",
    "$$\\Lambda_n := \\left \\{ A\\in \\text{Herm}(\\mathcal{H})~:~\\text{Tr}(A) = 1,~\\text{Tr}(\\Pi_SA)\\geq 0~\\forall S\\in \\mathcal{S}_n \\right\\}~.$$"
   ]
  },
  {
   "cell_type": "markdown",
   "metadata": {},
   "source": [
    "## $\\mathbf{2}$-qubits\n",
    "\n",
    "Consider the $2$-qubit case. We call a Pauli operator *local* if it is of the form $A\\otimes I$ or $I\\otimes A$, where $A\\in \\{X,Y,Z\\}$ is a single qubit Pauli matrix; otherwise we call it *nonlocal*. Let us organize our Pauli coordinates into local-nonlocal parts, such that $\\alpha = ({x}^\\ell,{x}^{n\\ell})\\in \\mathbb{R}^{15}$, where:\n",
    "\n",
    "$${x}^\\ell = \\left(x_{X_1},x_{Y_1},x_{Z_1},x_{X_2},x_{Y_2},x_{Z_2} \\right)\\in \\mathbb{R}^6$$\n",
    "$${x}^{n\\ell} = \\left(x_{XX},x_{XY},x_{XZ},x_{YX},x_{YY},x_{YZ},x_{ZX},x_{ZY},x_{ZZ} \\right)\\in\\mathbb{R}^9.$$\n",
    "\n",
    "**Convention**: we index our coordinates by $a = 1,\\cdots,6$ for the local part while $a = 7,\\cdots,15$ the nonlocal coordinates. (If the homogenizing coordinate $\\alpha_0 = 1$ is included then this offset by one so that the local coordinates have index $a = 2,\\cdots,7$, while the nonlocal coordinates have index $a = 8,\\cdots,16$.)\n",
    "\n",
    "For $2$-qubits there are (up to signs) $15$ stabilizer groups. If a stabilizer group contains a local Pauli then it is called local; otherwise it is called nonlocal. There are $9$ local stabilizer groups and $6$ nonlocal ones. Disregarding the signs of the Pauli operators, the stabilizer groups consist of the Pauli operators:\n",
    "\n",
    "\\begin{align}\n",
    "{\\textbf{Local}:}\\quad\\quad & \\{I,XI,IX,XX\\}, \\{I,XI,IY,XY\\}, \\{I,XI,IZ,XZ\\},\\notag\\\\\n",
    "                                 & \\{I,YI,IX,YX\\}, \\{I,YI,IY,YY\\}, \\{I,YI,IZ,YZ\\},\\notag\\\\\n",
    "                                 & \\{I,ZI,IX,ZX\\}, \\{I,ZI,IY,ZY\\}, \\{I,ZI,IZ,ZZ\\},\\notag\\\\\n",
    "{\\textbf{Nonlocal}:}\\quad\\quad & \\{I,XY,YX,ZZ\\}, \\{I,YZ,ZY,XX\\}, \\{I,ZX,XZ,YY\\},\\notag\\\\\n",
    "                                 & \\{I,XY,ZX,YZ\\}, \\{I,YX,XZ,ZY\\}, \\{I,ZZ,YY,XX\\}.\\notag\n",
    "\\end{align}\n",
    "\n",
    "In all but the last row, this products of Pauli operators multiplies to the $I$ whereas for the last row they multiply to $-I$.  For instance, we have\n",
    "\n",
    "$$I\\cdot XY \\cdot YZ \\cdot ZZ = I\\quad \\text{while} \\quad I\\cdot XX \\cdot ZZ \\cdot YY = - I~.$$\n",
    "\n"
   ]
  },
  {
   "cell_type": "markdown",
   "metadata": {},
   "source": [
    "# $\\mathbf{2}$-qubit $\\Lambda$ polytope\n",
    "\n"
   ]
  },
  {
   "cell_type": "markdown",
   "metadata": {},
   "source": [
    "## Stabilizer groups"
   ]
  },
  {
   "cell_type": "code",
   "execution_count": null,
   "metadata": {},
   "outputs": [],
   "source": [
    "# Pauli operators are labeled according to: X1,Y1,Z1,X2,Y2,Z2,XX,XY,XZ,...,ZY,ZZ:\n",
    "X1 = [[i,[1,1]] for i in 1:15];"
   ]
  },
  {
   "cell_type": "code",
   "execution_count": 27,
   "metadata": {},
   "outputs": [],
   "source": [
    "# Generate arrays corresponding to local stabilizer groups:\n",
    "stabilizer_groups_local = [[1,4,7],[1,5,8],[1,6,9],\n",
    "                    [2,4,10],[2,5,11],[2,6,12],\n",
    "                    [3,4,13],[3,5,14],[3,6,15]];\n",
    "\n",
    "# Generate arrays corresponding to local stabilizer groups:                   \n",
    "stabilizer_groups_nonlocal = [[8,10,15],[12,14,7],[13,9,11],\n",
    "                    [8,13,12],[10,9,14],[15,11,7]];\n",
    "\n",
    "# All 2-qubit stabilizer groups:\n",
    "stabilizer_groups = vcat(stabilizer_groups_local,stabilizer_groups_nonlocal);"
   ]
  },
  {
   "cell_type": "code",
   "execution_count": 11,
   "metadata": {},
   "outputs": [],
   "source": [
    "# Some sets have the property that multiplying all the Pauli operators A*B*AB = (-1)Identity.\n",
    "T = [[13,1,2],[14,1,2],[15,1,2]];"
   ]
  },
  {
   "cell_type": "code",
   "execution_count": 12,
   "metadata": {},
   "outputs": [],
   "source": [
    "# Create the polytope generated by\n",
    "L2 = two_dimensional_distributions(X1,X2,\"EDGE\",T);"
   ]
  },
  {
   "cell_type": "code",
   "execution_count": 13,
   "metadata": {},
   "outputs": [],
   "source": [
    "# extract facets:\n",
    "A = L2.INEQUALITIES;\n",
    "# local/nonlocal facets\n",
    "A_l = A[1:36,:]; A_nl = A[37:60,:];"
   ]
  },
  {
   "cell_type": "code",
   "execution_count": 426,
   "metadata": {},
   "outputs": [
    {
     "data": {
      "text/plain": [
       "pm::Matrix<pm::Rational>\n",
       "1 -1 0 -1 0 0 0 0 0 0 1 1 -1 0 0 0\n",
       "1 -1 -1 -1 1 0 0 -1 0 0 -1 0 0 -1 0 0\n",
       "1 -1 1/2 0 0 1 -1/2 0 -1 1/2 -1/2 1/2 0 0 0 1/2\n",
       "1 -1/2 -1/2 -1/2 1/2 0 0 0 -1/2 1/2 0 1/2 1/2 0 -1/2 -1/2\n",
       "1 -1/2 0 -1/2 0 0 0 -1/2 -1/2 -1/2 -1 0 1 1/2 -1/2 1/2\n",
       "1 -1 0 -1/2 1/2 1/2 1/2 -1/2 -1/2 -1/2 -1/2 1/2 1/2 0 -1 0\n",
       "1 -2/3 -1/3 0 2/3 1/3 0 -1 -2/3 -1/3 -2/3 1/3 2/3 1/3 -2/3 1/3\n",
       "1 1/2 -1/2 3/4 1/4 -3/4 -3/4 -1/4 -3/4 -1/4 1/4 1/4 3/4 1/2 -1/2 -1/2\n"
      ]
     },
     "execution_count": 426,
     "metadata": {},
     "output_type": "execute_result"
    }
   ],
   "source": [
    "# representative_vertices\n",
    "L2_rep = representative_vertices(L2)[[3,1,4,8,6,2,5,7],:]"
   ]
  },
  {
   "cell_type": "code",
   "execution_count": 437,
   "metadata": {},
   "outputs": [],
   "source": [
    "L2_orbits = vertex_orbit(L2)[[3,1,4,8,6,2,5,7]];"
   ]
  },
  {
   "cell_type": "code",
   "execution_count": 14,
   "metadata": {},
   "outputs": [],
   "source": [
    "# projection to nonlocal coordinates:\n",
    "nonlocal_idx = [1,8,9,10,11,12,13,14,15,16];"
   ]
  },
  {
   "cell_type": "markdown",
   "metadata": {},
   "source": [
    "# Nonsignaling polytope"
   ]
  },
  {
   "cell_type": "code",
   "execution_count": 15,
   "metadata": {},
   "outputs": [],
   "source": [
    "# create polytope\n",
    "NS232 = pm.polytope.Polytope(INEQUALITIES=A_l);"
   ]
  },
  {
   "cell_type": "code",
   "execution_count": 16,
   "metadata": {},
   "outputs": [],
   "source": [
    "# Find orbits of vertices:\n",
    "NS232_orbits = vertex_orbit(NS232);\n",
    "det_idx = findall(y->length(y)==64,NS232_orbits)[1];\n",
    "D = NS232.VERTICES[NS232_orbits[det_idx],:];"
   ]
  },
  {
   "cell_type": "code",
   "execution_count": 17,
   "metadata": {},
   "outputs": [],
   "source": [
    "# Bell polytope\n",
    "C = pm.polytope.Polytope(POINTS = D)\n",
    "B = Matrix{Rational{Int64}}(C.FACETS);"
   ]
  },
  {
   "cell_type": "markdown",
   "metadata": {},
   "source": [
    "# Nonlocal polytopes\n",
    "\n",
    "## $\\overline{CL}$"
   ]
  },
  {
   "cell_type": "code",
   "execution_count": 18,
   "metadata": {},
   "outputs": [],
   "source": [
    "# Projection of C:\n",
    "bar_D = D[:,nonlocal_idx];\n",
    "Cb = pm.polytope.Polytope(POINTS = bar_D);\n",
    "# Facets:\n",
    "H2 = Matrix{Rational{Int64}}(Cb.FACETS);\n",
    "# Vertices:\n",
    "V2 = Matrix{Rational{Int64}}(Cb.VERTICES);"
   ]
  },
  {
   "cell_type": "code",
   "execution_count": 19,
   "metadata": {},
   "outputs": [],
   "source": [
    "# Orbits of Cb facets:\n",
    "h2 = facets_orbit(Cb);\n",
    "# CHSH facets:\n",
    "h2_prime = h2[1]; H2_prime = H2[h2_prime,:];"
   ]
  },
  {
   "cell_type": "markdown",
   "metadata": {},
   "source": [
    "## $\\mathbf{\\text{MP}_1}$"
   ]
  },
  {
   "cell_type": "code",
   "execution_count": 20,
   "metadata": {},
   "outputs": [],
   "source": [
    "# Nonlocal Lambda2 polytope:\n",
    "L2_nl = two_dimensional_distributions(X1,X2[10:15],\"EDGE\",T);\n",
    "# MP1 as projection of L2_nl:\n",
    "MP1 = pm.polytope.Polytope(POINTS = L2_nl.VERTICES[:,nonlocal_idx]);\n",
    "# Facets:\n",
    "H1 = Matrix{Rational{Int64}}(MP1.FACETS);\n",
    "# Vertices:\n",
    "V1 = Matrix{Rational{Int64}}(MP1.VERTICES);"
   ]
  },
  {
   "cell_type": "code",
   "execution_count": 21,
   "metadata": {},
   "outputs": [],
   "source": [
    "# Orbits of Cb facets:\n",
    "v1 = vertex_orbit(MP1);\n",
    "# CHSH facets:\n",
    "v1_prime = v1[1]; V1_prime = V1[v1_prime,:];"
   ]
  },
  {
   "cell_type": "markdown",
   "metadata": {},
   "source": [
    "## $\\mathbf{\\overline{\\text{MP}}}$"
   ]
  },
  {
   "cell_type": "code",
   "execution_count": 22,
   "metadata": {},
   "outputs": [],
   "source": [
    "# define mp_tilde (now called mp_bar)\n",
    "H12 = vcat(H1,H2);\n",
    "MPb = pm.polytope.Polytope(INEQUALITIES = H12);"
   ]
  },
  {
   "cell_type": "code",
   "execution_count": 23,
   "metadata": {
    "scrolled": true
   },
   "outputs": [
    {
     "data": {
      "text/plain": [
       "pm::Matrix<pm::Rational>\n",
       "1 -1 -1 -1 0 0 0 0 0 0\n",
       "1 -1/2 -1 1/2 -1/2 0 -1/2 -1/2 0 1/2\n",
       "1 0 -1 0 -1 0 0 0 0 1\n",
       "1 -1/3 -2/3 -2/3 -2/3 1/3 -1/3 -2/3 -1/3 1/3\n",
       "1 -2/3 2/3 0 2/3 0 2/3 -1/3 -1/3 1/3\n",
       "1 -3/5 1/5 -3/5 -1/5 3/5 3/5 -3/5 -3/5 1/5\n",
       "1 -1 0 1/3 1/3 2/3 -1/3 0 1/3 2/3\n",
       "1 -1 1/3 0 -1/3 -1/3 -2/3 0 2/3 -1/3\n",
       "1 -1 1/2 0 0 1/2 0 1/2 0 1/2\n",
       "1 -1/2 0 -3/4 1/2 -1/2 -1/4 1/4 3/4 -1/2\n"
      ]
     },
     "execution_count": 23,
     "metadata": {},
     "output_type": "execute_result"
    }
   ],
   "source": [
    "# representative vertices of mp_tilde:\n",
    "MPb_rep = representative_vertices(MPb)"
   ]
  },
  {
   "cell_type": "markdown",
   "metadata": {},
   "source": [
    "# Canonical vertex, neighbor, and $\\mathbf{2}$-neighbors"
   ]
  },
  {
   "cell_type": "markdown",
   "metadata": {},
   "source": [
    "### Canonical vertex $\\mathbf{v}$ of $\\mathbf{\\text{MP}_1}$"
   ]
  },
  {
   "cell_type": "code",
   "execution_count": 5,
   "metadata": {},
   "outputs": [],
   "source": [
    "v = Vector{Rational{Int64}}([1,1,1,0,1,-1,0,0,0,1]);"
   ]
  },
  {
   "cell_type": "markdown",
   "metadata": {},
   "source": [
    "The canonical $\\bar T_2$ vertex $v$ violates precisely one CHSH facet $h_v$ that is *dual* to it:"
   ]
  },
  {
   "cell_type": "code",
   "execution_count": 55,
   "metadata": {},
   "outputs": [
    {
     "data": {
      "text/plain": [
       "1×10 Matrix{Rational{Int64}}:\n",
       " 2//1  -1//1  -1//1  0//1  -1//1  1//1  0//1  0//1  0//1  0//1"
      ]
     },
     "execution_count": 55,
     "metadata": {},
     "output_type": "execute_result"
    }
   ],
   "source": [
    "hv_idx = violated_inequality(v,H2); hv = H2[hv_idx,:]"
   ]
  },
  {
   "cell_type": "markdown",
   "metadata": {},
   "source": [
    "### Canonical neighbor $\\mathbf{v^\\prime}$  of $\\mathbf{v}$ in $\\mathbf{\\text{MP}_1}$"
   ]
  },
  {
   "cell_type": "code",
   "execution_count": 8,
   "metadata": {},
   "outputs": [],
   "source": [
    "v_prime = Vector{Rational{Int64}}([1,1,0,0,0,-1,-1,0,-1,1]);"
   ]
  },
  {
   "cell_type": "markdown",
   "metadata": {},
   "source": [
    "Joint rank of ${v}$ and ${v^\\prime}$ in ${\\text{MP}_1}$:"
   ]
  },
  {
   "cell_type": "code",
   "execution_count": 27,
   "metadata": {},
   "outputs": [
    {
     "data": {
      "text/plain": [
       "8"
      ]
     },
     "execution_count": 27,
     "metadata": {},
     "output_type": "execute_result"
    }
   ],
   "source": [
    "joint_rank(v,v_prime,H1)"
   ]
  },
  {
   "cell_type": "markdown",
   "metadata": {},
   "source": [
    "Inner product with canonical facet $h_v$. All neighbors $v^\\prime$ of $v$ have $h_v\\cdot v^\\prime = 0$. "
   ]
  },
  {
   "cell_type": "code",
   "execution_count": 58,
   "metadata": {},
   "outputs": [
    {
     "data": {
      "text/plain": [
       "1-element Vector{Rational{Int64}}:\n",
       " 0//1"
      ]
     },
     "execution_count": 58,
     "metadata": {},
     "output_type": "execute_result"
    }
   ],
   "source": [
    "hv*v_prime"
   ]
  },
  {
   "cell_type": "markdown",
   "metadata": {},
   "source": [
    "### Canonical $\\mathbf{2}$-neighbors $\\mathbf{w_0}$, $\\mathbf{w_1}$, $\\mathbf{w_2}$, $\\mathbf{w_3}$  of $\\mathbf{v}$ in $\\mathbf{\\text{MP}_1}$"
   ]
  },
  {
   "cell_type": "code",
   "execution_count": 29,
   "metadata": {},
   "outputs": [],
   "source": [
    "w0 = Vector{Rational{Int64}}([1,1,-1,0,0,0,-1,-1,-1,0]);\n",
    "w1 = Vector{Rational{Int64}}([1,1,-1,0,-1,-1,0,0,0,1]);\n",
    "w2 = Vector{Rational{Int64}}([1,0,-1,0,0,-1,0,0,-1,0]);\n",
    "w3 = Vector{Rational{Int64}}([1,0,-1,0,-1,0,-1,-1,0,1]);"
   ]
  },
  {
   "cell_type": "code",
   "execution_count": 30,
   "metadata": {},
   "outputs": [
    {
     "data": {
      "text/plain": [
       "10×4 Matrix{Rational{Int64}}:\n",
       "  1//1   1//1   1//1   1//1\n",
       "  1//1   1//1   0//1   0//1\n",
       " -1//1  -1//1  -1//1  -1//1\n",
       "  0//1   0//1   0//1   0//1\n",
       "  0//1  -1//1   0//1  -1//1\n",
       "  0//1  -1//1  -1//1   0//1\n",
       " -1//1   0//1   0//1  -1//1\n",
       " -1//1   0//1   0//1  -1//1\n",
       " -1//1   0//1  -1//1   0//1\n",
       "  0//1   1//1   0//1   1//1"
      ]
     },
     "execution_count": 30,
     "metadata": {},
     "output_type": "execute_result"
    }
   ],
   "source": [
    "W = Matrix([w0 w1 w2 w3])"
   ]
  },
  {
   "cell_type": "markdown",
   "metadata": {},
   "source": [
    "Joints ranks of $w_i$ ($i =0,\\cdots,3$) with $v$ in ${\\text{MP}_1}$:"
   ]
  },
  {
   "cell_type": "code",
   "execution_count": 35,
   "metadata": {},
   "outputs": [
    {
     "name": "stdout",
     "output_type": "stream",
     "text": [
      "Joint rank of v with w1 is: 7\n",
      "Joint rank of v with w2 is: 6\n",
      "Joint rank of v with w3 is: 6\n",
      "Joint rank of v with w4 is: 6\n"
     ]
    }
   ],
   "source": [
    "for i in 1:4; println(\"Joint rank of v with w\"*string(i)*\" is: \", joint_rank(v,W[:,i],H1)); end;"
   ]
  },
  {
   "cell_type": "markdown",
   "metadata": {},
   "source": [
    "Inner product with canonical facet $h_v$. All $2$-neighbors $w_i$ of $v$ have $h_v\\cdot v^\\prime > 0$. "
   ]
  },
  {
   "cell_type": "code",
   "execution_count": 59,
   "metadata": {},
   "outputs": [
    {
     "name": "stdout",
     "output_type": "stream",
     "text": [
      "Inner product hv with w1 is: Rational{Int64}[2//1]\n",
      "Inner product hv with w2 is: Rational{Int64}[2//1]\n",
      "Inner product hv with w3 is: Rational{Int64}[2//1]\n",
      "Inner product hv with w4 is: Rational{Int64}[4//1]\n"
     ]
    }
   ],
   "source": [
    "for i in 1:4; println(\"Inner product hv with w\"*string(i)*\" is: \", hv*W[:,i]); end;"
   ]
  },
  {
   "cell_type": "markdown",
   "metadata": {},
   "source": [
    "# Generating vertices of $\\mathbf{\\overline{\\text{MP}}}$"
   ]
  },
  {
   "cell_type": "markdown",
   "metadata": {},
   "source": [
    "## Increasing joint rank\n",
    "\n",
    "We look for common tight CHSH facets between $v$ and $w_i$."
   ]
  },
  {
   "cell_type": "code",
   "execution_count": 76,
   "metadata": {},
   "outputs": [],
   "source": [
    "# initialize empty Vector{Any}:\n",
    "H2int = []; Zv = tight_inequalities(v,H2_prime);\n",
    "for i in 1:4\n",
    "    Zwi = tight_inequalities(W[:,i],H2_prime);\n",
    "    Zint = collect(intersect(Set(Zv),Set(Zwi)));\n",
    "    push!(H2int,H2_prime[Zint,:]);\n",
    "end"
   ]
  },
  {
   "cell_type": "code",
   "execution_count": 70,
   "metadata": {},
   "outputs": [
    {
     "data": {
      "text/plain": [
       "4×10 Matrix{Rational{Int64}}:\n",
       " 2//1   0//1  0//1   0//1   0//1  1//1  1//1  0//1  1//1  -1//1\n",
       " 2//1   0//1  0//1   0//1  -1//1  1//1  0//1  1//1  1//1   0//1\n",
       " 2//1  -1//1  0//1  -1//1   0//1  0//1  0//1  1//1  0//1  -1//1\n",
       " 2//1  -1//1  0//1  -1//1  -1//1  0//1  1//1  0//1  0//1   0//1"
      ]
     },
     "execution_count": 70,
     "metadata": {},
     "output_type": "execute_result"
    }
   ],
   "source": [
    "H2_int[1]"
   ]
  },
  {
   "cell_type": "code",
   "execution_count": 71,
   "metadata": {},
   "outputs": [
    {
     "data": {
      "text/plain": [
       "4×10 Matrix{Rational{Int64}}:\n",
       " 2//1  -1//1  0//1   1//1  0//1  0//1   0//1  -1//1   0//1  -1//1\n",
       " 2//1   0//1  0//1   0//1  0//1  1//1   1//1   0//1   1//1  -1//1\n",
       " 2//1   0//1  0//1   0//1  0//1  1//1  -1//1   0//1  -1//1  -1//1\n",
       " 2//1  -1//1  0//1  -1//1  0//1  0//1   0//1   1//1   0//1  -1//1"
      ]
     },
     "execution_count": 71,
     "metadata": {},
     "output_type": "execute_result"
    }
   ],
   "source": [
    "H2_int[2]"
   ]
  },
  {
   "cell_type": "code",
   "execution_count": 73,
   "metadata": {},
   "outputs": [
    {
     "data": {
      "text/plain": [
       "2×10 Matrix{Rational{Int64}}:\n",
       " 2//1  0//1  0//1  0//1   0//1  1//1  1//1  0//1  1//1  -1//1\n",
       " 2//1  0//1  0//1  0//1  -1//1  1//1  0//1  1//1  1//1   0//1"
      ]
     },
     "execution_count": 73,
     "metadata": {},
     "output_type": "execute_result"
    }
   ],
   "source": [
    "H2_int[3]"
   ]
  },
  {
   "cell_type": "code",
   "execution_count": 74,
   "metadata": {},
   "outputs": [
    {
     "data": {
      "text/plain": [
       "2×10 Matrix{Rational{Int64}}:\n",
       " 2//1   0//1  0//1   0//1  0//1  1//1  1//1  0//1  1//1  -1//1\n",
       " 2//1  -1//1  0//1  -1//1  0//1  0//1  0//1  1//1  0//1  -1//1"
      ]
     },
     "execution_count": 74,
     "metadata": {},
     "output_type": "execute_result"
    }
   ],
   "source": [
    "H2_int[4]"
   ]
  },
  {
   "cell_type": "markdown",
   "metadata": {},
   "source": [
    "Compute joint rank of $v$ and $w_i$ with facets of $\\text{MP}_1$ together with CHSH facets of $\\bar C$"
   ]
  },
  {
   "cell_type": "code",
   "execution_count": 91,
   "metadata": {},
   "outputs": [
    {
     "name": "stdout",
     "output_type": "stream",
     "text": [
      "Updated joint rank of v with w1 is: 8\n",
      "Updated joint rank of v with w2 is: 8\n",
      "Updated joint rank of v with w3 is: 8\n",
      "Updated joint rank of v with w4 is: 8\n"
     ]
    }
   ],
   "source": [
    "Zv = tight_inequalities(v,H1);\n",
    "for i in 1:4\n",
    "    # find common tight inequalities in H1:\n",
    "    Zwi = tight_inequalities(W[:,i],H1);\n",
    "    Zint = collect(intersect(Set(Zv),Set(Zwi)));\n",
    "    H1Z = H1[Zint,:];\n",
    "    # Concatenate tight H1 and H2 inequalities:\n",
    "    H12Z = vcat(H1Z,H2_int[i]);\n",
    "    println(\"Updated joint rank of v with w\"*string(i)*\" is: \", rank(H12Z))\n",
    "end"
   ]
  },
  {
   "cell_type": "markdown",
   "metadata": {},
   "source": [
    "## Generate vertices using DD method"
   ]
  },
  {
   "cell_type": "markdown",
   "metadata": {},
   "source": [
    "### function: new_vertex\n",
    "\n",
    "Given the cone $P_0^\\ast$ of a full-dimensional polytope $P_0\\subseteq \\mathbb{R}^d$ and a hyperplane $h\\cdot x = 0$, the DD method guarantees that for all pairs of adjacent extreme rays $v,v^\\prime\\in P_0^\\ast$ (i.e., joint rank is $d-2$) such that $h\\cdot v < 0$ and $h\\cdot v^\\prime > 0$ that the positive sum of these points given by\n",
    "\n",
    "$$u = pv-(1-p)v^\\prime\\quad\\text{where}\\quad p = \\frac{1}{1-\\frac{h\\cdot v}{h\\cdot v^\\prime}}\\in [0,1]$$\n",
    "\n",
    "is an extreme ray of the new cone $P_1^\\ast$, which is obtained from $P^\\ast_0$ by the insertion of the new inequality $h\\cdot x \\geq 0$.\n",
    "\n",
    "**Input:** Vector: v_minus: violating vector ($d\\times 1$)\n",
    "\n",
    "**Input:** Vector: v_plus: satisfying vector ($d\\times 1$)\n",
    "\n",
    "**Input:** Vector: h: facet vector ($1\\times d$)\n",
    "\n",
    "**Output:** Vector: new_vertex ($d\\times 1$)"
   ]
  },
  {
   "cell_type": "code",
   "execution_count": null,
   "metadata": {},
   "outputs": [],
   "source": [
    "function new_vertex(v_minus,v_plus,h)\n",
    "    d = size(v_minus)[1];\n",
    "    if size(h)[1] == d\n",
    "        a = (transpose(h)*v_minus)[1];\n",
    "        b = (transpose(h)*v_plus)[1];\n",
    "    else\n",
    "        a = ((h)*v_minus)[1];\n",
    "        b = ((h)*v_plus)[1];\n",
    "    end\n",
    "    p = b/(b-a);\n",
    "    if p < 0\n",
    "        return \"No vertex possible\"\n",
    "    elseif p == 0\n",
    "        return \"No new vertex possible\"\n",
    "    else\n",
    "        return p*v_minus+(1-p)*v_plus\n",
    "    end\n",
    "end"
   ]
  },
  {
   "cell_type": "code",
   "execution_count": 155,
   "metadata": {},
   "outputs": [
    {
     "data": {
      "text/plain": [
       "10×4 Matrix{Rational{Int64}}:\n",
       "  1//1   1//1   1//1   1//1\n",
       "  1//1   1//1   1//2   2//3\n",
       "  0//1   0//1   0//1   1//3\n",
       "  0//1   0//1   0//1   0//1\n",
       "  1//2   0//1   1//2   1//3\n",
       " -1//2  -1//1  -1//1  -2//3\n",
       " -1//2   0//1   0//1  -1//3\n",
       " -1//2   0//1   0//1  -1//3\n",
       " -1//2   0//1  -1//2   0//1\n",
       "  1//2   1//1   1//2   1//1"
      ]
     },
     "execution_count": 155,
     "metadata": {},
     "output_type": "execute_result"
    }
   ],
   "source": [
    "U = zeros(Rational{Int64},10,4);\n",
    "for i in 1:4; U[:,i] .= new_vertex(v,W[:,i],hv); end; U"
   ]
  },
  {
   "cell_type": "markdown",
   "metadata": {},
   "source": [
    "# Lifting\n"
   ]
  },
  {
   "cell_type": "markdown",
   "metadata": {},
   "source": [
    "## General Lifting"
   ]
  },
  {
   "cell_type": "markdown",
   "metadata": {},
   "source": [
    "Let us decompose $\\mathbb{R}^{15} = \\mathbb{R}^6\\oplus\\mathbb{R}^9$ so that $X = (x,\\bar x)$, where $x\\in \\mathbb{R}^6$ and $\\bar x \\in \\mathbb{R}^9$. The $H$-representation of $\\Lambda_2$ is given by\n",
    "\n",
    "$$\\Lambda_2 = \\left\\{X \\in \\mathbb{R}^{15}~|~MX\\geq -\\mathbb{1}_{60\\times 1}\\right\\}.$$\n",
    "\n",
    "We can similarly decompose the matrix $M\\in \\mathbb{R}^{60\\times 15}$ into local and nonlocal parts:\n",
    "\n",
    "$$M = \\begin{pmatrix} M^{l} & M^{(nl)}\\\\ \\mathbb{0} & \\bar M^{(nl)}\\end{pmatrix}~.$$\n",
    "\n",
    "Any point $\\bar x \\in \\text{MP}_1 \\subset \\mathbb{R}^9$ satisfies the inequalities $\\bar M^{(nl)}\\bar x \\geq -\\mathbb{1}_{24\\times 1}.$ For fixed $\\bar x \\in \\text{MP}_1$ we wish to lift this to a point $ X = ( x, \\bar x) \\in \\Lambda_2$. For this to happen the coordinates $ x \\in \\mathbb{R}^6$ must satisfy\n",
    "\n",
    "$$M^{(l)} x + \\bar M^{(nl)}\\bar x \\geq -\\mathbb{1}_{36\\times 1}.$$\n",
    "\n",
    "Since $\\bar x$ is given and $\\bar M^{(nl)}$ is known this amounts to $M^{(l)} x \\geq -\\mathbb{1}_{36\\times 1} -  \\bar M^{(nl)}\\bar x$. The space of such $x\\in \\mathbb{R}^6$ satisfying these inequalities itself forms a convex polytope that we call $\\tilde{\\text{MP}}_{\\bar x}$."
   ]
  },
  {
   "cell_type": "code",
   "execution_count": 160,
   "metadata": {},
   "outputs": [],
   "source": [
    "# local inequalities:\n",
    "S = [i for i in 1:36];\n",
    "# nonlocal coordinates\n",
    "s = [i for i in 8:16];"
   ]
  },
  {
   "cell_type": "code",
   "execution_count": 468,
   "metadata": {},
   "outputs": [],
   "source": [
    "# local/total generating matrix:\n",
    "M_loc = Matrix{Rational{Int64}}(A_l);\n",
    "# Lambda2/total generating matrix\n",
    "M = Matrix{Rational{Int64}}(A);"
   ]
  },
  {
   "cell_type": "markdown",
   "metadata": {},
   "source": [
    "### $\\mathbf{\\widetilde{\\text{MP}}_{u_i}}$"
   ]
  },
  {
   "cell_type": "code",
   "execution_count": 493,
   "metadata": {
    "scrolled": true
   },
   "outputs": [
    {
     "name": "stdout",
     "output_type": "stream",
     "text": [
      "For vertex u0 the polytope of lifts has 22 total vertices. Its representative vertices are: \n",
      " \n"
     ]
    },
    {
     "data": {
      "text/plain": [
       "pm::Matrix<pm::Rational>\n",
       "1 -1 -1/2 1/2 -1 0 0 1 0 0 1/2 -1/2 -1/2 -1/2 -1/2 1/2\n",
       "1 -1/2 0 0 -1/2 -1/2 -1/2 1 0 0 1/2 -1/2 -1/2 -1/2 -1/2 1/2\n",
       "1 -1/2 0 0 -1/2 -1/2 1/2 1 0 0 1/2 -1/2 -1/2 -1/2 -1/2 1/2\n",
       "1 0 1/2 -1/2 0 0 0 1 0 0 1/2 -1/2 -1/2 -1/2 -1/2 1/2\n"
      ]
     },
     "metadata": {},
     "output_type": "display_data"
    },
    {
     "name": "stdout",
     "output_type": "stream",
     "text": [
      "_______________________________________________________ \n",
      " \n",
      "The vertex below is number 18344 and type 6 in Lambda2: \n",
      "Rational{Int64}[1//1, -1//2, 0//1, 1//1, -1//2, -1//2, 1//2, 1//1, 0//1, 0//1, 1//2, -1//2, -1//2, -1//2, -1//2, 1//2]\n",
      " \n",
      "has local rank: 11\n",
      "has total rank: 15 \n",
      " \n",
      "______________________\n",
      "\n",
      "The vertex below is number 9729 and type 5 in Lambda2: \n",
      "Rational{Int64}[1//1, 0//1, 1//2, 1//2, 0//1, -1//1, 0//1, 1//1, 0//1, 0//1, 1//2, -1//2, -1//2, -1//2, -1//2, 1//2]\n",
      " \n",
      "has local rank: 10\n",
      "has total rank: 15 \n",
      " \n",
      "______________________\n",
      "\n",
      "The vertex below is number 12183 and type 6 in Lambda2: \n",
      "Rational{Int64}[1//1, -1//2, -1//1, 0//1, -1//2, 1//2, 1//2, 1//1, 0//1, 0//1, 1//2, -1//2, -1//2, -1//2, -1//2, 1//2]\n",
      " \n",
      "has local rank: 11\n",
      "has total rank: 15 \n",
      " \n",
      "______________________\n",
      "\n",
      "The vertex below is number 9561 and type 6 in Lambda2: \n",
      "Rational{Int64}[1//1, 1//2, 0//1, -1//1, 1//2, 1//2, -1//2, 1//1, 0//1, 0//1, 1//2, -1//2, -1//2, -1//2, -1//2, 1//2]\n",
      " \n",
      "has local rank: 11\n",
      "has total rank: 15 \n",
      " \n",
      "______________________\n",
      "\n",
      "The vertex below is number 4845 and type 6 in Lambda2: \n",
      "Rational{Int64}[1//1, 1//2, 1//1, 0//1, 1//2, -1//2, -1//2, 1//1, 0//1, 0//1, 1//2, -1//2, -1//2, -1//2, -1//2, 1//2]\n",
      " \n",
      "has local rank: 11\n",
      "has total rank: 15 \n",
      " \n",
      "______________________\n",
      "\n",
      "The vertex below is number 6124 and type 5 in Lambda2: \n",
      "Rational{Int64}[1//1, 0//1, -1//2, -1//2, 0//1, 1//1, 0//1, 1//1, 0//1, 0//1, 1//2, -1//2, -1//2, -1//2, -1//2, 1//2]\n",
      " \n",
      "has local rank: 10\n",
      "has total rank: 15 \n",
      " \n",
      "______________________\n",
      "\n",
      "_______________________________________________________\n",
      " \n",
      "For vertex u1 the polytope of lifts has 14 total vertices. Its representative vertices are: \n",
      " \n"
     ]
    },
    {
     "data": {
      "text/plain": [
       "pm::Matrix<pm::Rational>\n",
       "1 -1 0 0 -1 0 0 1 0 0 0 -1 0 0 0 1\n",
       "1 -1/2 1/2 -1/2 -1/2 -1/2 -1/2 1 0 0 0 -1 0 0 0 1\n"
      ]
     },
     "metadata": {},
     "output_type": "display_data"
    },
    {
     "name": "stdout",
     "output_type": "stream",
     "text": [
      "_______________________________________________________ \n",
      " \n",
      "The vertex below is number 17985 and type 3 in Lambda2: \n",
      "Rational{Int64}[1//1, -1//2, 1//2, -1//2, -1//2, -1//2, -1//2, 1//1, 0//1, 0//1, 0//1, -1//1, 0//1, 0//1, 0//1, 1//1]\n",
      " \n",
      "has local rank: 12\n",
      "has total rank: 15 \n",
      " \n",
      "______________________\n",
      "\n",
      "The vertex below is number 18350 and type 3 in Lambda2: \n",
      "Rational{Int64}[1//1, -1//2, 1//2, 1//2, -1//2, -1//2, 1//2, 1//1, 0//1, 0//1, 0//1, -1//1, 0//1, 0//1, 0//1, 1//1]\n",
      " \n",
      "has local rank: 12\n",
      "has total rank: 15 \n",
      " \n",
      "______________________\n",
      "\n",
      "The vertex below is number 15364 and type 3 in Lambda2: \n",
      "Rational{Int64}[1//1, -1//2, -1//2, 1//2, -1//2, 1//2, 1//2, 1//1, 0//1, 0//1, 0//1, -1//1, 0//1, 0//1, 0//1, 1//1]\n",
      " \n",
      "has local rank: 12\n",
      "has total rank: 15 \n",
      " \n",
      "______________________\n",
      "\n",
      "The vertex below is number 15077 and type 3 in Lambda2: \n",
      "Rational{Int64}[1//1, 1//2, -1//2, -1//2, 1//2, 1//2, -1//2, 1//1, 0//1, 0//1, 0//1, -1//1, 0//1, 0//1, 0//1, 1//1]\n",
      " \n",
      "has local rank: 12\n",
      "has total rank: 15 \n",
      " \n",
      "______________________\n",
      "\n",
      "The vertex below is number 10671 and type 3 in Lambda2: \n",
      "Rational{Int64}[1//1, 1//2, -1//2, 1//2, 1//2, 1//2, 1//2, 1//1, 0//1, 0//1, 0//1, -1//1, 0//1, 0//1, 0//1, 1//1]\n",
      " \n",
      "has local rank: 12\n",
      "has total rank: 15 \n",
      " \n",
      "______________________\n",
      "\n",
      "The vertex below is number 12722 and type 3 in Lambda2: \n",
      "Rational{Int64}[1//1, 1//2, 1//2, 1//2, 1//2, -1//2, 1//2, 1//1, 0//1, 0//1, 0//1, -1//1, 0//1, 0//1, 0//1, 1//1]\n",
      " \n",
      "has local rank: 12\n",
      "has total rank: 15 \n",
      " \n",
      "______________________\n",
      "\n",
      "The vertex below is number 16710 and type 3 in Lambda2: \n",
      "Rational{Int64}[1//1, -1//2, -1//2, -1//2, -1//2, 1//2, -1//2, 1//1, 0//1, 0//1, 0//1, -1//1, 0//1, 0//1, 0//1, 1//1]\n",
      " \n",
      "has local rank: 12\n",
      "has total rank: 15 \n",
      " \n",
      "______________________\n",
      "\n",
      "The vertex below is number 9815 and type 3 in Lambda2: \n",
      "Rational{Int64}[1//1, 1//2, 1//2, -1//2, 1//2, -1//2, -1//2, 1//1, 0//1, 0//1, 0//1, -1//1, 0//1, 0//1, 0//1, 1//1]\n",
      " \n",
      "has local rank: 12\n",
      "has total rank: 15 \n",
      " \n",
      "______________________\n",
      "\n",
      "_______________________________________________________\n",
      " \n",
      "For vertex u2 the polytope of lifts has 28 total vertices. Its representative vertices are: \n",
      " \n"
     ]
    },
    {
     "data": {
      "text/plain": [
       "pm::Matrix<pm::Rational>\n",
       "1 -1 0 -1/2 -1/2 0 0 1/2 0 0 1/2 -1 0 0 -1/2 1/2\n",
       "1 -1 0 1/2 -1/2 0 0 1/2 0 0 1/2 -1 0 0 -1/2 1/2\n",
       "1 -1/2 -1/2 0 -1 1/2 -1/2 1/2 0 0 1/2 -1 0 0 -1/2 1/2\n",
       "1 -1/2 1/2 0 0 -1/2 1/2 1/2 0 0 1/2 -1 0 0 -1/2 1/2\n",
       "1 -1/2 -1/2 0 0 1/2 -1/2 1/2 0 0 1/2 -1 0 0 -1/2 1/2\n",
       "1 0 0 -1/2 -1/2 0 0 1/2 0 0 1/2 -1 0 0 -1/2 1/2\n"
      ]
     },
     "metadata": {},
     "output_type": "display_data"
    },
    {
     "name": "stdout",
     "output_type": "stream",
     "text": [
      "_______________________________________________________ \n",
      " \n",
      "The vertex below is number 3013 and type 5 in Lambda2: \n",
      "Rational{Int64}[1//1, -1//2, -1//2, 0//1, -1//1, 1//2, 1//2, 1//2, 0//1, 0//1, 1//2, -1//1, 0//1, 0//1, -1//2, 1//2]\n",
      " \n",
      "has local rank: 11\n",
      "has total rank: 15 \n",
      " \n",
      "______________________\n",
      "\n",
      "The vertex below is number 18353 and type 5 in Lambda2: \n",
      "Rational{Int64}[1//1, -1//2, 1//2, 1//1, 0//1, -1//2, 1//2, 1//2, 0//1, 0//1, 1//2, -1//1, 0//1, 0//1, -1//2, 1//2]\n",
      " \n",
      "has local rank: 11\n",
      "has total rank: 15 \n",
      " \n",
      "______________________\n",
      "\n",
      "The vertex below is number 12707 and type 5 in Lambda2: \n",
      "Rational{Int64}[1//1, 1//2, 1//2, 0//1, 1//1, -1//2, -1//2, 1//2, 0//1, 0//1, 1//2, -1//1, 0//1, 0//1, -1//2, 1//2]\n",
      " \n",
      "has local rank: 11\n",
      "has total rank: 15 \n",
      " \n",
      "______________________\n",
      "\n",
      "The vertex below is number 11897 and type 3 in Lambda2: \n",
      "Rational{Int64}[1//1, 0//1, -1//1, -1//2, -1//2, 1//1, 0//1, 1//2, 0//1, 0//1, 1//2, -1//1, 0//1, 0//1, -1//2, 1//2]\n",
      " \n",
      "has local rank: 10\n",
      "has total rank: 15 \n",
      " \n",
      "______________________\n",
      "\n",
      "The vertex below is number 6065 and type 5 in Lambda2: \n",
      "Rational{Int64}[1//1, 1//2, -1//2, -1//1, 0//1, 1//2, -1//2, 1//2, 0//1, 0//1, 1//2, -1//1, 0//1, 0//1, -1//2, 1//2]\n",
      " \n",
      "has local rank: 11\n",
      "has total rank: 15 \n",
      " \n",
      "______________________\n",
      "\n",
      "The vertex below is number 12931 and type 3 in Lambda2: \n",
      "Rational{Int64}[1//1, 0//1, 1//1, 1//2, 1//2, -1//1, 0//1, 1//2, 0//1, 0//1, 1//2, -1//1, 0//1, 0//1, -1//2, 1//2]\n",
      " \n",
      "has local rank: 10\n",
      "has total rank: 15 \n",
      " \n",
      "______________________\n",
      "\n",
      "_______________________________________________________\n",
      " \n",
      "For vertex u3 the polytope of lifts has 50 total vertices. Its representative vertices are: \n",
      " \n"
     ]
    },
    {
     "data": {
      "text/plain": [
       "pm::Matrix<pm::Rational>\n",
       "1 -1 0 0 -2/3 -1/3 0 2/3 1/3 0 1/3 -2/3 -1/3 -1/3 0 1\n",
       "1 -2/3 -1/3 1/3 -1 0 1/3 2/3 1/3 0 1/3 -2/3 -1/3 -1/3 0 1\n",
       "1 -2/3 1/3 -1/3 -1/3 -2/3 -1/3 2/3 1/3 0 1/3 -2/3 -1/3 -1/3 0 1\n",
       "1 -1/3 -2/3 2/3 -2/3 1/3 2/3 2/3 1/3 0 1/3 -2/3 -1/3 -1/3 0 1\n",
       "1 -1/3 -2/3 0 -2/3 1/3 0 2/3 1/3 0 1/3 -2/3 -1/3 -1/3 0 1\n",
       "1 -2/3 1/3 1/3 -1/3 0 1/3 2/3 1/3 0 1/3 -2/3 -1/3 -1/3 0 1\n",
       "1 -1/3 0 2/3 -2/3 1/3 2/3 2/3 1/3 0 1/3 -2/3 -1/3 -1/3 0 1\n",
       "1 1/3 0 -2/3 2/3 1/3 -2/3 2/3 1/3 0 1/3 -2/3 -1/3 -1/3 0 1\n",
       "1 0 1/3 -1 1/3 0 -1 2/3 1/3 0 1/3 -2/3 -1/3 -1/3 0 1\n",
       "1 -1/3 0 -2/3 0 -1/3 -2/3 2/3 1/3 0 1/3 -2/3 -1/3 -1/3 0 1\n",
       "1 0 1/3 1/3 -1/3 -2/3 1/3 2/3 1/3 0 1/3 -2/3 -1/3 -1/3 0 1\n",
       "1 2/3 1/3 1/3 1/3 0 1/3 2/3 1/3 0 1/3 -2/3 -1/3 -1/3 0 1\n",
       "1 -1/3 0 2/3 0 1/3 2/3 2/3 1/3 0 1/3 -2/3 -1/3 -1/3 0 1\n",
       "1 1/3 0 2/3 0 -1/3 2/3 2/3 1/3 0 1/3 -2/3 -1/3 -1/3 0 1\n",
       "1 1/3 2/3 0 0 -1/3 0 2/3 1/3 0 1/3 -2/3 -1/3 -1/3 0 1\n"
      ]
     },
     "metadata": {},
     "output_type": "display_data"
    },
    {
     "name": "stdout",
     "output_type": "stream",
     "text": [
      "_______________________________________________________ \n",
      " \n",
      "The vertex below is number 14485 and type 7 in Lambda2: \n",
      "Rational{Int64}[1//1, -1//3, -2//3, 2//3, -2//3, 1//3, 2//3, 2//3, 1//3, 0//1, 1//3, -2//3, -1//3, -1//3, 0//1, 1//1]\n",
      " \n",
      "has local rank: 10\n",
      "has total rank: 15 \n",
      " \n",
      "______________________\n",
      "\n",
      "The vertex below is number 11606 and type 7 in Lambda2: \n",
      "Rational{Int64}[1//1, 1//3, 2//3, -2//3, 2//3, -1//3, -2//3, 2//3, 1//3, 0//1, 1//3, -2//3, -1//3, -1//3, 0//1, 1//1]\n",
      " \n",
      "has local rank: 10\n",
      "has total rank: 15 \n",
      " \n",
      "______________________\n",
      "\n",
      "_______________________________________________________\n",
      " \n"
     ]
    }
   ],
   "source": [
    "for i in 1:4\n",
    "    # generate polytope of lifts:\n",
    "    MP_ui = lift_mp1(U[2:end,i],A,S,s);\n",
    "    \n",
    "    # display vertices:\n",
    "    println(\"For vertex u\"*string(i-1)*\" the polytope of lifts has \"*string(MP_ui.N_VERTICES)*\" total vertices. Its representative vertices are: \\n \")\n",
    "    display(representative_vertices(MP_ui));\n",
    "    println(\"_______________________________________________________ \\n \")\n",
    "    \n",
    "    # run through all vertices of MP_ui\n",
    "    for j in 1:size(MP_ui.VERTICES)[1]\n",
    "        # vertex of MP_ui:\n",
    "        v = Vector{Rational{Int64}}(MP_ui.VERTICES[j,:])\n",
    "        \n",
    "        # compute local rank:\n",
    "        Zloc = tight_inequalities(v,M_loc);\n",
    "        rloc = rank(M_loc[Zloc,:]);\n",
    "        \n",
    "        # compute total rank:\n",
    "        Z = tight_inequalities(v,M);\n",
    "        r = rank(M[Z,:]);\n",
    "        \n",
    "        if r == 15\n",
    "            v_idx = findall(y->y==v,L2_array)[1];\n",
    "            for t in 1:8\n",
    "                if v_idx in L2_orbits[t]\n",
    "                    println(\"The vertex below is number \"*string(v_idx)*\" and type \"*string(t)*\" in Lambda2: \")\n",
    "                    println(v, \"\\n \")\n",
    "                    println(\"has local rank: \", rloc)\n",
    "                    println(\"has total rank: \", r, \" \\n \")\n",
    "                    println(\"______________________\\n\")\n",
    "                end\n",
    "            end\n",
    "        end\n",
    "    end\n",
    "    println(\"_______________________________________________________\\n \")\n",
    "end"
   ]
  },
  {
   "cell_type": "markdown",
   "metadata": {},
   "source": [
    "## Classical lift"
   ]
  },
  {
   "cell_type": "code",
   "execution_count": 249,
   "metadata": {},
   "outputs": [],
   "source": [
    "# import functions:\n",
    "include(\"convex_decomposition.jl\");"
   ]
  },
  {
   "cell_type": "code",
   "execution_count": 312,
   "metadata": {
    "scrolled": true
   },
   "outputs": [
    {
     "name": "stdout",
     "output_type": "stream",
     "text": [
      "For vertex u0\n",
      "\n",
      "Vertices appearing in decomposition: \n",
      "\n"
     ]
    },
    {
     "data": {
      "text/plain": [
       "10×4 Matrix{Rational{Int64}}:\n",
       "  1//1   1//1   1//1   1//1\n",
       "  1//1   1//1   1//1   1//1\n",
       " -1//1   1//1  -1//1   1//1\n",
       " -1//1   1//1   1//1  -1//1\n",
       "  1//1  -1//1   1//1   1//1\n",
       " -1//1  -1//1  -1//1   1//1\n",
       " -1//1  -1//1   1//1  -1//1\n",
       " -1//1  -1//1   1//1  -1//1\n",
       "  1//1  -1//1  -1//1  -1//1\n",
       "  1//1  -1//1   1//1   1//1"
      ]
     },
     "metadata": {},
     "output_type": "display_data"
    },
    {
     "name": "stdout",
     "output_type": "stream",
     "text": [
      "\n",
      " \n",
      "Vertices of allowed convex combinations: \n",
      " \n"
     ]
    },
    {
     "data": {
      "text/plain": [
       "1×5 Matrix{Rational{Int64}}:\n",
       " 1//1  1//4  1//4  1//4  1//4"
      ]
     },
     "metadata": {},
     "output_type": "display_data"
    },
    {
     "name": "stdout",
     "output_type": "stream",
     "text": [
      "\n",
      " \n",
      "For vertex u1\n",
      "\n",
      "Vertices appearing in decomposition: \n",
      "\n"
     ]
    },
    {
     "data": {
      "text/plain": [
       "10×4 Matrix{Rational{Int64}}:\n",
       "  1//1   1//1   1//1   1//1\n",
       "  1//1   1//1   1//1   1//1\n",
       "  1//1  -1//1   1//1  -1//1\n",
       " -1//1  -1//1   1//1   1//1\n",
       " -1//1   1//1  -1//1   1//1\n",
       " -1//1  -1//1  -1//1  -1//1\n",
       "  1//1  -1//1  -1//1   1//1\n",
       " -1//1  -1//1   1//1   1//1\n",
       " -1//1   1//1   1//1  -1//1\n",
       "  1//1   1//1   1//1   1//1"
      ]
     },
     "metadata": {},
     "output_type": "display_data"
    },
    {
     "name": "stdout",
     "output_type": "stream",
     "text": [
      "\n",
      " \n",
      "Vertices of allowed convex combinations: \n",
      " \n"
     ]
    },
    {
     "data": {
      "text/plain": [
       "1×5 Matrix{Rational{Int64}}:\n",
       " 1//1  1//4  1//4  1//4  1//4"
      ]
     },
     "metadata": {},
     "output_type": "display_data"
    },
    {
     "name": "stdout",
     "output_type": "stream",
     "text": [
      "\n",
      " \n",
      "For vertex u2\n",
      "\n",
      "Vertices appearing in decomposition: \n",
      "\n"
     ]
    },
    {
     "data": {
      "text/plain": [
       "10×8 Matrix{Rational{Int64}}:\n",
       "  1//1   1//1   1//1   1//1   1//1   1//1   1//1   1//1\n",
       "  1//1   1//1   1//1   1//1  -1//1  -1//1   1//1  -1//1\n",
       "  1//1  -1//1   1//1  -1//1   1//1   1//1  -1//1   1//1\n",
       " -1//1  -1//1   1//1   1//1  -1//1   1//1  -1//1   1//1\n",
       " -1//1   1//1  -1//1   1//1   1//1   1//1   1//1   1//1\n",
       " -1//1  -1//1  -1//1  -1//1  -1//1  -1//1  -1//1  -1//1\n",
       "  1//1  -1//1  -1//1   1//1   1//1  -1//1  -1//1  -1//1\n",
       " -1//1  -1//1  -1//1   1//1   1//1  -1//1   1//1   1//1\n",
       " -1//1   1//1  -1//1  -1//1  -1//1   1//1  -1//1  -1//1\n",
       "  1//1   1//1  -1//1   1//1   1//1   1//1  -1//1  -1//1"
      ]
     },
     "metadata": {},
     "output_type": "display_data"
    },
    {
     "name": "stdout",
     "output_type": "stream",
     "text": [
      "\n",
      " \n",
      "Vertices of allowed convex combinations: \n",
      " \n"
     ]
    },
    {
     "data": {
      "text/plain": [
       "3×9 Matrix{Rational{Int64}}:\n",
       " 1//1  0//1  1//4  1//4  1//4  1//4  0//1  0//1  0//1\n",
       " 1//1  1//4  1//4  0//1  1//4  0//1  0//1  0//1  1//4\n",
       " 1//1  1//4  0//1  0//1  1//4  0//1  1//4  1//4  0//1"
      ]
     },
     "metadata": {},
     "output_type": "display_data"
    },
    {
     "name": "stdout",
     "output_type": "stream",
     "text": [
      "\n",
      " \n",
      "For vertex u3\n",
      "\n",
      "Vertices appearing in decomposition: \n",
      "\n"
     ]
    },
    {
     "data": {
      "text/plain": [
       "10×6 Matrix{Rational{Int64}}:\n",
       "  1//1   1//1   1//1   1//1   1//1   1//1\n",
       "  1//1   1//1   1//1   1//1   1//1  -1//1\n",
       "  1//1  -1//1   1//1  -1//1   1//1   1//1\n",
       " -1//1  -1//1   1//1   1//1  -1//1   1//1\n",
       " -1//1   1//1  -1//1   1//1   1//1   1//1\n",
       " -1//1  -1//1  -1//1  -1//1   1//1  -1//1\n",
       "  1//1  -1//1  -1//1   1//1  -1//1  -1//1\n",
       " -1//1  -1//1   1//1   1//1  -1//1  -1//1\n",
       " -1//1   1//1   1//1  -1//1  -1//1   1//1\n",
       "  1//1   1//1   1//1   1//1   1//1   1//1"
      ]
     },
     "metadata": {},
     "output_type": "display_data"
    },
    {
     "name": "stdout",
     "output_type": "stream",
     "text": [
      "\n",
      " \n",
      "Vertices of allowed convex combinations: \n",
      " \n"
     ]
    },
    {
     "data": {
      "text/plain": [
       "1×7 Matrix{Rational{Int64}}:\n",
       " 1//1  1//6  1//6  1//6  1//6  1//6  1//6"
      ]
     },
     "metadata": {},
     "output_type": "display_data"
    },
    {
     "name": "stdout",
     "output_type": "stream",
     "text": [
      "\n",
      " \n"
     ]
    }
   ],
   "source": [
    "cd_array = [];\n",
    "for i in 1:4\n",
    "    println(\"For vertex u\"*string(i-1)*\"\\n\")\n",
    "    \n",
    "    # compute decomposition of ui in terms of V2:\n",
    "    delta_i, cd_i = convex_decomposition(U[:,i],H2,V2);\n",
    "    \n",
    "    # collect results:\n",
    "    push!(cd_array,[delta_i,Matrix{Rational{Int64}}(cd_i.VERTICES)]);\n",
    "    \n",
    "    # print results:\n",
    "    println(\"Vertices appearing in decomposition: \\n\");\n",
    "    display(delta_i); println(\"\\n \");\n",
    "    println(\"Vertices of allowed convex combinations: \\n \");\n",
    "    display(cd_array[i][2]); println(\"\\n \")\n",
    "end"
   ]
  },
  {
   "cell_type": "markdown",
   "metadata": {},
   "source": [
    "### Lift of $\\mathbf{\\overline{\\text{MP}}}$ vertices"
   ]
  },
  {
   "cell_type": "code",
   "execution_count": 301,
   "metadata": {},
   "outputs": [],
   "source": [
    "# Matrix of deterministic vertices:\n",
    "D_array = Matrix{Rational{Int64}}(D);"
   ]
  },
  {
   "cell_type": "code",
   "execution_count": 416,
   "metadata": {},
   "outputs": [],
   "source": [
    "# array of L2 vertices: useful for searching:\n",
    "L2_array = polymake_to_array(L2.VERTICES);"
   ]
  },
  {
   "cell_type": "code",
   "execution_count": 497,
   "metadata": {
    "scrolled": true
   },
   "outputs": [
    {
     "name": "stdout",
     "output_type": "stream",
     "text": [
      "Vertex u0 \n",
      " \n",
      "Using deterministic vertices: \n",
      " \n"
     ]
    },
    {
     "data": {
      "text/plain": [
       "16×4 Matrix{Rational{Int64}}:\n",
       "  1//1   1//1   1//1   1//1\n",
       " -1//1  -1//1   1//1  -1//1\n",
       " -1//1   1//1   1//1  -1//1\n",
       "  1//1   1//1   1//1   1//1\n",
       " -1//1  -1//1   1//1  -1//1\n",
       "  1//1  -1//1  -1//1  -1//1\n",
       "  1//1  -1//1   1//1   1//1\n",
       "  1//1   1//1   1//1   1//1\n",
       " -1//1   1//1  -1//1   1//1\n",
       " -1//1   1//1   1//1  -1//1\n",
       "  1//1  -1//1   1//1   1//1\n",
       " -1//1  -1//1  -1//1   1//1\n",
       " -1//1  -1//1   1//1  -1//1\n",
       " -1//1  -1//1   1//1  -1//1\n",
       "  1//1  -1//1  -1//1  -1//1\n",
       "  1//1  -1//1   1//1   1//1"
      ]
     },
     "metadata": {},
     "output_type": "display_data"
    },
    {
     "name": "stdout",
     "output_type": "stream",
     "text": [
      "'beta' values: Rational{Int64}[-1//1, 1//1, -1//1, 1//1]\n",
      "\n",
      "and convex mixture \n",
      " \n"
     ]
    },
    {
     "data": {
      "text/plain": [
       "4-element Vector{Rational{Int64}}:\n",
       " 1//4\n",
       " 1//4\n",
       " 1//4\n",
       " 1//4"
      ]
     },
     "metadata": {},
     "output_type": "display_data"
    },
    {
     "name": "stdout",
     "output_type": "stream",
     "text": [
      " \n",
      " \n",
      "we obtain vertex 18344 of type 6 \n",
      " \n",
      "Rational{Int64}[1//1, -1//2, 0//1, 1//1, -1//2, -1//2, 1//2, 1//1, 0//1, 0//1, 1//2, -1//2, -1//2, -1//2, -1//2, 1//2] \n",
      " \n",
      "__________________ \n",
      " \n",
      "Using deterministic vertices: \n",
      " \n"
     ]
    },
    {
     "data": {
      "text/plain": [
       "16×4 Matrix{Rational{Int64}}:\n",
       "  1//1   1//1   1//1   1//1\n",
       " -1//1   1//1  -1//1  -1//1\n",
       " -1//1  -1//1  -1//1  -1//1\n",
       "  1//1  -1//1  -1//1   1//1\n",
       " -1//1   1//1  -1//1  -1//1\n",
       "  1//1   1//1   1//1  -1//1\n",
       "  1//1   1//1  -1//1   1//1\n",
       "  1//1   1//1   1//1   1//1\n",
       " -1//1   1//1  -1//1   1//1\n",
       " -1//1   1//1   1//1  -1//1\n",
       "  1//1  -1//1   1//1   1//1\n",
       " -1//1  -1//1  -1//1   1//1\n",
       " -1//1  -1//1   1//1  -1//1\n",
       " -1//1  -1//1   1//1  -1//1\n",
       "  1//1  -1//1  -1//1  -1//1\n",
       "  1//1  -1//1   1//1   1//1"
      ]
     },
     "metadata": {},
     "output_type": "display_data"
    },
    {
     "name": "stdout",
     "output_type": "stream",
     "text": [
      "'beta' values: Rational{Int64}[-1//1, 1//1, -1//1, 1//1]\n",
      "\n",
      "and convex mixture \n",
      " \n"
     ]
    },
    {
     "data": {
      "text/plain": [
       "4-element Vector{Rational{Int64}}:\n",
       " 1//4\n",
       " 1//4\n",
       " 1//4\n",
       " 1//4"
      ]
     },
     "metadata": {},
     "output_type": "display_data"
    },
    {
     "name": "stdout",
     "output_type": "stream",
     "text": [
      " \n",
      " \n",
      "we obtain vertex 12183 of type 6 \n",
      " \n",
      "Rational{Int64}[1//1, -1//2, -1//1, 0//1, -1//2, 1//2, 1//2, 1//1, 0//1, 0//1, 1//2, -1//2, -1//2, -1//2, -1//2, 1//2] \n",
      " \n",
      "__________________ \n",
      " \n",
      "Using deterministic vertices: \n",
      " \n"
     ]
    },
    {
     "data": {
      "text/plain": [
       "16×4 Matrix{Rational{Int64}}:\n",
       "  1//1   1//1   1//1   1//1\n",
       " -1//1   1//1  -1//1   1//1\n",
       " -1//1  -1//1  -1//1   1//1\n",
       "  1//1  -1//1  -1//1  -1//1\n",
       " -1//1   1//1  -1//1   1//1\n",
       "  1//1   1//1   1//1   1//1\n",
       "  1//1   1//1  -1//1  -1//1\n",
       "  1//1   1//1   1//1   1//1\n",
       " -1//1   1//1  -1//1   1//1\n",
       " -1//1   1//1   1//1  -1//1\n",
       "  1//1  -1//1   1//1   1//1\n",
       " -1//1  -1//1  -1//1   1//1\n",
       " -1//1  -1//1   1//1  -1//1\n",
       " -1//1  -1//1   1//1  -1//1\n",
       "  1//1  -1//1  -1//1  -1//1\n",
       "  1//1  -1//1   1//1   1//1"
      ]
     },
     "metadata": {},
     "output_type": "display_data"
    },
    {
     "name": "stdout",
     "output_type": "stream",
     "text": [
      "'beta' values: Rational{Int64}[-1//1, 1//1, -1//1, 1//1]\n",
      "\n",
      "and convex mixture \n",
      " \n"
     ]
    },
    {
     "data": {
      "text/plain": [
       "4-element Vector{Rational{Int64}}:\n",
       " 1//4\n",
       " 1//4\n",
       " 1//4\n",
       " 1//4"
      ]
     },
     "metadata": {},
     "output_type": "display_data"
    },
    {
     "name": "stdout",
     "output_type": "stream",
     "text": [
      " \n",
      " \n",
      "we obtain vertex 6124 of type 5 \n",
      " \n",
      "Rational{Int64}[1//1, 0//1, -1//2, -1//2, 0//1, 1//1, 0//1, 1//1, 0//1, 0//1, 1//2, -1//2, -1//2, -1//2, -1//2, 1//2] \n",
      " \n",
      "__________________ \n",
      " \n",
      "Using deterministic vertices: \n",
      " \n"
     ]
    },
    {
     "data": {
      "text/plain": [
       "16×4 Matrix{Rational{Int64}}:\n",
       "  1//1   1//1   1//1   1//1\n",
       "  1//1  -1//1   1//1  -1//1\n",
       "  1//1   1//1   1//1  -1//1\n",
       " -1//1   1//1   1//1   1//1\n",
       "  1//1  -1//1   1//1  -1//1\n",
       " -1//1  -1//1  -1//1  -1//1\n",
       " -1//1  -1//1   1//1   1//1\n",
       "  1//1   1//1   1//1   1//1\n",
       " -1//1   1//1  -1//1   1//1\n",
       " -1//1   1//1   1//1  -1//1\n",
       "  1//1  -1//1   1//1   1//1\n",
       " -1//1  -1//1  -1//1   1//1\n",
       " -1//1  -1//1   1//1  -1//1\n",
       " -1//1  -1//1   1//1  -1//1\n",
       "  1//1  -1//1  -1//1  -1//1\n",
       "  1//1  -1//1   1//1   1//1"
      ]
     },
     "metadata": {},
     "output_type": "display_data"
    },
    {
     "name": "stdout",
     "output_type": "stream",
     "text": [
      "'beta' values: Rational{Int64}[-1//1, 1//1, -1//1, 1//1]\n",
      "\n",
      "and convex mixture \n",
      " \n"
     ]
    },
    {
     "data": {
      "text/plain": [
       "4-element Vector{Rational{Int64}}:\n",
       " 1//4\n",
       " 1//4\n",
       " 1//4\n",
       " 1//4"
      ]
     },
     "metadata": {},
     "output_type": "display_data"
    },
    {
     "name": "stdout",
     "output_type": "stream",
     "text": [
      " \n",
      " \n",
      "we obtain vertex 9729 of type 5 \n",
      " \n",
      "Rational{Int64}[1//1, 0//1, 1//2, 1//2, 0//1, -1//1, 0//1, 1//1, 0//1, 0//1, 1//2, -1//2, -1//2, -1//2, -1//2, 1//2] \n",
      " \n",
      "__________________ \n",
      " \n",
      "Using deterministic vertices: \n",
      " \n"
     ]
    },
    {
     "data": {
      "text/plain": [
       "16×4 Matrix{Rational{Int64}}:\n",
       "  1//1   1//1   1//1   1//1\n",
       "  1//1  -1//1   1//1   1//1\n",
       "  1//1   1//1   1//1   1//1\n",
       " -1//1   1//1   1//1  -1//1\n",
       "  1//1  -1//1   1//1   1//1\n",
       " -1//1  -1//1  -1//1   1//1\n",
       " -1//1  -1//1   1//1  -1//1\n",
       "  1//1   1//1   1//1   1//1\n",
       " -1//1   1//1  -1//1   1//1\n",
       " -1//1   1//1   1//1  -1//1\n",
       "  1//1  -1//1   1//1   1//1\n",
       " -1//1  -1//1  -1//1   1//1\n",
       " -1//1  -1//1   1//1  -1//1\n",
       " -1//1  -1//1   1//1  -1//1\n",
       "  1//1  -1//1  -1//1  -1//1\n",
       "  1//1  -1//1   1//1   1//1"
      ]
     },
     "metadata": {},
     "output_type": "display_data"
    },
    {
     "name": "stdout",
     "output_type": "stream",
     "text": [
      "'beta' values: Rational{Int64}[-1//1, 1//1, -1//1, 1//1]\n",
      "\n",
      "and convex mixture \n",
      " \n"
     ]
    },
    {
     "data": {
      "text/plain": [
       "4-element Vector{Rational{Int64}}:\n",
       " 1//4\n",
       " 1//4\n",
       " 1//4\n",
       " 1//4"
      ]
     },
     "metadata": {},
     "output_type": "display_data"
    },
    {
     "name": "stdout",
     "output_type": "stream",
     "text": [
      " \n",
      " \n",
      "we obtain vertex 4845 of type 6 \n",
      " \n",
      "Rational{Int64}[1//1, 1//2, 1//1, 0//1, 1//2, -1//2, -1//2, 1//1, 0//1, 0//1, 1//2, -1//2, -1//2, -1//2, -1//2, 1//2] \n",
      " \n",
      "__________________ \n",
      " \n",
      "Using deterministic vertices: \n",
      " \n"
     ]
    },
    {
     "data": {
      "text/plain": [
       "16×4 Matrix{Rational{Int64}}:\n",
       "  1//1   1//1   1//1   1//1\n",
       "  1//1   1//1  -1//1   1//1\n",
       "  1//1  -1//1  -1//1   1//1\n",
       " -1//1  -1//1  -1//1  -1//1\n",
       "  1//1   1//1  -1//1   1//1\n",
       " -1//1   1//1   1//1   1//1\n",
       " -1//1   1//1  -1//1  -1//1\n",
       "  1//1   1//1   1//1   1//1\n",
       " -1//1   1//1  -1//1   1//1\n",
       " -1//1   1//1   1//1  -1//1\n",
       "  1//1  -1//1   1//1   1//1\n",
       " -1//1  -1//1  -1//1   1//1\n",
       " -1//1  -1//1   1//1  -1//1\n",
       " -1//1  -1//1   1//1  -1//1\n",
       "  1//1  -1//1  -1//1  -1//1\n",
       "  1//1  -1//1   1//1   1//1"
      ]
     },
     "metadata": {},
     "output_type": "display_data"
    },
    {
     "name": "stdout",
     "output_type": "stream",
     "text": [
      "'beta' values: Rational{Int64}[-1//1, 1//1, -1//1, 1//1]\n",
      "\n",
      "and convex mixture \n",
      " \n"
     ]
    },
    {
     "data": {
      "text/plain": [
       "4-element Vector{Rational{Int64}}:\n",
       " 1//4\n",
       " 1//4\n",
       " 1//4\n",
       " 1//4"
      ]
     },
     "metadata": {},
     "output_type": "display_data"
    },
    {
     "name": "stdout",
     "output_type": "stream",
     "text": [
      " \n",
      " \n",
      "we obtain vertex 9561 of type 6 \n",
      " \n",
      "Rational{Int64}[1//1, 1//2, 0//1, -1//1, 1//2, 1//2, -1//2, 1//1, 0//1, 0//1, 1//2, -1//2, -1//2, -1//2, -1//2, 1//2] \n",
      " \n",
      "__________________ \n",
      " \n",
      "______________________________________________________________ \n",
      " \n",
      "Vertex u1 \n",
      " \n",
      "Using deterministic vertices: \n",
      " \n"
     ]
    },
    {
     "data": {
      "text/plain": [
       "16×4 Matrix{Rational{Int64}}:\n",
       "  1//1   1//1   1//1   1//1\n",
       " -1//1  -1//1  -1//1   1//1\n",
       "  1//1  -1//1   1//1   1//1\n",
       "  1//1   1//1  -1//1   1//1\n",
       " -1//1  -1//1  -1//1   1//1\n",
       " -1//1   1//1  -1//1  -1//1\n",
       "  1//1   1//1  -1//1   1//1\n",
       "  1//1   1//1   1//1   1//1\n",
       "  1//1  -1//1   1//1  -1//1\n",
       " -1//1  -1//1   1//1   1//1\n",
       " -1//1   1//1  -1//1   1//1\n",
       " -1//1  -1//1  -1//1  -1//1\n",
       "  1//1  -1//1  -1//1   1//1\n",
       " -1//1  -1//1   1//1   1//1\n",
       " -1//1   1//1   1//1  -1//1\n",
       "  1//1   1//1   1//1   1//1"
      ]
     },
     "metadata": {},
     "output_type": "display_data"
    },
    {
     "name": "stdout",
     "output_type": "stream",
     "text": [
      "'beta' values: Rational{Int64}[-1//1, -1//1, -1//1, -1//1]\n",
      "\n",
      "and convex mixture \n",
      " \n"
     ]
    },
    {
     "data": {
      "text/plain": [
       "4-element Vector{Rational{Int64}}:\n",
       " 1//4\n",
       " 1//4\n",
       " 1//4\n",
       " 1//4"
      ]
     },
     "metadata": {},
     "output_type": "display_data"
    },
    {
     "name": "stdout",
     "output_type": "stream",
     "text": [
      " \n",
      " \n",
      "we obtain vertex 18350 of type 3 \n",
      " \n",
      "Rational{Int64}[1//1, -1//2, 1//2, 1//2, -1//2, -1//2, 1//2, 1//1, 0//1, 0//1, 0//1, -1//1, 0//1, 0//1, 0//1, 1//1] \n",
      " \n",
      "__________________ \n",
      " \n",
      "Using deterministic vertices: \n",
      " \n"
     ]
    },
    {
     "data": {
      "text/plain": [
       "16×4 Matrix{Rational{Int64}}:\n",
       "  1//1   1//1   1//1   1//1\n",
       " -1//1  -1//1   1//1  -1//1\n",
       "  1//1  -1//1  -1//1  -1//1\n",
       "  1//1   1//1   1//1  -1//1\n",
       " -1//1  -1//1   1//1  -1//1\n",
       " -1//1   1//1   1//1   1//1\n",
       "  1//1   1//1   1//1  -1//1\n",
       "  1//1   1//1   1//1   1//1\n",
       "  1//1  -1//1   1//1  -1//1\n",
       " -1//1  -1//1   1//1   1//1\n",
       " -1//1   1//1  -1//1   1//1\n",
       " -1//1  -1//1  -1//1  -1//1\n",
       "  1//1  -1//1  -1//1   1//1\n",
       " -1//1  -1//1   1//1   1//1\n",
       " -1//1   1//1   1//1  -1//1\n",
       "  1//1   1//1   1//1   1//1"
      ]
     },
     "metadata": {},
     "output_type": "display_data"
    },
    {
     "name": "stdout",
     "output_type": "stream",
     "text": [
      "'beta' values: Rational{Int64}[-1//1, -1//1, -1//1, -1//1]\n",
      "\n",
      "and convex mixture \n",
      " \n"
     ]
    },
    {
     "data": {
      "text/plain": [
       "4-element Vector{Rational{Int64}}:\n",
       " 1//4\n",
       " 1//4\n",
       " 1//4\n",
       " 1//4"
      ]
     },
     "metadata": {},
     "output_type": "display_data"
    },
    {
     "name": "stdout",
     "output_type": "stream",
     "text": [
      " \n",
      " \n",
      "we obtain vertex 15364 of type 3 \n",
      " \n",
      "Rational{Int64}[1//1, -1//2, -1//2, 1//2, -1//2, 1//2, 1//2, 1//1, 0//1, 0//1, 0//1, -1//1, 0//1, 0//1, 0//1, 1//1] \n",
      " \n",
      "__________________ \n",
      " \n",
      "Using deterministic vertices: \n",
      " \n"
     ]
    },
    {
     "data": {
      "text/plain": [
       "16×4 Matrix{Rational{Int64}}:\n",
       "  1//1   1//1   1//1   1//1\n",
       " -1//1   1//1  -1//1  -1//1\n",
       "  1//1   1//1   1//1  -1//1\n",
       "  1//1  -1//1  -1//1  -1//1\n",
       " -1//1   1//1  -1//1  -1//1\n",
       " -1//1  -1//1  -1//1   1//1\n",
       "  1//1  -1//1  -1//1  -1//1\n",
       "  1//1   1//1   1//1   1//1\n",
       "  1//1  -1//1   1//1  -1//1\n",
       " -1//1  -1//1   1//1   1//1\n",
       " -1//1   1//1  -1//1   1//1\n",
       " -1//1  -1//1  -1//1  -1//1\n",
       "  1//1  -1//1  -1//1   1//1\n",
       " -1//1  -1//1   1//1   1//1\n",
       " -1//1   1//1   1//1  -1//1\n",
       "  1//1   1//1   1//1   1//1"
      ]
     },
     "metadata": {},
     "output_type": "display_data"
    },
    {
     "name": "stdout",
     "output_type": "stream",
     "text": [
      "'beta' values: Rational{Int64}[-1//1, -1//1, -1//1, -1//1]\n",
      "\n",
      "and convex mixture \n",
      " \n"
     ]
    },
    {
     "data": {
      "text/plain": [
       "4-element Vector{Rational{Int64}}:\n",
       " 1//4\n",
       " 1//4\n",
       " 1//4\n",
       " 1//4"
      ]
     },
     "metadata": {},
     "output_type": "display_data"
    },
    {
     "name": "stdout",
     "output_type": "stream",
     "text": [
      " \n",
      " \n",
      "we obtain vertex 17985 of type 3 \n",
      " \n",
      "Rational{Int64}[1//1, -1//2, 1//2, -1//2, -1//2, -1//2, -1//2, 1//1, 0//1, 0//1, 0//1, -1//1, 0//1, 0//1, 0//1, 1//1] \n",
      " \n",
      "__________________ \n",
      " \n",
      "Using deterministic vertices: \n",
      " \n"
     ]
    },
    {
     "data": {
      "text/plain": [
       "16×4 Matrix{Rational{Int64}}:\n",
       "  1//1   1//1   1//1   1//1\n",
       " -1//1   1//1   1//1   1//1\n",
       "  1//1   1//1  -1//1   1//1\n",
       "  1//1  -1//1   1//1   1//1\n",
       " -1//1   1//1   1//1   1//1\n",
       " -1//1  -1//1   1//1  -1//1\n",
       "  1//1  -1//1   1//1   1//1\n",
       "  1//1   1//1   1//1   1//1\n",
       "  1//1  -1//1   1//1  -1//1\n",
       " -1//1  -1//1   1//1   1//1\n",
       " -1//1   1//1  -1//1   1//1\n",
       " -1//1  -1//1  -1//1  -1//1\n",
       "  1//1  -1//1  -1//1   1//1\n",
       " -1//1  -1//1   1//1   1//1\n",
       " -1//1   1//1   1//1  -1//1\n",
       "  1//1   1//1   1//1   1//1"
      ]
     },
     "metadata": {},
     "output_type": "display_data"
    },
    {
     "name": "stdout",
     "output_type": "stream",
     "text": [
      "'beta' values: Rational{Int64}[-1//1, -1//1, -1//1, -1//1]\n",
      "\n",
      "and convex mixture \n",
      " \n"
     ]
    },
    {
     "data": {
      "text/plain": [
       "4-element Vector{Rational{Int64}}:\n",
       " 1//4\n",
       " 1//4\n",
       " 1//4\n",
       " 1//4"
      ]
     },
     "metadata": {},
     "output_type": "display_data"
    },
    {
     "name": "stdout",
     "output_type": "stream",
     "text": [
      " \n",
      " \n",
      "we obtain vertex 12722 of type 3 \n",
      " \n",
      "Rational{Int64}[1//1, 1//2, 1//2, 1//2, 1//2, -1//2, 1//2, 1//1, 0//1, 0//1, 0//1, -1//1, 0//1, 0//1, 0//1, 1//1] \n",
      " \n",
      "__________________ \n",
      " \n",
      "Using deterministic vertices: \n",
      " \n"
     ]
    },
    {
     "data": {
      "text/plain": [
       "16×4 Matrix{Rational{Int64}}:\n",
       "  1//1   1//1   1//1   1//1\n",
       "  1//1  -1//1  -1//1  -1//1\n",
       " -1//1  -1//1   1//1  -1//1\n",
       " -1//1   1//1  -1//1  -1//1\n",
       "  1//1  -1//1  -1//1  -1//1\n",
       "  1//1   1//1  -1//1   1//1\n",
       " -1//1   1//1  -1//1  -1//1\n",
       "  1//1   1//1   1//1   1//1\n",
       "  1//1  -1//1   1//1  -1//1\n",
       " -1//1  -1//1   1//1   1//1\n",
       " -1//1   1//1  -1//1   1//1\n",
       " -1//1  -1//1  -1//1  -1//1\n",
       "  1//1  -1//1  -1//1   1//1\n",
       " -1//1  -1//1   1//1   1//1\n",
       " -1//1   1//1   1//1  -1//1\n",
       "  1//1   1//1   1//1   1//1"
      ]
     },
     "metadata": {},
     "output_type": "display_data"
    },
    {
     "name": "stdout",
     "output_type": "stream",
     "text": [
      "'beta' values: Rational{Int64}[-1//1, -1//1, -1//1, -1//1]\n",
      "\n",
      "and convex mixture \n",
      " \n"
     ]
    },
    {
     "data": {
      "text/plain": [
       "4-element Vector{Rational{Int64}}:\n",
       " 1//4\n",
       " 1//4\n",
       " 1//4\n",
       " 1//4"
      ]
     },
     "metadata": {},
     "output_type": "display_data"
    },
    {
     "name": "stdout",
     "output_type": "stream",
     "text": [
      " \n",
      " \n",
      "we obtain vertex 16710 of type 3 \n",
      " \n",
      "Rational{Int64}[1//1, -1//2, -1//2, -1//2, -1//2, 1//2, -1//2, 1//1, 0//1, 0//1, 0//1, -1//1, 0//1, 0//1, 0//1, 1//1] \n",
      " \n",
      "__________________ \n",
      " \n",
      "Using deterministic vertices: \n",
      " \n"
     ]
    },
    {
     "data": {
      "text/plain": [
       "16×4 Matrix{Rational{Int64}}:\n",
       "  1//1   1//1   1//1   1//1\n",
       "  1//1  -1//1   1//1   1//1\n",
       " -1//1  -1//1  -1//1   1//1\n",
       " -1//1   1//1   1//1   1//1\n",
       "  1//1  -1//1   1//1   1//1\n",
       "  1//1   1//1   1//1  -1//1\n",
       " -1//1   1//1   1//1   1//1\n",
       "  1//1   1//1   1//1   1//1\n",
       "  1//1  -1//1   1//1  -1//1\n",
       " -1//1  -1//1   1//1   1//1\n",
       " -1//1   1//1  -1//1   1//1\n",
       " -1//1  -1//1  -1//1  -1//1\n",
       "  1//1  -1//1  -1//1   1//1\n",
       " -1//1  -1//1   1//1   1//1\n",
       " -1//1   1//1   1//1  -1//1\n",
       "  1//1   1//1   1//1   1//1"
      ]
     },
     "metadata": {},
     "output_type": "display_data"
    },
    {
     "name": "stdout",
     "output_type": "stream",
     "text": [
      "'beta' values: Rational{Int64}[-1//1, -1//1, -1//1, -1//1]\n",
      "\n",
      "and convex mixture \n",
      " \n"
     ]
    },
    {
     "data": {
      "text/plain": [
       "4-element Vector{Rational{Int64}}:\n",
       " 1//4\n",
       " 1//4\n",
       " 1//4\n",
       " 1//4"
      ]
     },
     "metadata": {},
     "output_type": "display_data"
    },
    {
     "name": "stdout",
     "output_type": "stream",
     "text": [
      " \n",
      " \n",
      "we obtain vertex 10671 of type 3 \n",
      " \n",
      "Rational{Int64}[1//1, 1//2, -1//2, 1//2, 1//2, 1//2, 1//2, 1//1, 0//1, 0//1, 0//1, -1//1, 0//1, 0//1, 0//1, 1//1] \n",
      " \n",
      "__________________ \n",
      " \n",
      "Using deterministic vertices: \n",
      " \n"
     ]
    },
    {
     "data": {
      "text/plain": [
       "16×4 Matrix{Rational{Int64}}:\n",
       "  1//1   1//1   1//1   1//1\n",
       "  1//1   1//1  -1//1   1//1\n",
       " -1//1   1//1   1//1   1//1\n",
       " -1//1  -1//1  -1//1   1//1\n",
       "  1//1   1//1  -1//1   1//1\n",
       "  1//1  -1//1  -1//1  -1//1\n",
       " -1//1  -1//1  -1//1   1//1\n",
       "  1//1   1//1   1//1   1//1\n",
       "  1//1  -1//1   1//1  -1//1\n",
       " -1//1  -1//1   1//1   1//1\n",
       " -1//1   1//1  -1//1   1//1\n",
       " -1//1  -1//1  -1//1  -1//1\n",
       "  1//1  -1//1  -1//1   1//1\n",
       " -1//1  -1//1   1//1   1//1\n",
       " -1//1   1//1   1//1  -1//1\n",
       "  1//1   1//1   1//1   1//1"
      ]
     },
     "metadata": {},
     "output_type": "display_data"
    },
    {
     "name": "stdout",
     "output_type": "stream",
     "text": [
      "'beta' values: Rational{Int64}[-1//1, -1//1, -1//1, -1//1]\n",
      "\n",
      "and convex mixture \n",
      " \n"
     ]
    },
    {
     "data": {
      "text/plain": [
       "4-element Vector{Rational{Int64}}:\n",
       " 1//4\n",
       " 1//4\n",
       " 1//4\n",
       " 1//4"
      ]
     },
     "metadata": {},
     "output_type": "display_data"
    },
    {
     "name": "stdout",
     "output_type": "stream",
     "text": [
      " \n",
      " \n",
      "we obtain vertex 9815 of type 3 \n",
      " \n",
      "Rational{Int64}[1//1, 1//2, 1//2, -1//2, 1//2, -1//2, -1//2, 1//1, 0//1, 0//1, 0//1, -1//1, 0//1, 0//1, 0//1, 1//1] \n",
      " \n",
      "__________________ \n",
      " \n",
      "Using deterministic vertices: \n",
      " \n"
     ]
    },
    {
     "data": {
      "text/plain": [
       "16×4 Matrix{Rational{Int64}}:\n",
       "  1//1   1//1   1//1   1//1\n",
       "  1//1   1//1   1//1  -1//1\n",
       " -1//1   1//1  -1//1  -1//1\n",
       " -1//1  -1//1   1//1  -1//1\n",
       "  1//1   1//1   1//1  -1//1\n",
       "  1//1  -1//1   1//1   1//1\n",
       " -1//1  -1//1   1//1  -1//1\n",
       "  1//1   1//1   1//1   1//1\n",
       "  1//1  -1//1   1//1  -1//1\n",
       " -1//1  -1//1   1//1   1//1\n",
       " -1//1   1//1  -1//1   1//1\n",
       " -1//1  -1//1  -1//1  -1//1\n",
       "  1//1  -1//1  -1//1   1//1\n",
       " -1//1  -1//1   1//1   1//1\n",
       " -1//1   1//1   1//1  -1//1\n",
       "  1//1   1//1   1//1   1//1"
      ]
     },
     "metadata": {},
     "output_type": "display_data"
    },
    {
     "name": "stdout",
     "output_type": "stream",
     "text": [
      "'beta' values: Rational{Int64}[-1//1, -1//1, -1//1, -1//1]\n",
      "\n",
      "and convex mixture \n",
      " \n"
     ]
    },
    {
     "data": {
      "text/plain": [
       "4-element Vector{Rational{Int64}}:\n",
       " 1//4\n",
       " 1//4\n",
       " 1//4\n",
       " 1//4"
      ]
     },
     "metadata": {},
     "output_type": "display_data"
    },
    {
     "name": "stdout",
     "output_type": "stream",
     "text": [
      " \n",
      " \n",
      "we obtain vertex 15077 of type 3 \n",
      " \n",
      "Rational{Int64}[1//1, 1//2, -1//2, -1//2, 1//2, 1//2, -1//2, 1//1, 0//1, 0//1, 0//1, -1//1, 0//1, 0//1, 0//1, 1//1] \n",
      " \n",
      "__________________ \n",
      " \n",
      "______________________________________________________________ \n",
      " \n",
      "Vertex u2 \n",
      " \n",
      "Using deterministic vertices: \n",
      " \n"
     ]
    },
    {
     "data": {
      "text/plain": [
       "16×4 Matrix{Rational{Int64}}:\n",
       "  1//1   1//1   1//1   1//1\n",
       " -1//1  -1//1   1//1  -1//1\n",
       " -1//1   1//1   1//1   1//1\n",
       "  1//1   1//1   1//1   1//1\n",
       " -1//1  -1//1   1//1   1//1\n",
       "  1//1  -1//1  -1//1  -1//1\n",
       "  1//1  -1//1   1//1   1//1\n",
       "  1//1   1//1   1//1  -1//1\n",
       " -1//1   1//1  -1//1   1//1\n",
       " -1//1   1//1   1//1  -1//1\n",
       "  1//1  -1//1   1//1   1//1\n",
       " -1//1  -1//1  -1//1  -1//1\n",
       " -1//1  -1//1   1//1   1//1\n",
       " -1//1  -1//1   1//1   1//1\n",
       "  1//1  -1//1  -1//1  -1//1\n",
       "  1//1  -1//1   1//1   1//1"
      ]
     },
     "metadata": {},
     "output_type": "display_data"
    },
    {
     "name": "stdout",
     "output_type": "stream",
     "text": [
      "'beta' values: Rational{Int64}[-1//1, 1//1, -1//1, 1//1]\n",
      "\n",
      "and convex mixture \n",
      " \n"
     ]
    },
    {
     "data": {
      "text/plain": [
       "4-element Vector{Rational{Int64}}:\n",
       " 1//4\n",
       " 1//4\n",
       " 1//4\n",
       " 1//4"
      ]
     },
     "metadata": {},
     "output_type": "display_data"
    },
    {
     "name": "stdout",
     "output_type": "stream",
     "text": [
      " \n",
      " \n",
      "we obtain vertex 18353 of type 5 \n",
      " \n",
      "Rational{Int64}[1//1, -1//2, 1//2, 1//1, 0//1, -1//2, 1//2, 1//2, 0//1, 0//1, 1//2, -1//1, 0//1, 0//1, -1//2, 1//2] \n",
      " \n",
      "__________________ \n",
      " \n",
      "Using deterministic vertices: \n",
      " \n"
     ]
    },
    {
     "data": {
      "text/plain": [
       "16×4 Matrix{Rational{Int64}}:\n",
       "  1//1   1//1   1//1   1//1\n",
       " -1//1   1//1  -1//1   1//1\n",
       " -1//1  -1//1  -1//1  -1//1\n",
       "  1//1  -1//1  -1//1  -1//1\n",
       " -1//1   1//1  -1//1  -1//1\n",
       "  1//1   1//1   1//1   1//1\n",
       "  1//1   1//1  -1//1  -1//1\n",
       "  1//1   1//1   1//1  -1//1\n",
       " -1//1   1//1  -1//1   1//1\n",
       " -1//1   1//1   1//1  -1//1\n",
       "  1//1  -1//1   1//1   1//1\n",
       " -1//1  -1//1  -1//1  -1//1\n",
       " -1//1  -1//1   1//1   1//1\n",
       " -1//1  -1//1   1//1   1//1\n",
       "  1//1  -1//1  -1//1  -1//1\n",
       "  1//1  -1//1   1//1   1//1"
      ]
     },
     "metadata": {},
     "output_type": "display_data"
    },
    {
     "name": "stdout",
     "output_type": "stream",
     "text": [
      "'beta' values: Rational{Int64}[-1//1, 1//1, -1//1, 1//1]\n",
      "\n",
      "and convex mixture \n",
      " \n"
     ]
    },
    {
     "data": {
      "text/plain": [
       "4-element Vector{Rational{Int64}}:\n",
       " 1//4\n",
       " 1//4\n",
       " 1//4\n",
       " 1//4"
      ]
     },
     "metadata": {},
     "output_type": "display_data"
    },
    {
     "name": "stdout",
     "output_type": "stream",
     "text": [
      " \n",
      " \n",
      "we obtain vertex 11897 of type 3 \n",
      " \n",
      "Rational{Int64}[1//1, 0//1, -1//1, -1//2, -1//2, 1//1, 0//1, 1//2, 0//1, 0//1, 1//2, -1//1, 0//1, 0//1, -1//2, 1//2] \n",
      " \n",
      "__________________ \n",
      " \n",
      "Using deterministic vertices: \n",
      " \n"
     ]
    },
    {
     "data": {
      "text/plain": [
       "16×4 Matrix{Rational{Int64}}:\n",
       "  1//1   1//1   1//1   1//1\n",
       "  1//1  -1//1   1//1  -1//1\n",
       "  1//1   1//1   1//1   1//1\n",
       " -1//1   1//1   1//1   1//1\n",
       "  1//1  -1//1   1//1   1//1\n",
       " -1//1  -1//1  -1//1  -1//1\n",
       " -1//1  -1//1   1//1   1//1\n",
       "  1//1   1//1   1//1  -1//1\n",
       " -1//1   1//1  -1//1   1//1\n",
       " -1//1   1//1   1//1  -1//1\n",
       "  1//1  -1//1   1//1   1//1\n",
       " -1//1  -1//1  -1//1  -1//1\n",
       " -1//1  -1//1   1//1   1//1\n",
       " -1//1  -1//1   1//1   1//1\n",
       "  1//1  -1//1  -1//1  -1//1\n",
       "  1//1  -1//1   1//1   1//1"
      ]
     },
     "metadata": {},
     "output_type": "display_data"
    },
    {
     "name": "stdout",
     "output_type": "stream",
     "text": [
      "'beta' values: Rational{Int64}[-1//1, 1//1, -1//1, 1//1]\n",
      "\n",
      "and convex mixture \n",
      " \n"
     ]
    },
    {
     "data": {
      "text/plain": [
       "4-element Vector{Rational{Int64}}:\n",
       " 1//4\n",
       " 1//4\n",
       " 1//4\n",
       " 1//4"
      ]
     },
     "metadata": {},
     "output_type": "display_data"
    },
    {
     "name": "stdout",
     "output_type": "stream",
     "text": [
      " \n",
      " \n",
      "we obtain vertex 12931 of type 3 \n",
      " \n",
      "Rational{Int64}[1//1, 0//1, 1//1, 1//2, 1//2, -1//1, 0//1, 1//2, 0//1, 0//1, 1//2, -1//1, 0//1, 0//1, -1//2, 1//2] \n",
      " \n",
      "__________________ \n",
      " \n",
      "Using deterministic vertices: \n",
      " \n"
     ]
    },
    {
     "data": {
      "text/plain": [
       "16×4 Matrix{Rational{Int64}}:\n",
       "  1//1   1//1   1//1   1//1\n",
       "  1//1   1//1  -1//1   1//1\n",
       "  1//1  -1//1  -1//1  -1//1\n",
       " -1//1  -1//1  -1//1  -1//1\n",
       "  1//1   1//1  -1//1  -1//1\n",
       " -1//1   1//1   1//1   1//1\n",
       " -1//1   1//1  -1//1  -1//1\n",
       "  1//1   1//1   1//1  -1//1\n",
       " -1//1   1//1  -1//1   1//1\n",
       " -1//1   1//1   1//1  -1//1\n",
       "  1//1  -1//1   1//1   1//1\n",
       " -1//1  -1//1  -1//1  -1//1\n",
       " -1//1  -1//1   1//1   1//1\n",
       " -1//1  -1//1   1//1   1//1\n",
       "  1//1  -1//1  -1//1  -1//1\n",
       "  1//1  -1//1   1//1   1//1"
      ]
     },
     "metadata": {},
     "output_type": "display_data"
    },
    {
     "name": "stdout",
     "output_type": "stream",
     "text": [
      "'beta' values: Rational{Int64}[-1//1, 1//1, -1//1, 1//1]\n",
      "\n",
      "and convex mixture \n",
      " \n"
     ]
    },
    {
     "data": {
      "text/plain": [
       "4-element Vector{Rational{Int64}}:\n",
       " 1//4\n",
       " 1//4\n",
       " 1//4\n",
       " 1//4"
      ]
     },
     "metadata": {},
     "output_type": "display_data"
    },
    {
     "name": "stdout",
     "output_type": "stream",
     "text": [
      " \n",
      " \n",
      "we obtain vertex 6065 of type 5 \n",
      " \n",
      "Rational{Int64}[1//1, 1//2, -1//2, -1//1, 0//1, 1//2, -1//2, 1//2, 0//1, 0//1, 1//2, -1//1, 0//1, 0//1, -1//2, 1//2] \n",
      " \n",
      "__________________ \n",
      " \n",
      "______________________________________________________________ \n",
      " \n",
      "Using deterministic vertices: \n",
      " \n"
     ]
    },
    {
     "data": {
      "text/plain": [
       "16×4 Matrix{Rational{Int64}}:\n",
       "  1//1   1//1   1//1   1//1\n",
       " -1//1  -1//1  -1//1   1//1\n",
       "  1//1  -1//1  -1//1  -1//1\n",
       "  1//1   1//1  -1//1  -1//1\n",
       " -1//1  -1//1  -1//1  -1//1\n",
       " -1//1   1//1   1//1   1//1\n",
       "  1//1   1//1  -1//1   1//1\n",
       "  1//1   1//1   1//1  -1//1\n",
       "  1//1  -1//1  -1//1   1//1\n",
       " -1//1  -1//1   1//1   1//1\n",
       " -1//1   1//1   1//1   1//1\n",
       " -1//1  -1//1  -1//1  -1//1\n",
       "  1//1  -1//1   1//1  -1//1\n",
       " -1//1  -1//1   1//1   1//1\n",
       " -1//1   1//1  -1//1  -1//1\n",
       "  1//1   1//1   1//1  -1//1"
      ]
     },
     "metadata": {},
     "output_type": "display_data"
    },
    {
     "name": "stdout",
     "output_type": "stream",
     "text": [
      "'beta' values: Rational{Int64}[-1//1, -1//1, -1//1, -1//1]\n",
      "\n",
      "and convex mixture \n",
      " \n"
     ]
    },
    {
     "data": {
      "text/plain": [
       "4-element Vector{Rational{Int64}}:\n",
       " 1//4\n",
       " 1//4\n",
       " 1//4\n",
       " 1//4"
      ]
     },
     "metadata": {},
     "output_type": "display_data"
    },
    {
     "name": "stdout",
     "output_type": "stream",
     "text": [
      " \n",
      " \n",
      "we obtain vertex 3013 of type 5 \n",
      " \n",
      "Rational{Int64}[1//1, -1//2, -1//2, 0//1, -1//1, 1//2, 1//2, 1//2, 0//1, 0//1, 1//2, -1//1, 0//1, 0//1, -1//2, 1//2] \n",
      " \n",
      "__________________ \n",
      " \n",
      "Using deterministic vertices: \n",
      " \n"
     ]
    },
    {
     "data": {
      "text/plain": [
       "16×4 Matrix{Rational{Int64}}:\n",
       "  1//1   1//1   1//1   1//1\n",
       "  1//1   1//1   1//1  -1//1\n",
       " -1//1   1//1   1//1   1//1\n",
       " -1//1  -1//1   1//1   1//1\n",
       "  1//1   1//1   1//1   1//1\n",
       "  1//1  -1//1  -1//1  -1//1\n",
       " -1//1  -1//1   1//1  -1//1\n",
       "  1//1   1//1   1//1  -1//1\n",
       "  1//1  -1//1  -1//1   1//1\n",
       " -1//1  -1//1   1//1   1//1\n",
       " -1//1   1//1   1//1   1//1\n",
       " -1//1  -1//1  -1//1  -1//1\n",
       "  1//1  -1//1   1//1  -1//1\n",
       " -1//1  -1//1   1//1   1//1\n",
       " -1//1   1//1  -1//1  -1//1\n",
       "  1//1   1//1   1//1  -1//1"
      ]
     },
     "metadata": {},
     "output_type": "display_data"
    },
    {
     "name": "stdout",
     "output_type": "stream",
     "text": [
      "'beta' values: Rational{Int64}[-1//1, -1//1, -1//1, -1//1]\n",
      "\n",
      "and convex mixture \n",
      " \n"
     ]
    },
    {
     "data": {
      "text/plain": [
       "4-element Vector{Rational{Int64}}:\n",
       " 1//4\n",
       " 1//4\n",
       " 1//4\n",
       " 1//4"
      ]
     },
     "metadata": {},
     "output_type": "display_data"
    },
    {
     "name": "stdout",
     "output_type": "stream",
     "text": [
      " \n",
      " \n",
      "we obtain vertex 12707 of type 5 \n",
      " \n",
      "Rational{Int64}[1//1, 1//2, 1//2, 0//1, 1//1, -1//2, -1//2, 1//2, 0//1, 0//1, 1//2, -1//1, 0//1, 0//1, -1//2, 1//2] \n",
      " \n",
      "__________________ \n",
      " \n",
      "______________________________________________________________ \n",
      " \n",
      "______________________________________________________________ \n",
      " \n",
      "Vertex u3 \n",
      " \n",
      "Using deterministic vertices: \n",
      " \n"
     ]
    },
    {
     "data": {
      "text/plain": [
       "16×6 Matrix{Rational{Int64}}:\n",
       "  1//1   1//1   1//1   1//1   1//1   1//1\n",
       " -1//1  -1//1   1//1  -1//1  -1//1   1//1\n",
       "  1//1  -1//1  -1//1  -1//1  -1//1  -1//1\n",
       "  1//1   1//1   1//1  -1//1   1//1   1//1\n",
       " -1//1  -1//1   1//1  -1//1  -1//1  -1//1\n",
       " -1//1   1//1   1//1   1//1  -1//1   1//1\n",
       "  1//1   1//1   1//1  -1//1   1//1   1//1\n",
       "  1//1   1//1   1//1   1//1   1//1  -1//1\n",
       "  1//1  -1//1   1//1  -1//1   1//1   1//1\n",
       " -1//1  -1//1   1//1   1//1  -1//1   1//1\n",
       " -1//1   1//1  -1//1   1//1   1//1   1//1\n",
       " -1//1  -1//1  -1//1  -1//1   1//1  -1//1\n",
       "  1//1  -1//1  -1//1   1//1  -1//1  -1//1\n",
       " -1//1  -1//1   1//1   1//1  -1//1  -1//1\n",
       " -1//1   1//1   1//1  -1//1  -1//1   1//1\n",
       "  1//1   1//1   1//1   1//1   1//1   1//1"
      ]
     },
     "metadata": {},
     "output_type": "display_data"
    },
    {
     "name": "stdout",
     "output_type": "stream",
     "text": [
      "'beta' values: Rational{Int64}[-1//1, -1//1, -1//1, -1//1, 1//1, 1//1]\n",
      "\n",
      "and convex mixture \n",
      " \n"
     ]
    },
    {
     "data": {
      "text/plain": [
       "6-element Vector{Rational{Int64}}:\n",
       " 1//6\n",
       " 1//6\n",
       " 1//6\n",
       " 1//6\n",
       " 1//6\n",
       " 1//6"
      ]
     },
     "metadata": {},
     "output_type": "display_data"
    },
    {
     "name": "stdout",
     "output_type": "stream",
     "text": [
      " \n",
      " \n",
      "we obtain vertex 14485 of type 7 \n",
      " \n",
      "Rational{Int64}[1//1, -1//3, -2//3, 2//3, -2//3, 1//3, 2//3, 2//3, 1//3, 0//1, 1//3, -2//3, -1//3, -1//3, 0//1, 1//1] \n",
      " \n",
      "__________________ \n",
      " \n",
      "Using deterministic vertices: \n",
      " \n"
     ]
    },
    {
     "data": {
      "text/plain": [
       "16×6 Matrix{Rational{Int64}}:\n",
       "  1//1   1//1   1//1   1//1   1//1   1//1\n",
       "  1//1   1//1  -1//1   1//1   1//1  -1//1\n",
       " -1//1   1//1   1//1   1//1   1//1   1//1\n",
       " -1//1  -1//1  -1//1   1//1  -1//1  -1//1\n",
       "  1//1   1//1  -1//1   1//1   1//1   1//1\n",
       "  1//1  -1//1  -1//1  -1//1   1//1  -1//1\n",
       " -1//1  -1//1  -1//1   1//1  -1//1  -1//1\n",
       "  1//1   1//1   1//1   1//1   1//1  -1//1\n",
       "  1//1  -1//1   1//1  -1//1   1//1   1//1\n",
       " -1//1  -1//1   1//1   1//1  -1//1   1//1\n",
       " -1//1   1//1  -1//1   1//1   1//1   1//1\n",
       " -1//1  -1//1  -1//1  -1//1   1//1  -1//1\n",
       "  1//1  -1//1  -1//1   1//1  -1//1  -1//1\n",
       " -1//1  -1//1   1//1   1//1  -1//1  -1//1\n",
       " -1//1   1//1   1//1  -1//1  -1//1   1//1\n",
       "  1//1   1//1   1//1   1//1   1//1   1//1"
      ]
     },
     "metadata": {},
     "output_type": "display_data"
    },
    {
     "name": "stdout",
     "output_type": "stream",
     "text": [
      "'beta' values: Rational{Int64}[-1//1, -1//1, -1//1, -1//1, 1//1, 1//1]\n",
      "\n",
      "and convex mixture \n",
      " \n"
     ]
    },
    {
     "data": {
      "text/plain": [
       "6-element Vector{Rational{Int64}}:\n",
       " 1//6\n",
       " 1//6\n",
       " 1//6\n",
       " 1//6\n",
       " 1//6\n",
       " 1//6"
      ]
     },
     "metadata": {},
     "output_type": "display_data"
    },
    {
     "name": "stdout",
     "output_type": "stream",
     "text": [
      " \n",
      " \n",
      "we obtain vertex 11606 of type 7 \n",
      " \n",
      "Rational{Int64}[1//1, 1//3, 2//3, -2//3, 2//3, -1//3, -2//3, 2//3, 1//3, 0//1, 1//3, -2//3, -1//3, -1//3, 0//1, 1//1] \n",
      " \n",
      "__________________ \n",
      " \n",
      "______________________________________________________________ \n",
      " \n"
     ]
    }
   ],
   "source": [
    "classical_vertices = [[ ] for i in 1:4];\n",
    "\n",
    "# Lift each vertex ui of MPb:\n",
    "for i in 1:4\n",
    "    println(\"Vertex u\"*string(i-1)*\" \\n \")\n",
    "    preimages_array = [];\n",
    "    \n",
    "    # find preimages of Cb vertices:\n",
    "    for j in 1:size(cd_array[i][1])[2]\n",
    "        \n",
    "        # define vertex of Cb:\n",
    "        delta = cd_array[i][1][2:end,j];\n",
    "        \n",
    "        # find elements of D that project to delta\n",
    "        preimage_idx = [k for k in 1:size(D_array)[1] if (D_array[k,8:16] == delta)]\n",
    "        \n",
    "        # create matrix of preimages:\n",
    "        preimage = transpose(Matrix{Rational{Int64}}(D[preimage_idx,:]));\n",
    "        push!(preimages_array,preimage);\n",
    "    end\n",
    "    \n",
    "    \n",
    "    # perform convex combinations:\n",
    "    for k in 1:size(cd_array[i][2])[1]\n",
    "        vertices_in_decomposition = findall(y->y != 0,cd_array[i][2][k,2:end])\n",
    "        \n",
    "        # number of combinations:\n",
    "        bit_strings = all_dit_strings(2,length(vertices_in_decomposition));\n",
    "        for x in bit_strings\n",
    "            # preimages used:\n",
    "            subset_of_preimages = preimages_array[vertices_in_decomposition]\n",
    "            \n",
    "            # initialize matrix of vertices in decomposition:\n",
    "            R = subset_of_preimages[1][:,x[1]+1];\n",
    "            for j in 2:length(subset_of_preimages)\n",
    "                R = hcat(R,subset_of_preimages[j][:,(x[j]+1)])\n",
    "            end\n",
    "            \n",
    "            # parameters of convex mixture\n",
    "            mixture = (cd_array[i][2][k,2:end])[vertices_in_decomposition]\n",
    "            # classical distribution:\n",
    "            v = R*mixture;\n",
    "            # rank of distribution:\n",
    "            Zv = tight_inequalities(v, M); rank_Mv = rank(M[Zv,:]);\n",
    "            if rank_Mv == 15\n",
    "                v_idx = findall(y->y == v,L2_array)[1]\n",
    "                for t in 1:8\n",
    "                    if v_idx in L2_orbits[t]\n",
    "                        pair = [v,t];\n",
    "                        if (pair in classical_vertices[i]) == false\n",
    "                            push!(classical_vertices[i],pair)\n",
    "                            println(\"Using deterministic vertices: \\n \");\n",
    "                            display(R)\n",
    "                            println(\"'beta' values: \",[(R[8,c]*R[12,c]*R[16,c]) for c in 1:size(R)[2]],\"\\n\")\n",
    "                            println(\"and convex mixture \\n \")\n",
    "                            display((mixture)); println(\" \\n \")\n",
    "                            println(\"we obtain vertex \"*string(v_idx)*\" of type \"*string(t)*\" \\n \")\n",
    "                            println(v, \" \\n \")\n",
    "                            println(\"__________________ \\n \")\n",
    "                        end\n",
    "                    end\n",
    "                end\n",
    "            end\n",
    "        end\n",
    "        println(\"______________________________________________________________ \\n \")\n",
    "    end\n",
    "    \n",
    "    # remove redundant vertices:\n",
    "    classical_vertices[i] = collect(Set(classical_vertices[i]));\n",
    "end"
   ]
  }
 ],
 "metadata": {
  "kernelspec": {
   "display_name": "Julia 1.10.2",
   "language": "julia",
   "name": "julia-1.10"
  },
  "language_info": {
   "file_extension": ".jl",
   "mimetype": "application/julia",
   "name": "julia",
   "version": "1.10.2"
  }
 },
 "nbformat": 4,
 "nbformat_minor": 2
}
